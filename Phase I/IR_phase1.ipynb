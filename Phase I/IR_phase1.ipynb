{
 "cells": [
  {
   "cell_type": "markdown",
   "metadata": {
    "id": "QIUAEpIo4NZm"
   },
   "source": [
    "## PHASE I"
   ]
  },
  {
   "cell_type": "code",
   "execution_count": null,
   "metadata": {
    "id": "mRgP16Yvkdr-"
   },
   "outputs": [],
   "source": [
    "pip install hazm"
   ]
  },
  {
   "cell_type": "code",
   "execution_count": 1,
   "metadata": {
    "id": "st5Bw-zmx2Qf"
   },
   "outputs": [],
   "source": [
    "from __future__ import unicode_literals\n",
    "import pandas as pd\n",
    "import numpy as np\n",
    "from hazm import *\n",
    "import collections \n",
    "import string\n",
    "import operator\n",
    "import datetime\n",
    "import json\n",
    "import math\n",
    "import copy"
   ]
  },
  {
   "cell_type": "code",
   "execution_count": null,
   "metadata": {
    "id": "22M5ZSWfzzKl"
   },
   "outputs": [],
   "source": [
    "# this is for reading from the google cloud\n",
    "!pip install -U -q PyDrive\n",
    "from pydrive.auth import GoogleAuth\n",
    "from pydrive.drive import GoogleDrive\n",
    "from google.colab import auth\n",
    "from oauth2client.client import GoogleCredentials\n",
    "\n",
    "auth.authenticate_user()\n",
    "gauth = GoogleAuth()\n",
    "gauth.credentials = GoogleCredentials.get_application_default()\n",
    "drive = GoogleDrive(gauth)\n",
    "\n",
    "file_id = '1jcbbbPTNnQ3NKrPJJL_oc9vrFvHH4UuR'\n",
    "downloaded = drive.CreateFile({'id': file_id})"
   ]
  },
  {
   "cell_type": "code",
   "execution_count": null,
   "metadata": {
    "id": "pWQb8M-G0lNd"
   },
   "outputs": [],
   "source": [
    "downloaded.GetContentFile('/IR1_7k_news.xlsx')"
   ]
  },
  {
   "cell_type": "code",
   "execution_count": 5,
   "metadata": {
    "id": "Fc6yuDCtyi3L"
   },
   "outputs": [
    {
     "name": "stdout",
     "output_type": "stream",
     "text": [
      "به گزارش خبرگزاری فارس از **اصفهان،** دیدار تیم‌های ذوب‌آهن و استقلال با 2 گل\n",
      "به سود شاگردان [فرهاد مجیدی](https://www.farsnews.ir/special/فرهاد مجیدی) به\n",
      "پایان رسید.\n",
      "\n",
      "بعد از این مسابقه [رشید مظاهری](https://search.farsnews.ir/?q=رشید\n",
      "مظاهری&o=on) در رختکن ذوب‌آهن حاضر شد و با بازیکنان تیم میزبان خوش وبش کرد.\n",
      "مظاهری بعد از خروج از رختکن به درخواست خبرنگاران برای مصاحبه پاسخ منفی داد و\n",
      "گفت آنقدر مشکل روحی و روانی دارم که اصلاً نمی‌توانم مصاحبه کنم.\n",
      "\n",
      "به گزارش فارس، ظاهراً طی روزهای گذشته مشکلاتی برای دروازه‌بان استقلال در\n",
      "تمرینات این تیم به وجود آمده که وی [به صورت](https://search.farsnews.ir/?q=به\n",
      "صورت&o=on) سربسته مقابل خبرنگاران به این موضوع اشاره کرده است.\n",
      "\n",
      "انتهای پیام/\n",
      "\n",
      "\n"
     ]
    },
    {
     "ename": "error",
     "evalue": "bad escape \\u at position 0",
     "output_type": "error",
     "traceback": [
      "\u001b[1;31m---------------------------------------------------------------------------\u001b[0m",
      "\u001b[1;31mKeyError\u001b[0m                                  Traceback (most recent call last)",
      "\u001b[1;32mc:\\users\\mohammad reza\\appdata\\local\\programs\\python\\python39\\lib\\sre_parse.py\u001b[0m in \u001b[0;36mparse_template\u001b[1;34m(source, state)\u001b[0m\n\u001b[0;32m   1038\u001b[0m                 \u001b[1;32mtry\u001b[0m\u001b[1;33m:\u001b[0m\u001b[1;33m\u001b[0m\u001b[1;33m\u001b[0m\u001b[0m\n\u001b[1;32m-> 1039\u001b[1;33m                     \u001b[0mthis\u001b[0m \u001b[1;33m=\u001b[0m \u001b[0mchr\u001b[0m\u001b[1;33m(\u001b[0m\u001b[0mESCAPES\u001b[0m\u001b[1;33m[\u001b[0m\u001b[0mthis\u001b[0m\u001b[1;33m]\u001b[0m\u001b[1;33m[\u001b[0m\u001b[1;36m1\u001b[0m\u001b[1;33m]\u001b[0m\u001b[1;33m)\u001b[0m\u001b[1;33m\u001b[0m\u001b[1;33m\u001b[0m\u001b[0m\n\u001b[0m\u001b[0;32m   1040\u001b[0m                 \u001b[1;32mexcept\u001b[0m \u001b[0mKeyError\u001b[0m\u001b[1;33m:\u001b[0m\u001b[1;33m\u001b[0m\u001b[1;33m\u001b[0m\u001b[0m\n",
      "\u001b[1;31mKeyError\u001b[0m: '\\\\u'",
      "\nDuring handling of the above exception, another exception occurred:\n",
      "\u001b[1;31merror\u001b[0m                                     Traceback (most recent call last)",
      "\u001b[1;32mC:\\Users\\MOHAMM~1\\AppData\\Local\\Temp/ipykernel_7828/1590614714.py\u001b[0m in \u001b[0;36m<module>\u001b[1;34m\u001b[0m\n\u001b[0;32m      8\u001b[0m \u001b[0mprint\u001b[0m\u001b[1;33m(\u001b[0m\u001b[0mcontent\u001b[0m\u001b[1;33m[\u001b[0m\u001b[1;36m11\u001b[0m\u001b[1;33m]\u001b[0m\u001b[1;33m)\u001b[0m\u001b[1;33m\u001b[0m\u001b[1;33m\u001b[0m\u001b[0m\n\u001b[0;32m      9\u001b[0m \u001b[1;32mfor\u001b[0m \u001b[0mi\u001b[0m \u001b[1;32min\u001b[0m \u001b[0mrange\u001b[0m\u001b[1;33m(\u001b[0m\u001b[0mlen\u001b[0m\u001b[1;33m(\u001b[0m\u001b[0mcontent\u001b[0m\u001b[1;33m)\u001b[0m\u001b[1;33m)\u001b[0m\u001b[1;33m:\u001b[0m\u001b[1;33m\u001b[0m\u001b[1;33m\u001b[0m\u001b[0m\n\u001b[1;32m---> 10\u001b[1;33m   \u001b[0mcontent\u001b[0m\u001b[1;33m[\u001b[0m\u001b[0mi\u001b[0m\u001b[1;33m]\u001b[0m \u001b[1;33m=\u001b[0m \u001b[0mnormalizer\u001b[0m\u001b[1;33m.\u001b[0m\u001b[0mnormalize\u001b[0m\u001b[1;33m(\u001b[0m\u001b[0mcontent\u001b[0m\u001b[1;33m[\u001b[0m\u001b[0mi\u001b[0m\u001b[1;33m]\u001b[0m\u001b[1;33m)\u001b[0m\u001b[1;33m\u001b[0m\u001b[1;33m\u001b[0m\u001b[0m\n\u001b[0m\u001b[0;32m     11\u001b[0m \u001b[0mcopy_content\u001b[0m \u001b[1;33m=\u001b[0m \u001b[0mcontent\u001b[0m\u001b[1;33m\u001b[0m\u001b[1;33m\u001b[0m\u001b[0m\n\u001b[0;32m     12\u001b[0m \u001b[0mprint\u001b[0m\u001b[1;33m(\u001b[0m\u001b[0mcontent\u001b[0m\u001b[1;33m[\u001b[0m\u001b[1;36m11\u001b[0m\u001b[1;33m]\u001b[0m\u001b[1;33m)\u001b[0m\u001b[1;33m\u001b[0m\u001b[1;33m\u001b[0m\u001b[0m\n",
      "\u001b[1;32mc:\\users\\mohammad reza\\appdata\\local\\programs\\python\\python39\\lib\\site-packages\\hazm\\Normalizer.py\u001b[0m in \u001b[0;36mnormalize\u001b[1;34m(self, text)\u001b[0m\n\u001b[0;32m     73\u001b[0m \u001b[1;33m\u001b[0m\u001b[0m\n\u001b[0;32m     74\u001b[0m         \u001b[1;32mdef\u001b[0m \u001b[0mnormalize\u001b[0m\u001b[1;33m(\u001b[0m\u001b[0mself\u001b[0m\u001b[1;33m,\u001b[0m \u001b[0mtext\u001b[0m\u001b[1;33m)\u001b[0m\u001b[1;33m:\u001b[0m\u001b[1;33m\u001b[0m\u001b[1;33m\u001b[0m\u001b[0m\n\u001b[1;32m---> 75\u001b[1;33m                 \u001b[0mtext\u001b[0m \u001b[1;33m=\u001b[0m \u001b[0mself\u001b[0m\u001b[1;33m.\u001b[0m\u001b[0mcharacter_refinement\u001b[0m\u001b[1;33m(\u001b[0m\u001b[0mtext\u001b[0m\u001b[1;33m)\u001b[0m\u001b[1;33m\u001b[0m\u001b[1;33m\u001b[0m\u001b[0m\n\u001b[0m\u001b[0;32m     76\u001b[0m                 \u001b[1;32mif\u001b[0m \u001b[0mself\u001b[0m\u001b[1;33m.\u001b[0m\u001b[0m_affix_spacing\u001b[0m\u001b[1;33m:\u001b[0m\u001b[1;33m\u001b[0m\u001b[1;33m\u001b[0m\u001b[0m\n\u001b[0;32m     77\u001b[0m                         \u001b[0mtext\u001b[0m \u001b[1;33m=\u001b[0m \u001b[0mself\u001b[0m\u001b[1;33m.\u001b[0m\u001b[0maffix_spacing\u001b[0m\u001b[1;33m(\u001b[0m\u001b[0mtext\u001b[0m\u001b[1;33m)\u001b[0m\u001b[1;33m\u001b[0m\u001b[1;33m\u001b[0m\u001b[0m\n",
      "\u001b[1;32mc:\\users\\mohammad reza\\appdata\\local\\programs\\python\\python39\\lib\\site-packages\\hazm\\Normalizer.py\u001b[0m in \u001b[0;36mcharacter_refinement\u001b[1;34m(self, text)\u001b[0m\n\u001b[0;32m    104\u001b[0m                 \u001b[0mtext\u001b[0m \u001b[1;33m=\u001b[0m \u001b[0mtext\u001b[0m\u001b[1;33m.\u001b[0m\u001b[0mtranslate\u001b[0m\u001b[1;33m(\u001b[0m\u001b[0mself\u001b[0m\u001b[1;33m.\u001b[0m\u001b[0mtranslations\u001b[0m\u001b[1;33m)\u001b[0m\u001b[1;33m\u001b[0m\u001b[1;33m\u001b[0m\u001b[0m\n\u001b[0;32m    105\u001b[0m                 \u001b[1;32mfor\u001b[0m \u001b[0mpattern\u001b[0m\u001b[1;33m,\u001b[0m \u001b[0mrepl\u001b[0m \u001b[1;32min\u001b[0m \u001b[0mself\u001b[0m\u001b[1;33m.\u001b[0m\u001b[0mcharacter_refinement_patterns\u001b[0m\u001b[1;33m:\u001b[0m\u001b[1;33m\u001b[0m\u001b[1;33m\u001b[0m\u001b[0m\n\u001b[1;32m--> 106\u001b[1;33m                         \u001b[0mtext\u001b[0m \u001b[1;33m=\u001b[0m \u001b[0mpattern\u001b[0m\u001b[1;33m.\u001b[0m\u001b[0msub\u001b[0m\u001b[1;33m(\u001b[0m\u001b[0mrepl\u001b[0m\u001b[1;33m,\u001b[0m \u001b[0mtext\u001b[0m\u001b[1;33m)\u001b[0m\u001b[1;33m\u001b[0m\u001b[1;33m\u001b[0m\u001b[0m\n\u001b[0m\u001b[0;32m    107\u001b[0m                 \u001b[1;32mreturn\u001b[0m \u001b[0mtext\u001b[0m\u001b[1;33m\u001b[0m\u001b[1;33m\u001b[0m\u001b[0m\n\u001b[0;32m    108\u001b[0m \u001b[1;33m\u001b[0m\u001b[0m\n",
      "\u001b[1;32mc:\\users\\mohammad reza\\appdata\\local\\programs\\python\\python39\\lib\\re.py\u001b[0m in \u001b[0;36m_subx\u001b[1;34m(pattern, template)\u001b[0m\n\u001b[0;32m    325\u001b[0m \u001b[1;32mdef\u001b[0m \u001b[0m_subx\u001b[0m\u001b[1;33m(\u001b[0m\u001b[0mpattern\u001b[0m\u001b[1;33m,\u001b[0m \u001b[0mtemplate\u001b[0m\u001b[1;33m)\u001b[0m\u001b[1;33m:\u001b[0m\u001b[1;33m\u001b[0m\u001b[1;33m\u001b[0m\u001b[0m\n\u001b[0;32m    326\u001b[0m     \u001b[1;31m# internal: Pattern.sub/subn implementation helper\u001b[0m\u001b[1;33m\u001b[0m\u001b[1;33m\u001b[0m\u001b[1;33m\u001b[0m\u001b[0m\n\u001b[1;32m--> 327\u001b[1;33m     \u001b[0mtemplate\u001b[0m \u001b[1;33m=\u001b[0m \u001b[0m_compile_repl\u001b[0m\u001b[1;33m(\u001b[0m\u001b[0mtemplate\u001b[0m\u001b[1;33m,\u001b[0m \u001b[0mpattern\u001b[0m\u001b[1;33m)\u001b[0m\u001b[1;33m\u001b[0m\u001b[1;33m\u001b[0m\u001b[0m\n\u001b[0m\u001b[0;32m    328\u001b[0m     \u001b[1;32mif\u001b[0m \u001b[1;32mnot\u001b[0m \u001b[0mtemplate\u001b[0m\u001b[1;33m[\u001b[0m\u001b[1;36m0\u001b[0m\u001b[1;33m]\u001b[0m \u001b[1;32mand\u001b[0m \u001b[0mlen\u001b[0m\u001b[1;33m(\u001b[0m\u001b[0mtemplate\u001b[0m\u001b[1;33m[\u001b[0m\u001b[1;36m1\u001b[0m\u001b[1;33m]\u001b[0m\u001b[1;33m)\u001b[0m \u001b[1;33m==\u001b[0m \u001b[1;36m1\u001b[0m\u001b[1;33m:\u001b[0m\u001b[1;33m\u001b[0m\u001b[1;33m\u001b[0m\u001b[0m\n\u001b[0;32m    329\u001b[0m         \u001b[1;31m# literal replacement\u001b[0m\u001b[1;33m\u001b[0m\u001b[1;33m\u001b[0m\u001b[1;33m\u001b[0m\u001b[0m\n",
      "\u001b[1;32mc:\\users\\mohammad reza\\appdata\\local\\programs\\python\\python39\\lib\\re.py\u001b[0m in \u001b[0;36m_compile_repl\u001b[1;34m(repl, pattern)\u001b[0m\n\u001b[0;32m    316\u001b[0m \u001b[1;32mdef\u001b[0m \u001b[0m_compile_repl\u001b[0m\u001b[1;33m(\u001b[0m\u001b[0mrepl\u001b[0m\u001b[1;33m,\u001b[0m \u001b[0mpattern\u001b[0m\u001b[1;33m)\u001b[0m\u001b[1;33m:\u001b[0m\u001b[1;33m\u001b[0m\u001b[1;33m\u001b[0m\u001b[0m\n\u001b[0;32m    317\u001b[0m     \u001b[1;31m# internal: compile replacement pattern\u001b[0m\u001b[1;33m\u001b[0m\u001b[1;33m\u001b[0m\u001b[1;33m\u001b[0m\u001b[0m\n\u001b[1;32m--> 318\u001b[1;33m     \u001b[1;32mreturn\u001b[0m \u001b[0msre_parse\u001b[0m\u001b[1;33m.\u001b[0m\u001b[0mparse_template\u001b[0m\u001b[1;33m(\u001b[0m\u001b[0mrepl\u001b[0m\u001b[1;33m,\u001b[0m \u001b[0mpattern\u001b[0m\u001b[1;33m)\u001b[0m\u001b[1;33m\u001b[0m\u001b[1;33m\u001b[0m\u001b[0m\n\u001b[0m\u001b[0;32m    319\u001b[0m \u001b[1;33m\u001b[0m\u001b[0m\n\u001b[0;32m    320\u001b[0m \u001b[1;32mdef\u001b[0m \u001b[0m_expand\u001b[0m\u001b[1;33m(\u001b[0m\u001b[0mpattern\u001b[0m\u001b[1;33m,\u001b[0m \u001b[0mmatch\u001b[0m\u001b[1;33m,\u001b[0m \u001b[0mtemplate\u001b[0m\u001b[1;33m)\u001b[0m\u001b[1;33m:\u001b[0m\u001b[1;33m\u001b[0m\u001b[1;33m\u001b[0m\u001b[0m\n",
      "\u001b[1;32mc:\\users\\mohammad reza\\appdata\\local\\programs\\python\\python39\\lib\\sre_parse.py\u001b[0m in \u001b[0;36mparse_template\u001b[1;34m(source, state)\u001b[0m\n\u001b[0;32m   1040\u001b[0m                 \u001b[1;32mexcept\u001b[0m \u001b[0mKeyError\u001b[0m\u001b[1;33m:\u001b[0m\u001b[1;33m\u001b[0m\u001b[1;33m\u001b[0m\u001b[0m\n\u001b[0;32m   1041\u001b[0m                     \u001b[1;32mif\u001b[0m \u001b[0mc\u001b[0m \u001b[1;32min\u001b[0m \u001b[0mASCIILETTERS\u001b[0m\u001b[1;33m:\u001b[0m\u001b[1;33m\u001b[0m\u001b[1;33m\u001b[0m\u001b[0m\n\u001b[1;32m-> 1042\u001b[1;33m                         \u001b[1;32mraise\u001b[0m \u001b[0ms\u001b[0m\u001b[1;33m.\u001b[0m\u001b[0merror\u001b[0m\u001b[1;33m(\u001b[0m\u001b[1;34m'bad escape %s'\u001b[0m \u001b[1;33m%\u001b[0m \u001b[0mthis\u001b[0m\u001b[1;33m,\u001b[0m \u001b[0mlen\u001b[0m\u001b[1;33m(\u001b[0m\u001b[0mthis\u001b[0m\u001b[1;33m)\u001b[0m\u001b[1;33m)\u001b[0m\u001b[1;33m\u001b[0m\u001b[1;33m\u001b[0m\u001b[0m\n\u001b[0m\u001b[0;32m   1043\u001b[0m                 \u001b[0mlappend\u001b[0m\u001b[1;33m(\u001b[0m\u001b[0mthis\u001b[0m\u001b[1;33m)\u001b[0m\u001b[1;33m\u001b[0m\u001b[1;33m\u001b[0m\u001b[0m\n\u001b[0;32m   1044\u001b[0m         \u001b[1;32melse\u001b[0m\u001b[1;33m:\u001b[0m\u001b[1;33m\u001b[0m\u001b[1;33m\u001b[0m\u001b[0m\n",
      "\u001b[1;31merror\u001b[0m: bad escape \\u at position 0"
     ]
    }
   ],
   "source": [
    "# read data\n",
    "df = pd.read_excel(\"./IR1_7k_news.xlsx\")\n",
    "urls = df['url']\n",
    "content = df['content']\n",
    "title = df['title']\n",
    "# normalize data by use hazm\n",
    "normalizer = Normalizer()\n",
    "print(content[11])\n",
    "for i in range(len(content)):\n",
    "  content[i] = normalizer.normalize(content[i])\n",
    "copy_content = content\n",
    "print(content[11])"
   ]
  },
  {
   "cell_type": "code",
   "execution_count": 5,
   "metadata": {
    "id": "RN44N6fh0YXD"
   },
   "outputs": [],
   "source": [
    "punctuation  = [ '+','=', '-' , '*' , '.' ,'?', '[', ']','(',')','{','}','<','>', '«' , '»' ,':' , \"؟\", \"؛\" , \"،\", \"،\" ]\n",
    "signs = [ '!' , '@' , '#' , '$' , '%' , '^' , '&' , '*', '_', '\\\\' , '/' , '//' , '|' , \"…\" , \"–\" ,\"_\" , \"   \"]\n",
    "numbers = ['۰' , '۱', '۲','۳', '۴', '۵','۶','۷','۸','۹']\n",
    "signs_ir = ['٪' , ',' , '_','–' , '٫' , '\"' ]\n",
    "img_src = ['UFITNPF']\n",
    "end = ['انتهای پیام']\n",
    "# some_unknown_char = ['\\u200c' , '\\u200d' , '\\u200e' , '\\u200f']\n",
    "english = list(string.ascii_lowercase) + list(string.ascii_uppercase)\n",
    "not_used = punctuation + signs + numbers + signs_ir + img_src + english + end "
   ]
  },
  {
   "cell_type": "markdown",
   "metadata": {
    "id": "L_oW7PrLdCeU"
   },
   "source": [
    "اینجا در ابتدا میبایستی ما یکسری از حروف‌های بلا استفاده رو حذف کنیم"
   ]
  },
  {
   "cell_type": "code",
   "execution_count": null,
   "metadata": {
    "id": "tCh0qhUXz28z"
   },
   "outputs": [],
   "source": [
    "# Make the change for the not_used word for us\n",
    "for i in range(len(content)):\n",
    "    for l in not_used:\n",
    "        content[i] = content[i].replace(l,\"\")\n"
   ]
  },
  {
   "cell_type": "code",
   "execution_count": null,
   "metadata": {
    "id": "IcxQwiX7_nu0"
   },
   "outputs": [],
   "source": [
    "# make copy from the content that preprocess them (it used ^_^)\n",
    "preprocess_content =copy.deepcopy(content)"
   ]
  },
  {
   "cell_type": "code",
   "execution_count": null,
   "metadata": {
    "colab": {
     "base_uri": "https://localhost:8080/"
    },
    "id": "O5L132YOnyL8",
    "outputId": "3867c2d8-d857-47f9-a3c2-7a70e741366b"
   },
   "outputs": [
    {
     "name": "stdout",
     "output_type": "stream",
     "text": [
      "به گزارش خبرگزاری فارس از اصفهان  دیدار تیم‌های ذوب‌آهن و استقلال با  گل\n",
      "به سود شاگردان فرهاد مجیدی فرهاد مجیدی به\n",
      "پایان رسید \n",
      "\n",
      "بعد از این مسابقه رشید مظاهری رشید\n",
      "مظاهری در رختکن ذوب‌آهن حاضر شد و با بازیکنان تیم میزبان خوش وبش کرد \n",
      "مظاهری بعد از خروج از رختکن به درخواست خبرنگاران برای مصاحبه پاسخ منفی داد و\n",
      "گفت آنقدر مشکل روحی و روانی دارم که اصلا نمی‌توانم مصاحبه کنم \n",
      "\n",
      "به گزارش فارس ظاهرا طی روزهای گذشته مشکلاتی برای دروازه‌بان استقلال در\n",
      "تمرینات این تیم به وجود آمده که وی به صورت به\n",
      "صورت سربسته مقابل خبرنگاران به این موضوع اشاره کرده است \n",
      "\n",
      "\n",
      "\n",
      "\n",
      "به گزارش خبرگزاری فارس از اصفهان مسعود ابراهیم‌زاده پس از شکست خانگی\n",
      "ذوب‌آهن مقابل استقلال در هفته دوم لیگ برتر اظهار داشت به تیم استقلال تبریک\n",
      "می‌گویم بازی خوب و جانداری بود موقعیت‌های\n",
      " خوبی خوبی داشتیم اما فوتبال روز بدش را\n",
      "به ما نشان داد در نیمه اول سه موقعیت تک به تک را نزدیم تیم جوانی داریم و\n",
      "بچه‌ها برای اولین‌بار مقابل استقلال بازی می‌کردند استرس داشتند اما روز به روز\n",
      "بهتر می‌شویم حق‌مان باخت نبود ان‌شاءالله در آینده جبران می‌کنیم \n",
      "\n",
      "وی در مورد بستن بازوبند کاپیتانی ذوب‌آهن گفت ‌ این بازوبند دست کسانی بوده که\n",
      "از نظر اخلاقی و فوتبالی بزرگتر از من هستند قاسم حدادی‌فر دوست و بزرگتر صاحب\n",
      "ذوب‌آهن است ان‌شا‌ءالله بتوانم امانتدار خوبی باشم و به ذوب‌آهن کمک کنم این\n",
      "تیم دو سال سخت داشت امیدوارم امسال بهترین سال ذوب‌آهن باشد به این باخت نگاه\n",
      "نکنید \n",
      "\n",
      "ابراهیم‌زاده با اشاره به حضور تارتار در ذوب‌آهن تصریح کرد تارتار را همه\n",
      "می‌شناسند تیم با سبک بازی هجومی و پرس از بالا کار می‌کند نظم دارد ذوب‌آهن\n",
      "حرف‌های زیادی برای گفتن خواهد داشت ان‌شاءالله  و خیلی از چیزهای دیگر به\n",
      "فوتبال ما بیاید فکر می‌کنم گل دوم استقلال شاید آفساید بود به هر حال دیگر\n",
      "گذشت \n",
      "\n",
      "\n",
      "\n",
      "\n"
     ]
    }
   ],
   "source": [
    "print(content[11])\n",
    "print(content[9])"
   ]
  },
  {
   "cell_type": "code",
   "execution_count": null,
   "metadata": {
    "colab": {
     "base_uri": "https://localhost:8080/",
     "height": 35
    },
    "id": "0k-3WtctvQLC",
    "outputId": "71f84560-e8fb-486b-bc25-289406f5ea2b"
   },
   "outputs": [
    {
     "data": {
      "application/vnd.google.colaboratory.intrinsic+json": {
       "type": "string"
      },
      "text/plain": [
       "'اعلا'"
      ]
     },
     "execution_count": 38,
     "metadata": {},
     "output_type": "execute_result"
    }
   ],
   "source": [
    "# make the stem of the word\n",
    "lstemmer = Stemmer()\n",
    "lstemmer.stem('اعلام')"
   ]
  },
  {
   "cell_type": "code",
   "execution_count": null,
   "metadata": {
    "colab": {
     "base_uri": "https://localhost:8080/"
    },
    "id": "E_ES17OzgDed",
    "outputId": "c51ebb87-0b13-492c-d642-6c1c059d4250"
   },
   "outputs": [
    {
     "name": "stdout",
     "output_type": "stream",
     "text": [
      "['ساخت', 'ساز']\n"
     ]
    }
   ],
   "source": [
    "# the verb stem\n",
    "lemmatizer = Lemmatizer()\n",
    "verbs = lemmatizer.lemmatize('سازم')\n",
    "x = verbs.split('#')\n",
    "print(x)"
   ]
  },
  {
   "cell_type": "code",
   "execution_count": null,
   "metadata": {
    "id": "Bk-Dijh7vmFh"
   },
   "outputs": [],
   "source": [
    "# get tokenize by using the hazm word tokenize\n",
    "normalizer = Normalizer()\n",
    "dictionary_non_posting = collections.defaultdict(list)\n",
    "for i in range(len(content)):\n",
    "  tokenizes = []\n",
    "  tokenizes = word_tokenize(content[i])\n",
    "  tokenizes_count = dict(collections.Counter(tokenizes))\n",
    "  for key , value in tokenizes_count.items():\n",
    "    if key in dictionary_non_posting:\n",
    "      value_old = dictionary_non_posting[key]\n",
    "      dictionary_non_posting[key] = value + value_old\n",
    "    else:\n",
    "      dictionary_non_posting[key] = value "
   ]
  },
  {
   "cell_type": "code",
   "execution_count": null,
   "metadata": {
    "colab": {
     "base_uri": "https://localhost:8080/"
    },
    "id": "QmlpReORTPvN",
    "outputId": "445eb582-dde6-4c81-c2eb-1c7775dd2986"
   },
   "outputs": [
    {
     "name": "stdout",
     "output_type": "stream",
     "text": [
      "130104\n"
     ]
    }
   ],
   "source": [
    "print((dictionary_non_posting['و']))"
   ]
  },
  {
   "cell_type": "code",
   "execution_count": null,
   "metadata": {
    "id": "oA1p3iTMRx3i"
   },
   "outputs": [],
   "source": [
    "length_dict_non_posting = {k: v for k, v in sorted(dictionary_non_posting.items(), key=lambda item: item[1] , reverse=True)}\n",
    "with open(\"mydict.txt\", 'w') as f: \n",
    "    for key, value in length_dict_non_posting.items(): \n",
    "        f.write(\"%s:%s\\n\" % (key, value))"
   ]
  },
  {
   "cell_type": "code",
   "execution_count": null,
   "metadata": {
    "id": "gM8_6dVEAozE"
   },
   "outputs": [],
   "source": [
    "stop_words = ['آنها' , 'پیش' ,'پس' ,'هر' ,'او' ,'یا' ,'نیز' ,'وی' ,'ما' ,'خود' ,'هم' ,'تا' ,'آن' ,'بر' ,'برای' ,'را' ,'با' ,'که' ,'این' ,'از' ,'به' ,'در' ,'و' ]"
   ]
  },
  {
   "cell_type": "code",
   "execution_count": null,
   "metadata": {
    "id": "8OSjWzM-mTnN"
   },
   "outputs": [],
   "source": [
    "# to find position of each word in contents\n",
    "def position_find(word_to_find , lists):\n",
    "  # words = contents.split()\n",
    "  return  [pos for pos, word in enumerate(lists, start=0) if ((word == word_to_find) )] \n"
   ]
  },
  {
   "cell_type": "code",
   "execution_count": null,
   "metadata": {
    "id": "MULHAoaIJDXC"
   },
   "outputs": [],
   "source": [
    "# get tokenize by using the hazm word tokenize (the postings list [docid , ferq , [position]])\n",
    "normalizer = Normalizer()\n",
    "stopwords = list(stopwords_list())\n",
    "dictionary_not_steam = collections.defaultdict(list)\n",
    "for i in range(len(content)):\n",
    "    tokenizes = []\n",
    "    tokenizes = word_tokenize(content[i])\n",
    "    tokenizes_count = dict(collections.Counter(tokenizes))\n",
    "    for key , value in tokenizes_count.items():\n",
    "      if((key not in stopwords)):\n",
    "        index = []\n",
    "        pos_index = position_find(key , tokenizes)\n",
    "        index.append(i)\n",
    "        index.append(value)\n",
    "        index.append(pos_index)\n",
    "        dictionary_not_steam[key].append(index)\n",
    "    "
   ]
  },
  {
   "cell_type": "code",
   "execution_count": null,
   "metadata": {
    "colab": {
     "base_uri": "https://localhost:8080/"
    },
    "id": "XHDu7WJ2mYm1",
    "outputId": "9d7e0a25-1332-442d-8b82-56dd15f27be6"
   },
   "outputs": [
    {
     "name": "stdout",
     "output_type": "stream",
     "text": [
      "[]\n",
      "59325\n",
      "[[1, 1, [126]], [47, 2, [160, 163]], [49, 1, [374]], [84, 2, [60, 63]], [128, 1, [50]], [132, 2, [55, 58]], [177, 2, [482, 485]], [223, 1, [6]], [226, 2, [19, 22]], [227, 1, [248]], [231, 1, [168]], [237, 1, [4]], [251, 2, [6, 9]], [268, 2, [4, 7]], [485, 2, [23, 100]], [532, 2, [246, 249]], [601, 1, [50]], [647, 2, [6, 9]], [652, 1, [15]], [653, 1, [183]], [654, 1, [163]], [656, 1, [89]], [659, 1, [104]], [665, 2, [28, 31]], [733, 1, [90]], [736, 1, [6]], [768, 1, [75]], [786, 2, [6, 9]], [791, 2, [83, 86]], [809, 2, [314, 317]], [814, 2, [43, 46]], [816, 1, [139]], [828, 1, [134]], [863, 2, [199, 202]], [864, 2, [78, 81]], [880, 1, [142]], [894, 2, [62, 240]], [928, 1, [14]], [932, 1, [57]], [964, 2, [337, 340]], [986, 1, [261]], [995, 2, [15, 18]], [1013, 2, [16, 83]], [1018, 1, [48]], [1043, 1, [361]], [1087, 1, [11]], [1105, 1, [6]], [1124, 3, [430, 815, 818]], [1133, 2, [16, 19]], [1157, 1, [30]], [1165, 1, [11]], [1177, 1, [35]], [1183, 1, [541]], [1191, 1, [137]], [1211, 1, [121]], [1228, 2, [60, 63]], [1343, 1, [15]], [1345, 1, [90]], [1392, 3, [24, 146, 149]], [1413, 1, [194]], [1948, 1, [1857]], [2073, 2, [45, 332]], [2262, 1, [728]], [2340, 1, [26]], [3011, 1, [34]], [3253, 2, [345, 353]], [3454, 1, [34]], [3543, 1, [57]], [3601, 1, [35]], [3660, 1, [880]], [3875, 1, [105]], [3887, 1, [39]], [3891, 1, [419]], [4577, 2, [3942, 4189]], [4883, 1, [0]], [5334, 2, [164, 199]], [6567, 2, [889, 1223]], [6683, 1, [46]], [7206, 2, [17, 130]], [7211, 1, [276]], [7361, 1, [104]], [7415, 2, [5, 304]], [7417, 2, [540, 838]], [7429, 1, [199]], [7466, 1, [133]]]\n",
      "85\n"
     ]
    }
   ],
   "source": [
    "print(dictionary_not_steam['و'])\n",
    "print(len(dictionary_not_steam))\n",
    "print(dictionary_not_steam['یحیی'])\n",
    "print(len(dictionary_not_steam['یحیی']))"
   ]
  },
  {
   "cell_type": "code",
   "execution_count": null,
   "metadata": {
    "id": "Om7zuvqY3Ezp"
   },
   "outputs": [],
   "source": [
    "lstemmer = Stemmer()\n",
    "lemmatizer = Lemmatizer()\n",
    "def stem_stop(words_content):\n",
    "  for j in range(len(words_content)):\n",
    "        words_content[j] = lstemmer.stem(words_content[j])\n",
    "  return words_content"
   ]
  },
  {
   "cell_type": "code",
   "execution_count": null,
   "metadata": {
    "id": "wmgXZSfL3U1C"
   },
   "outputs": [],
   "source": [
    "# get tokenize by using the hazm word tokenize (the postings list [docid , ferq , [position]])\n",
    "normalizer = Normalizer()\n",
    "stopwords = list(stopwords_list())\n",
    "dictionary = collections.defaultdict(list)\n",
    "for i in range(len(content)):\n",
    "    tokenizes = []\n",
    "    tokenizes = word_tokenize(content[i])\n",
    "    tokenizes = stem_stop(tokenizes)\n",
    "    tokenizes_count = dict(collections.Counter(tokenizes))\n",
    "    for key , value in tokenizes_count.items():\n",
    "        if key not in stopwords:\n",
    "          index = []\n",
    "          pos_index = position_find(key , tokenizes)\n",
    "          index.append(i)\n",
    "          index.append(value)\n",
    "          index.append(pos_index)\n",
    "          dictionary[key].append(index)"
   ]
  },
  {
   "cell_type": "code",
   "execution_count": null,
   "metadata": {
    "colab": {
     "base_uri": "https://localhost:8080/"
    },
    "id": "X-nAg9xFpqCF",
    "outputId": "aa44a846-86a3-4300-a55e-0cc65be42800"
   },
   "outputs": [
    {
     "name": "stdout",
     "output_type": "stream",
     "text": [
      "40047\n"
     ]
    }
   ],
   "source": [
    "print(len(dictionary))"
   ]
  },
  {
   "cell_type": "code",
   "execution_count": null,
   "metadata": {
    "id": "lkg4aSkKO2Xt"
   },
   "outputs": [],
   "source": [
    "# write the postings list in json \n",
    "with open(\"posting-list.json\", \"w\") as outfile:\n",
    "    json.dump(dictionary, outfile)\n"
   ]
  },
  {
   "cell_type": "code",
   "execution_count": null,
   "metadata": {
    "id": "TWXSvmz3xmoQ"
   },
   "outputs": [],
   "source": [
    "# Read postings list from json\n",
    "with open('posting-list.json') as json_file:\n",
    "    dictionary = json.load(json_file)"
   ]
  },
  {
   "cell_type": "code",
   "execution_count": null,
   "metadata": {
    "colab": {
     "base_uri": "https://localhost:8080/"
    },
    "id": "TlGSPxd8FW0C",
    "outputId": "6eb46243-b698-4324-9fd2-cd2172013ae9"
   },
   "outputs": [
    {
     "name": "stdout",
     "output_type": "stream",
     "text": [
      "235\n",
      "[[311, 1, [351]], [362, 1, [196]], [480, 2, [38, 130]], [521, 1, [202]], [535, 1, [534]], [566, 1, [159]], [798, 1, [434]], [1316, 1, [149]], [1362, 1, [8]], [1368, 1, [540]], [1674, 2, [61, 121]], [1725, 1, [79]], [1753, 4, [1606, 4044, 4205, 4327]], [1773, 3, [209, 432, 1302]], [1779, 1, [382]], [1784, 1, [47]], [1805, 1, [557]], [1825, 1, [294]], [1827, 1, [490]], [1830, 1, [751]], [1863, 2, [199, 426]], [1870, 2, [34, 209]], [1901, 1, [850]], [1916, 1, [1004]], [1932, 1, [791]], [1937, 1, [133]], [1952, 5, [226, 295, 330, 631, 655]], [1959, 1, [570]], [1977, 1, [54]], [1980, 1, [321]], [1991, 1, [570]], [2039, 1, [144]], [2045, 1, [2103]], [2063, 2, [346, 382]], [2066, 2, [386, 2460]], [2067, 1, [357]], [2079, 1, [73]], [2089, 1, [1720]], [2091, 2, [29, 211]], [2092, 2, [48, 117]], [2100, 1, [31]], [2126, 1, [677]], [2131, 1, [500]], [2153, 1, [830]], [2163, 1, [139]], [2198, 8, [4089, 4093, 4112, 4121, 4125, 4129, 4133, 4138]], [2217, 1, [1623]], [2259, 1, [71]], [2302, 1, [88]], [2308, 1, [262]], [2319, 6, [236, 349, 444, 485, 516, 566]], [2330, 3, [20, 51, 102]], [2331, 2, [125, 223]], [2335, 1, [961]], [2340, 2, [18, 143]], [2356, 1, [67]], [2361, 1, [136]], [2364, 2, [500, 528]], [2373, 1, [176]], [2387, 1, [65]], [2395, 2, [14, 2090]], [2447, 5, [95, 98, 111, 127, 158]], [2448, 1, [55]], [2478, 1, [30]], [2505, 1, [320]], [2512, 1, [1014]], [2528, 1, [317]], [2533, 7, [1269, 1283, 1588, 1737, 2316, 2338, 2341]], [2534, 2, [122, 273]], [2537, 4, [485, 570, 595, 610]], [2542, 1, [467]], [2544, 1, [102]], [2552, 1, [231]], [2588, 1, [499]], [2607, 1, [140]], [2631, 4, [249, 252, 311, 480]], [2691, 1, [344]], [2709, 2, [431, 1331]], [2747, 1, [193]], [2764, 1, [193]], [2791, 1, [48]], [2793, 2, [11, 14]], [2849, 1, [1074]], [2885, 5, [13, 20, 111, 165, 195]], [2896, 2, [856, 2119]], [2906, 1, [303]], [2925, 1, [105]], [2946, 1, [294]], [2959, 1, [755]], [2963, 1, [253]], [2964, 1, [71]], [2982, 1, [181]], [2986, 1, [84]], [2987, 1, [157]], [3015, 1, [129]], [3026, 2, [151, 261]], [3029, 1, [35]], [3031, 3, [36, 62, 160]], [3057, 1, [1217]], [3079, 4, [39, 77, 282, 311]], [3133, 1, [124]], [3139, 1, [100]], [3194, 1, [362]], [3196, 1, [2043]], [3204, 1, [331]], [3214, 3, [2187, 2397, 2403]], [3256, 4, [171, 208, 270, 312]], [3268, 1, [259]], [3270, 4, [1033, 2477, 2513, 3073]], [3330, 1, [673]], [3334, 1, [163]], [3358, 5, [344, 348, 351, 355, 722]], [3364, 4, [175, 189, 273, 507]], [3419, 1, [755]], [3444, 6, [207, 214, 219, 250, 318, 327]], [3446, 1, [2015]], [3535, 1, [35]], [3907, 1, [169]], [4351, 3, [306, 500, 506]], [4358, 10, [7, 18, 43, 70, 190, 302, 346, 408, 436, 471]], [4389, 1, [201]], [4405, 1, [65]], [4418, 1, [193]], [4434, 11, [31, 65, 83, 95, 114, 173, 183, 206, 220, 245, 304]], [4469, 7, [65, 74, 82, 85, 135, 146, 158]], [4535, 2, [951, 983]], [4554, 1, [198]], [4562, 6, [145, 234, 277, 292, 320, 357]], [4580, 1, [186]], [4592, 2, [97, 274]], [4593, 3, [105, 182, 284]], [4602, 2, [49, 81]], [4629, 5, [39, 75, 92, 98, 136]], [4648, 1, [215]], [4670, 1, [78]], [4671, 3, [466, 476, 878]], [4684, 1, [284]], [4689, 1, [43]], [4695, 2, [47, 151]], [4712, 1, [120]], [4740, 1, [40]], [4811, 1, [209]], [4813, 10, [7, 18, 43, 70, 190, 302, 346, 408, 436, 471]], [4827, 1, [82]], [4838, 1, [127]], [4851, 1, [65]], [4854, 3, [373, 391, 650]], [4856, 4, [475, 511, 524, 574]], [4873, 1, [401]], [4883, 4, [129, 171, 258, 835]], [4894, 1, [130]], [4895, 11, [31, 65, 83, 95, 114, 173, 183, 206, 220, 245, 304]], [4896, 1, [158]], [4900, 1, [143]], [4908, 1, [154]], [4926, 3, [422, 517, 696]], [4930, 4, [152, 175, 190, 271]], [4932, 7, [65, 74, 82, 85, 135, 146, 158]], [4936, 1, [21]], [4940, 1, [53]], [4944, 1, [185]], [4945, 1, [328]], [4955, 3, [30, 40, 60]], [4960, 1, [645]], [4967, 2, [40, 66]], [4976, 2, [102, 324]], [4985, 1, [638]], [5005, 3, [19, 101, 112]], [5014, 1, [336]], [5021, 1, [166]], [5022, 1, [166]], [5024, 1, [163]], [5036, 1, [146]], [5038, 6, [145, 234, 277, 292, 320, 357]], [5045, 2, [158, 310]], [5062, 1, [114]], [5083, 4, [86, 223, 377, 440]], [5086, 1, [127]], [5089, 1, [186]], [5103, 6, [9, 29, 42, 53, 130, 158]], [5104, 1, [94]], [5108, 1, [595]], [5111, 3, [105, 182, 284]], [5118, 2, [49, 81]], [5126, 1, [265]], [5130, 1, [65]], [5141, 1, [205]], [5143, 4, [510, 791, 829, 899]], [5150, 5, [39, 75, 92, 98, 136]], [5154, 2, [73, 111]], [5166, 1, [215]], [5188, 2, [536, 691]], [5191, 1, [113]], [5221, 1, [284]], [5223, 1, [43]], [5243, 1, [120]], [5251, 3, [89, 356, 378]], [5286, 4, [290, 359, 428, 443]], [5332, 1, [36]], [5335, 2, [176, 433]], [5421, 1, [220]], [5548, 1, [305]], [5615, 1, [98]], [5620, 1, [417]], [5665, 1, [391]], [5670, 1, [74]], [5671, 1, [391]], [5706, 1, [567]], [5744, 1, [482]], [5807, 1, [332]], [5882, 1, [596]], [5899, 3, [119, 131, 138]], [5949, 3, [466, 476, 878]], [5976, 2, [120, 131]], [5977, 2, [641, 748]], [6099, 1, [182]], [6105, 1, [182]], [6202, 4, [41, 51, 491, 498]], [6676, 1, [99]], [6731, 1, [288]], [6785, 1, [146]], [6924, 4, [26, 431, 510, 610]], [6969, 1, [169]], [6971, 1, [595]], [6989, 1, [60]], [7014, 1, [332]], [7043, 1, [1598]], [7139, 1, [347]], [7195, 2, [120, 175]], [7235, 6, [8, 50, 71, 100, 185, 202]], [7289, 1, [93]], [7301, 1, [187]], [7418, 1, [294]], [7474, 1, [400]], [7479, 2, [291, 302]]]\n",
      "[[153, 2, [413, 450]], [733, 1, [219]], [1008, 3, [19, 45, 90]], [1073, 1, [56]], [1577, 1, [12]], [1729, 1, [101]], [1743, 1, [627]], [1772, 1, [391]], [1787, 1, [41]], [1830, 1, [91]], [1847, 1, [1061]], [1898, 1, [11]], [1938, 1, [300]], [2037, 1, [836]], [2041, 1, [281]], [2110, 1, [227]], [2131, 1, [303]], [2217, 2, [2005, 2678]], [2283, 1, [120]], [2290, 1, [61]], [2305, 2, [427, 946]], [2341, 1, [279]], [2342, 1, [126]], [2344, 1, [59]], [2426, 2, [411, 1451]], [2641, 1, [302]], [2644, 4, [62, 89, 231, 247]], [2743, 1, [280]], [2781, 1, [1498]], [2785, 3, [1112, 2191, 2246]], [2803, 2, [24, 58]], [2860, 2, [4, 91]], [2917, 1, [4764]], [2924, 5, [232, 777, 814, 1157, 1238]], [2952, 1, [976]], [2963, 1, [22]], [3146, 2, [556, 1064]], [3164, 1, [630]], [3178, 1, [140]], [3275, 1, [354]], [3337, 3, [461, 599, 1172]], [3362, 1, [158]], [3442, 1, [130]], [3466, 1, [12]], [4402, 1, [15]], [4439, 3, [98, 282, 520]], [4448, 1, [10]], [4577, 2, [1575, 3782]], [4764, 1, [49]], [4765, 1, [4]], [4766, 3, [4, 12, 549]], [4767, 5, [10, 20, 81, 211, 556]], [4768, 5, [4, 11, 70, 225, 387]], [4772, 1, [38]], [4822, 1, [180]], [4936, 1, [287]], [5133, 3, [5, 210, 228]], [5273, 2, [152, 253]], [5311, 1, [83]], [5338, 2, [120, 428]], [5975, 1, [147]], [6279, 5, [12, 128, 143, 253, 258]], [6291, 1, [18]], [6293, 1, [17]], [6296, 1, [15]], [6302, 1, [20]], [6411, 1, [10]], [6431, 1, [698]], [6437, 2, [12, 426]], [6464, 1, [10]], [6567, 1, [325]], [6634, 1, [62]], [6796, 1, [147]], [6864, 1, [37]], [7078, 2, [735, 752]], [7122, 1, [182]], [7182, 1, [130]], [7201, 1, [48]], [7221, 1, [76]], [7225, 1, [9]], [7239, 1, [341]], [7386, 2, [222, 489]], [7400, 1, [203]], [7493, 1, [44]]]\n",
      "84\n"
     ]
    }
   ],
   "source": [
    "print(len(dictionary[lstemmer.stem('صنعتی')]))\n",
    "print((dictionary[lstemmer.stem('صنعتی')]))\n",
    "print(dictionary_not_steam[('بین‌الملل')])\n",
    "print(len(dictionary_not_steam[('بین‌الملل')]))\n"
   ]
  },
  {
   "cell_type": "code",
   "execution_count": null,
   "metadata": {
    "id": "Zc-jKzn4ItV0"
   },
   "outputs": [],
   "source": [
    "# the more priority\n",
    "def sort_dict(dictionary):\n",
    "   dicts = dictionary\n",
    "   sorted_dicts = sorted(dicts, key = operator.itemgetter(0, 1) , reverse=False)\n",
    "   all = 0\n",
    "   for i in range(len(sorted_dicts)):\n",
    "     all = all + sorted_dicts[i][1]\n",
    "   return all , sorted_dicts"
   ]
  },
  {
   "cell_type": "code",
   "execution_count": null,
   "metadata": {
    "id": "A_gYEzMXH_Br"
   },
   "outputs": [],
   "source": [
    "# one word query \n",
    "# this sorted query question by frequency\n",
    "def query_one_word():\n",
    "  query = input(\"enter a word for checking: \")\n",
    "  time_start = datetime.datetime.now()\n",
    "  normal_query = lstemmer.stem(query)\n",
    "  print(\"Normal word to search {}\".format(normal_query))\n",
    "  # all ,sorted_dict = sort_dict(dictionary[normal_query])\n",
    "  dicts = dictionary[normal_query]\n",
    "  sorted_dict = sorted(dicts, key = operator.itemgetter(1, 2) , reverse=True)\n",
    "  print(sorted_dict)\n",
    "  time_finish = datetime.datetime.now()\n",
    "  print(\"{} results in {} ms\".format(len(sorted_dict), ((time_finish - time_start).total_seconds())*1000))\n",
    "  print(\"id -> title\\n\")\n",
    "  for i in sorted_dict:\n",
    "    print(\"{} -> {}\".format(i[0] , title[i[0]]))\n",
    "  print(sorted_dict)\n",
    "query_one_word()\n"
   ]
  },
  {
   "cell_type": "code",
   "execution_count": null,
   "metadata": {
    "id": "BkxTYZpLFM6z"
   },
   "outputs": [],
   "source": [
    "# the dictionary values is the posting lists\n",
    "# post_list = dictionary[key][i] \n",
    "# the i is iteated \n",
    "# return docID\n",
    "def docID(post_list):\n",
    "        return post_list[0]"
   ]
  },
  {
   "cell_type": "code",
   "execution_count": null,
   "metadata": {
    "id": "uANGs5WBFoER"
   },
   "outputs": [],
   "source": [
    "# the dictionary values is the posting lists\n",
    "# post_list = dictionary[key][i] \n",
    "# the i is iteated \n",
    "# return list of position\n",
    "def position(plist):\n",
    "        return plist[2]    "
   ]
  },
  {
   "cell_type": "code",
   "execution_count": null,
   "metadata": {
    "id": "9-xR9FNtGw2y"
   },
   "outputs": [],
   "source": [
    "# position intersection algorithm\n",
    "# get the to word position list and start find k position for p1 , p2\n",
    "def position_intersect(p1,p2,k):\n",
    "        answer = []                                                                     # answer <- ()\n",
    "        len1 = len(p1)\n",
    "        len2 = len(p2)\n",
    "        i = j = 0 \n",
    "        while i != len1 and j != len2:                                                  # while (p1 != nil and p2 != nil)\n",
    "                if docID(p1[i]) == docID(p2[j]):\n",
    "                        l = []                                                          # l <- ()\n",
    "                        pp1 = position(p1[i])                                           # pp1 <- positions(p1)\n",
    "                        pp2 = position(p2[j])                                           # pp2 <- positions(p2)\n",
    "    \n",
    "                        plen1 = len(pp1)\n",
    "                        plen2 = len(pp2)\n",
    "                        ii = jj = 0 \n",
    "                        while ii != plen1:                                              # while (pp1 != nil)\n",
    "                                while jj != plen2:                                      # while (pp2 != nil)\n",
    "                                        if abs(pp1[ii] - pp2[jj]) <= k:                 # if (|pos(pp1) - pos(pp2)| <= k)\n",
    "                                                l.append(pp2[jj])                       # l.add(pos(pp2))\n",
    "                                        elif pp2[jj] > pp1[ii]:                         # else if (pos(pp2) > pos(pp1))\n",
    "                                                break    \n",
    "                                        jj+=1                                           # pp2 <- next(pp2)      \n",
    "                                while l != [] and abs(l[0] - pp1[ii]) > k :             # while (l != () and |l(0) - pos(pp1)| > k)\n",
    "                                        l.remove(l[0])                                  # delete(l[0])\n",
    "                                for ps in l:                                            # for each ps in l\n",
    "                                        answer.append([ docID(p1[i]), pp1[ii], ps ])    # add answer(docID(p1), pos(pp1), ps)\n",
    "                                ii+=1                                                   # pp1 <- next(pp1)\n",
    "                        i+=1                                                            # p1 <- next(p1)\n",
    "                        j+=1                                                            # p2 <- next(p2)\n",
    "                elif docID(p1[i]) < docID(p2[j]):                                       # else if (docID(p1) < docID(p2))\n",
    "                        i+=1                                                            # p1 <- next(p1)                                                        \n",
    "                else:\n",
    "                        j+=1                                                            # p2 <- next(p2)\n",
    "        return answer"
   ]
  },
  {
   "cell_type": "code",
   "execution_count": null,
   "metadata": {
    "colab": {
     "base_uri": "https://localhost:8080/"
    },
    "id": "j3fcOadkLhV-",
    "outputId": "1e8d4fc5-0fe1-4060-ad55-8dab6817fa63"
   },
   "outputs": [
    {
     "name": "stdout",
     "output_type": "stream",
     "text": [
      "enter words for checking: علی امیر\n",
      "Normal word to search عل\n",
      "2327\n",
      "[[1, 1, [255]], [2, 1, [840]], [5, 2, [367, 3885]], [23, 1, [198]], [25, 2, [27, 62]], [27, 1, [75]], [37, 1, [36]], [45, 1, [36]], [55, 3, [27, 30, 71]], [57, 1, [58]], [65, 2, [219, 221]], [80, 1, [429]], [128, 1, [106]], [135, 1, [100]], [146, 3, [571, 583, 630]], [164, 1, [92]], [170, 1, [497]], [171, 1, [150]], [187, 1, [13]], [190, 1, [53]], [197, 1, [31]], [198, 2, [33, 36]], [199, 1, [25]], [203, 1, [295]], [206, 2, [33, 62]], [210, 1, [456]], [247, 1, [39]], [251, 1, [37]], [254, 2, [69, 128]], [268, 1, [303]], [271, 2, [342, 418]], [283, 2, [68, 79]], [291, 1, [54]], [301, 1, [70]], [304, 3, [99, 111, 158]], [338, 2, [137, 239]], [345, 1, [52]], [349, 1, [86]], [354, 1, [78]], [356, 1, [53]], [361, 1, [63]], [362, 7, [4, 6, 186, 294, 519, 748, 793]], [370, 1, [95]], [373, 6, [172, 201, 226, 233, 250, 387]], [383, 2, [38, 40]], [385, 1, [38]], [389, 1, [80]], [390, 3, [58, 63, 65]], [392, 2, [6, 8]], [401, 1, [72]], [404, 1, [112]], [417, 1, [634]], [437, 2, [39, 44]], [438, 1, [6]], [442, 2, [41, 46]], [455, 4, [30, 95, 134, 151]], [471, 1, [733]], [492, 4, [53, 68, 82, 127]], [497, 1, [1943]], [504, 3, [523, 526, 604]], [510, 2, [201, 462]], [513, 1, [378]], [514, 1, [28]], [519, 1, [252]], [528, 1, [60]], [535, 1, [565]], [536, 1, [9]], [538, 2, [362, 451]], [542, 2, [310, 312]], [560, 1, [687]], [566, 3, [777, 780, 858]], [568, 1, [87]], [573, 1, [77]], [576, 4, [28, 34, 45, 48]], [578, 1, [32]], [588, 1, [257]], [591, 1, [44]], [602, 2, [31, 33]], [606, 1, [148]], [615, 1, [440]], [616, 1, [29]], [620, 1, [36]], [621, 3, [47, 50, 124]], [627, 1, [170]], [640, 2, [84, 1432]], [642, 1, [75]], [653, 1, [195]], [656, 1, [101]], [662, 1, [168]], [666, 2, [26, 187]], [692, 1, [105]], [694, 1, [31]], [703, 2, [28, 104]], [729, 1, [559]], [737, 1, [213]], [744, 2, [44, 46]], [748, 2, [122, 124]], [777, 3, [464, 495, 553]], [778, 1, [458]], [791, 1, [139]], [797, 1, [36]], [802, 1, [145]], [804, 2, [68, 96]], [819, 2, [25, 42]], [820, 2, [32, 99]], [833, 1, [54]], [841, 2, [6, 233]], [844, 1, [116]], [852, 1, [302]], [857, 1, [69]], [868, 1, [53]], [872, 1, [137]], [873, 1, [261]], [876, 1, [92]], [879, 1, [49]], [922, 1, [187]], [925, 1, [96]], [931, 1, [109]], [933, 1, [71]], [934, 1, [25]], [936, 1, [319]], [945, 1, [40]], [952, 3, [57, 98, 310]], [957, 1, [110]], [966, 1, [89]], [975, 1, [1034]], [995, 1, [146]], [997, 1, [67]], [1016, 1, [77]], [1031, 1, [169]], [1043, 3, [7, 201, 493]], [1053, 2, [171, 304]], [1060, 1, [506]], [1061, 2, [292, 718]], [1062, 2, [204, 246]], [1071, 1, [156]], [1074, 1, [70]], [1083, 1, [61]], [1096, 1, [28]], [1098, 2, [34, 36]], [1106, 1, [0]], [1113, 3, [0, 569, 571]], [1136, 1, [87]], [1140, 1, [14]], [1145, 1, [60]], [1146, 2, [417, 419]], [1156, 1, [59]], [1159, 1, [107]], [1180, 1, [47]], [1188, 1, [84]], [1198, 1, [177]], [1211, 1, [154]], [1219, 2, [14, 30]], [1224, 1, [109]], [1229, 1, [105]], [1233, 2, [12, 25]], [1239, 1, [170]], [1241, 2, [14, 27]], [1251, 1, [150]], [1253, 1, [138]], [1255, 2, [180, 211]], [1261, 2, [38, 159]], [1275, 3, [232, 260, 282]], [1276, 2, [74, 77]], [1279, 1, [159]], [1280, 2, [108, 129]], [1286, 1, [81]], [1288, 2, [20, 41]], [1348, 1, [424]], [1360, 1, [157]], [1361, 1, [107]], [1364, 1, [262]], [1372, 1, [105]], [1377, 1, [106]], [1384, 2, [22, 138]], [1391, 1, [37]], [1392, 2, [191, 193]], [1398, 2, [217, 219]], [1414, 4, [31, 34, 132, 352]], [1415, 1, [252]], [1428, 1, [282]], [1437, 1, [338]], [1459, 1, [148]], [1467, 1, [221]], [1475, 1, [853]], [1479, 1, [26]], [1481, 1, [466]], [1508, 1, [36]], [1544, 1, [89]], [1555, 1, [0]], [1557, 1, [14]], [1573, 2, [4, 37]], [1577, 1, [8]], [1582, 1, [74]], [1595, 1, [33]], [1601, 2, [25, 27]], [1602, 1, [75]], [1631, 2, [38, 40]], [1649, 1, [6]], [1656, 2, [6, 8]], [1658, 2, [96, 102]], [1661, 2, [29, 32]], [1701, 1, [17]], [1707, 1, [1534]], [1716, 1, [55]], [1718, 1, [193]], [1720, 1, [0]], [1721, 1, [697]], [1724, 2, [936, 1401]], [1725, 1, [102]], [1727, 3, [116, 128, 657]], [1728, 1, [61]], [1736, 2, [565, 1028]], [1748, 2, [184, 186]], [1751, 1, [675]], [1752, 1, [222]], [1753, 5, [3848, 4113, 4147, 4298, 4430]], [1754, 2, [197, 239]], [1758, 1, [0]], [1760, 3, [489, 711, 718]], [1762, 1, [103]], [1766, 1, [65]], [1767, 1, [118]], [1769, 4, [107, 276, 279, 350]], [1770, 1, [2192]], [1773, 1, [1278]], [1778, 1, [1178]], [1779, 4, [66, 94, 140, 276]], [1782, 5, [21, 297, 377, 380, 725]], [1787, 1, [4]], [1791, 1, [31]], [1795, 1, [85]], [1796, 6, [14, 263, 267, 388, 502, 665]], [1801, 2, [244, 247]], [1802, 3, [218, 564, 608]], [1807, 1, [204]], [1813, 1, [303]], [1822, 5, [21, 28, 44, 222, 333]], [1826, 3, [136, 187, 189]], [1828, 2, [274, 276]], [1835, 2, [58, 217]], [1838, 1, [43]], [1841, 2, [6, 8]], [1843, 2, [6, 209]], [1847, 2, [44, 1318]], [1849, 2, [1, 138]], [1863, 1, [0]], [1864, 1, [111]], [1869, 2, [50, 60]], [1883, 1, [269]], [1888, 1, [4274]], [1889, 1, [0]], [1892, 2, [30, 32]], [1900, 2, [191, 193]], [1901, 1, [467]], [1926, 1, [510]], [1933, 1, [0]], [1936, 7, [963, 1068, 1070, 1648, 1780, 1980, 2052]], [1940, 4, [45, 119, 185, 213]], [1942, 1, [564]], [1947, 1, [0]], [1948, 5, [1747, 1753, 1797, 1818, 1833]], [1953, 1, [165]], [1954, 1, [64]], [1955, 2, [135, 188]], [1957, 3, [453, 576, 578]], [1959, 1, [577]], [1961, 2, [1076, 1078]], [1962, 1, [98]], [1968, 1, [32]], [1971, 2, [110, 122]], [1974, 1, [18]], [1978, 2, [51, 110]], [1979, 2, [0, 380]], [1985, 1, [23]], [1986, 1, [6]], [1990, 3, [94, 97, 813]], [1994, 2, [6, 8]], [1996, 2, [68, 177]], [2013, 1, [179]], [2015, 2, [344, 347]], [2020, 1, [62]], [2032, 2, [103, 106]], [2041, 6, [6, 53, 273, 483, 577, 1553]], [2046, 1, [942]], [2048, 1, [333]], [2049, 2, [71, 312]], [2053, 1, [105]], [2064, 1, [595]], [2082, 9, [4, 73, 113, 116, 137, 350, 397, 453, 522]], [2087, 1, [1]], [2089, 2, [487, 1654]], [2090, 2, [360, 367]], [2095, 2, [319, 321]], [2101, 1, [6]], [2102, 1, [6]], [2109, 2, [54, 80]], [2111, 1, [6]], [2112, 2, [190, 192]], [2113, 1, [6]], [2118, 1, [68]], [2130, 2, [367, 407]], [2131, 1, [175]], [2133, 1, [0]], [2142, 1, [37]], [2145, 1, [101]], [2146, 2, [24, 27]], [2147, 2, [6, 9]], [2154, 4, [126, 483, 655, 657]], [2158, 2, [92, 94]], [2163, 1, [7]], [2178, 1, [265]], [2180, 3, [324, 895, 1277]], [2192, 4, [6, 366, 368, 542]], [2195, 1, [883]], [2197, 1, [0]], [2198, 6, [217, 252, 534, 591, 2045, 2330]], [2202, 2, [18, 83]], [2205, 1, [493]], [2206, 2, [18, 49]], [2207, 2, [130, 226]], [2212, 1, [21]], [2216, 2, [287, 367]], [2217, 2, [97, 1843]], [2225, 1, [0]], [2230, 1, [76]], [2245, 1, [0]], [2253, 1, [32]], [2255, 2, [160, 172]], [2258, 1, [74]], [2262, 3, [84, 345, 641]], [2266, 1, [6]], [2272, 1, [209]], [2275, 1, [480]], [2283, 6, [221, 224, 1039, 1064, 1066, 1125]], [2287, 1, [36]], [2295, 2, [38, 51]], [2302, 1, [634]], [2305, 3, [176, 190, 526]], [2307, 1, [113]], [2323, 1, [402]], [2335, 2, [1311, 1313]], [2351, 2, [796, 889]], [2353, 1, [0]], [2360, 3, [124, 385, 672]], [2365, 2, [147, 149]], [2366, 1, [27]], [2370, 2, [260, 263]], [2382, 1, [56]], [2384, 3, [0, 52, 54]], [2393, 1, [49]], [2394, 2, [434, 436]], [2395, 2, [696, 1161]], [2398, 2, [86, 88]], [2411, 1, [6]], [2415, 7, [11, 83, 125, 218, 399, 458, 511]], [2417, 1, [134]], [2420, 1, [6]], [2421, 2, [205, 271]], [2422, 3, [802, 811, 2078]], [2425, 2, [79, 1074]], [2426, 1, [1443]], [2428, 9, [7, 82, 108, 116, 136, 144, 153, 313, 315]], [2435, 1, [37]], [2443, 2, [291, 293]], [2450, 1, [0]], [2458, 1, [0]], [2462, 1, [1433]], [2463, 3, [232, 239, 486]], [2464, 1, [702]], [2470, 1, [8]], [2475, 2, [6, 8]], [2478, 2, [255, 257]], [2480, 2, [32, 50]], [2483, 1, [137]], [2485, 1, [300]], [2487, 2, [14, 44]], [2495, 1, [6]], [2499, 3, [542, 1553, 5148]], [2504, 1, [0]], [2507, 1, [171]], [2508, 3, [176, 243, 300]], [2512, 4, [1194, 1661, 1674, 1692]], [2518, 2, [812, 814]], [2521, 2, [143, 210]], [2524, 1, [84]], [2526, 2, [0, 982]], [2531, 2, [19, 37]], [2533, 1, [1685]], [2534, 1, [219]], [2536, 1, [14]], [2545, 3, [192, 195, 420]], [2548, 1, [0]], [2555, 2, [327, 329]], [2560, 3, [314, 321, 348]], [2562, 8, [62, 77, 81, 84, 86, 153, 194, 611]], [2564, 2, [30, 150]], [2568, 1, [17]], [2569, 1, [210]], [2570, 1, [380]], [2571, 1, [117]], [2577, 1, [213]], [2583, 2, [211, 215]], [2588, 2, [160, 352]], [2601, 1, [989]], [2606, 2, [263, 294]], [2607, 1, [1369]], [2612, 1, [26]], [2620, 1, [155]], [2640, 4, [79, 81, 302, 305]], [2642, 1, [4]], [2643, 3, [18, 70, 98]], [2649, 2, [36, 101]], [2652, 1, [192]], [2656, 1, [106]], [2658, 3, [21, 118, 121]], [2660, 2, [131, 152]], [2665, 2, [165, 184]], [2666, 2, [31, 138]], [2667, 1, [130]], [2670, 1, [218]], [2671, 2, [23, 52]], [2673, 1, [372]], [2674, 3, [14, 33, 88]], [2677, 2, [23, 83]], [2683, 2, [163, 179]], [2684, 2, [417, 419]], [2686, 2, [198, 200]], [2688, 2, [252, 318]], [2693, 1, [6]], [2694, 4, [16, 65, 173, 176]], [2695, 2, [26, 69]], [2696, 2, [17, 35]], [2697, 1, [304]], [2701, 1, [128]], [2702, 1, [248]], [2704, 2, [16, 107]], [2705, 2, [20, 51]], [2708, 1, [321]], [2709, 5, [433, 1326, 1504, 2776, 2792]], [2711, 2, [8, 430]], [2714, 1, [87]], [2717, 2, [19, 145]], [2724, 7, [104, 106, 366, 411, 483, 566, 606]], [2726, 1, [225]], [2740, 1, [85]], [2745, 1, [1]], [2755, 1, [6]], [2759, 3, [318, 320, 833]], [2761, 1, [64]], [2765, 1, [113]], [2772, 3, [1043, 1095, 1190]], [2781, 1, [157]], [2785, 3, [1000, 2757, 2759]], [2789, 1, [10]], [2791, 1, [94]], [2796, 4, [195, 218, 359, 535]], [2803, 1, [104]], [2805, 2, [1225, 1228]], [2807, 1, [945]], [2812, 2, [16, 194]], [2816, 2, [38, 86]], [2822, 1, [664]], [2823, 1, [240]], [2828, 1, [8]], [2844, 1, [157]], [2850, 1, [85]], [2851, 3, [59, 95, 137]], [2854, 1, [250]], [2857, 2, [41, 43]], [2864, 1, [448]], [2872, 1, [78]], [2888, 3, [64, 80, 129]], [2895, 1, [223]], [2896, 2, [17, 19]], [2897, 2, [187, 387]], [2899, 2, [193, 232]], [2907, 1, [1229]], [2914, 7, [163, 307, 369, 386, 414, 421, 492]], [2917, 1, [6091]], [2919, 2, [195, 212]], [2921, 1, [0]], [2924, 1, [372]], [2932, 2, [88, 162]], [2942, 1, [35]], [2949, 1, [2936]], [2951, 6, [73, 261, 333, 414, 454, 484]], [2953, 1, [507]], [2957, 1, [557]], [2961, 2, [457, 459]], [2971, 2, [6, 8]], [2974, 2, [6, 8]], [2976, 1, [282]], [2979, 2, [293, 295]], [2991, 2, [641, 643]], [2993, 1, [106]], [2994, 2, [0, 87]], [2997, 1, [64]], [3003, 1, [396]], [3005, 1, [6]], [3011, 1, [40]], [3014, 1, [0]], [3033, 5, [61, 63, 145, 188, 745]], [3036, 3, [35, 38, 45]], [3037, 1, [28]], [3039, 5, [183, 185, 251, 341, 764]], [3051, 2, [562, 564]], [3052, 2, [466, 468]], [3061, 11, [102, 413, 649, 714, 742, 758, 782, 886, 891, 923, 966]], [3072, 1, [107]], [3089, 3, [374, 1017, 1019]], [3098, 1, [636]], [3106, 1, [3700]], [3121, 2, [6, 57]], [3133, 2, [166, 357]], [3140, 1, [43]], [3149, 1, [479]], [3152, 1, [53]], [3159, 1, [0]], [3160, 2, [27, 29]], [3165, 2, [35, 37]], [3166, 2, [6, 8]], [3171, 1, [6]], [3179, 1, [1]], [3181, 1, [46]], [3185, 1, [871]], [3187, 1, [151]], [3190, 1, [416]], [3206, 1, [514]], [3208, 1, [119]], [3214, 1, [2552]], [3217, 1, [124]], [3218, 1, [217]], [3219, 2, [6, 3366]], [3221, 1, [6]], [3228, 1, [866]], [3232, 1, [547]], [3247, 2, [25, 78]], [3253, 2, [1118, 1336]], [3260, 1, [67]], [3270, 2, [5, 1286]], [3277, 1, [6]], [3282, 2, [580, 582]], [3289, 1, [246]], [3296, 1, [441]], [3304, 1, [44]], [3305, 1, [164]], [3307, 4, [49, 977, 994, 1070]], [3309, 1, [0]], [3311, 2, [0, 151]], [3319, 2, [24, 27]], [3320, 2, [6, 9]], [3337, 8, [1663, 1665, 1672, 1674, 1692, 1696, 1760, 1793]], [3352, 2, [20, 373]], [3358, 14, [123, 391, 624, 710, 757, 900, 912, 960, 965, 1022, 1397, 1572, 1975, 2262]], [3362, 1, [31]], [3368, 1, [120]], [3373, 1, [586]], [3375, 1, [69]], [3376, 1, [170]], [3377, 2, [192, 194]], [3388, 1, [64]], [3397, 2, [0, 118]], [3417, 2, [23, 107]], [3419, 1, [517]], [3423, 1, [6]], [3427, 1, [317]], [3434, 1, [38]], [3442, 1, [60]], [3445, 1, [56]], [3460, 1, [64]], [3477, 1, [1083]], [3486, 5, [265, 304, 306, 375, 378]], [3492, 1, [776]], [3500, 4, [28, 231, 368, 659]], [3501, 1, [48]], [3507, 4, [28, 231, 368, 659]], [3508, 1, [48]], [3514, 1, [28]], [3519, 1, [89]], [3520, 1, [158]], [3533, 6, [443, 494, 501, 535, 557, 595]], [3543, 3, [56, 64, 84]], [3545, 2, [42, 352]], [3547, 4, [40, 151, 289, 354]], [3549, 1, [75]], [3554, 2, [245, 265]], [3557, 1, [78]], [3559, 2, [41, 103]], [3566, 1, [268]], [3571, 4, [52, 124, 145, 194]], [3579, 2, [440, 490]], [3582, 1, [61]], [3584, 3, [27, 347, 631]], [3586, 3, [69, 219, 376]], [3600, 1, [4]], [3601, 8, [34, 44, 66, 77, 117, 144, 195, 211]], [3606, 1, [16]], [3620, 2, [15, 49]], [3622, 1, [23]], [3628, 13, [119, 170, 193, 196, 245, 253, 275, 306, 369, 387, 450, 491, 518]], [3637, 3, [79, 87, 96]], [3639, 1, [82]], [3643, 2, [31, 32]], [3644, 1, [94]], [3647, 1, [74]], [3661, 1, [216]], [3662, 1, [0]], [3669, 1, [147]], [3675, 2, [136, 155]], [3678, 1, [356]], [3680, 1, [0]], [3687, 1, [55]], [3691, 1, [47]], [3696, 2, [81, 96]], [3697, 2, [226, 228]], [3698, 1, [57]], [3699, 2, [65, 116]], [3702, 1, [133]], [3714, 3, [97, 196, 301]], [3720, 3, [66, 78, 84]], [3730, 2, [45, 53]], [3743, 1, [72]], [3744, 3, [226, 572, 665]], [3755, 1, [79]], [3771, 3, [59, 83, 268]], [3773, 1, [76]], [3774, 4, [61, 251, 434, 594]], [3785, 2, [223, 265]], [3792, 1, [119]], [3795, 4, [152, 195, 293, 296]], [3805, 2, [191, 712]], [3814, 2, [13, 14]], [3816, 2, [11, 12]], [3817, 4, [54, 98, 260, 370]], [3819, 1, [13]], [3823, 1, [114]], [3825, 3, [4, 229, 357]], [3829, 2, [49, 108]], [3833, 4, [12, 396, 410, 473]], [3843, 2, [15, 121]], [3846, 1, [11]], [3847, 1, [200]], [3852, 1, [71]], [3854, 2, [237, 292]], [3863, 2, [43, 49]], [3875, 3, [104, 142, 265]], [3876, 1, [65]], [3882, 2, [48, 65]], [3886, 1, [36]], [3887, 2, [38, 116]], [3889, 1, [138]], [3890, 2, [22, 39]], [3891, 5, [15, 33, 374, 391, 418]], [3893, 1, [63]], [3894, 2, [104, 177]], [3895, 2, [36, 102]], [3900, 2, [226, 341]], [3904, 1, [253]], [3906, 5, [37, 44, 244, 330, 426]], [3909, 1, [230]], [3916, 1, [4]], [3920, 2, [134, 145]], [3933, 2, [252, 1265]], [3937, 2, [73, 192]], [3956, 1, [283]], [3961, 1, [378]], [3962, 2, [35, 264]], [3963, 1, [35]], [3967, 1, [183]], [3969, 1, [253]], [3973, 1, [141]], [3975, 1, [64]], [3978, 2, [3, 71]], [3982, 1, [222]], [3986, 1, [67]], [3989, 2, [114, 161]], [3991, 1, [47]], [3997, 1, [5]], [3998, 1, [163]], [4002, 4, [38, 67, 163, 192]], [4006, 2, [36, 257]], [4009, 1, [65]], [4015, 5, [23, 233, 549, 602, 774]], [4018, 1, [9]], [4024, 3, [87, 149, 350]], [4026, 2, [64, 254]], [4027, 1, [7]], [4034, 1, [510]], [4054, 1, [135]], [4064, 1, [71]], [4082, 1, [38]], [4099, 3, [66, 192, 324]], [4106, 3, [88, 184, 333]], [4107, 5, [47, 152, 218, 225, 254]], [4114, 3, [67, 119, 140]], [4125, 2, [9, 48]], [4131, 1, [47]], [4156, 1, [80]], [4157, 1, [96]], [4158, 2, [0, 42]], [4177, 1, [129]], [4189, 20, [43, 54, 145, 156, 160, 171, 218, 329, 341, 358, 374, 385, 397, 400, 421, 431, 444, 449, 452, 464]], [4193, 1, [46]], [4205, 1, [67]], [4216, 1, [20]], [4229, 1, [161]], [4231, 1, [127]], [4235, 1, [140]], [4240, 1, [162]], [4243, 1, [34]], [4248, 1, [31]], [4253, 2, [190, 294]], [4256, 1, [124]], [4258, 2, [36, 167]], [4259, 2, [17, 38]], [4260, 1, [106]], [4263, 1, [244]], [4267, 1, [3]], [4268, 2, [20, 216]], [4270, 1, [264]], [4271, 1, [12]], [4272, 1, [132]], [4273, 1, [177]], [4276, 1, [102]], [4278, 2, [21, 374]], [4279, 1, [130]], [4281, 1, [250]], [4282, 1, [202]], [4283, 1, [252]], [4286, 1, [287]], [4287, 1, [213]], [4290, 1, [37]], [4299, 1, [202]], [4301, 1, [34]], [4304, 1, [18]], [4309, 4, [205, 289, 297, 306]], [4310, 1, [56]], [4316, 2, [81, 97]], [4320, 1, [112]], [4324, 3, [202, 272, 284]], [4331, 1, [105]], [4337, 2, [46, 90]], [4340, 1, [32]], [4347, 1, [68]], [4348, 1, [56]], [4358, 1, [390]], [4365, 3, [68, 214, 353]], [4370, 1, [0]], [4384, 1, [57]], [4394, 1, [0]], [4397, 1, [0]], [4400, 1, [0]], [4401, 1, [0]], [4402, 2, [146, 150]], [4413, 1, [0]], [4419, 1, [0]], [4422, 1, [199]], [4440, 1, [192]], [4442, 1, [110]], [4445, 1, [15]], [4453, 1, [482]], [4456, 1, [0]], [4475, 1, [0]], [4476, 1, [0]], [4482, 3, [40, 45, 345]], [4484, 1, [0]], [4485, 2, [0, 223]], [4486, 1, [182]], [4490, 1, [35]], [4492, 1, [3]], [4493, 1, [84]], [4501, 1, [0]], [4516, 1, [0]], [4522, 1, [51]], [4524, 1, [41]], [4532, 1, [326]], [4544, 1, [0]], [4554, 1, [0]], [4557, 1, [209]], [4559, 1, [37]], [4563, 1, [0]], [4577, 44, [824, 1116, 1175, 1311, 1478, 1554, 1598, 1639, 1761, 1829, 1884, 1904, 1930, 1986, 2083, 2101, 2136, 2329, 2342, 2385, 2476, 2630, 2705, 2766, 2834, 2857, 2888, 2955, 3096, 3217, 3359, 3365, 3581, 3645, 3733, 3819, 3829, 3913, 4026, 4051, 4153, 4278, 4369, 4611]], [4578, 1, [0]], [4580, 1, [0]], [4589, 1, [30]], [4590, 2, [139, 172]], [4597, 1, [0]], [4604, 3, [171, 200, 286]], [4607, 1, [584]], [4616, 1, [19]], [4617, 1, [176]], [4627, 1, [41]], [4631, 2, [589, 673]], [4639, 1, [188]], [4643, 1, [1]], [4644, 1, [69]], [4651, 1, [0]], [4660, 1, [6]], [4661, 1, [0]], [4662, 1, [36]], [4667, 1, [101]], [4673, 2, [0, 78]], [4680, 1, [0]], [4683, 1, [172]], [4685, 2, [0, 107]], [4692, 1, [53]], [4694, 7, [672, 683, 756, 802, 916, 1062, 1084]], [4706, 1, [330]], [4722, 1, [29]], [4725, 2, [0, 16]], [4733, 1, [112]], [4739, 2, [106, 271]], [4741, 1, [81]], [4746, 1, [0]], [4747, 1, [2]], [4754, 1, [0]], [4764, 1, [1]], [4777, 2, [0, 353]], [4778, 2, [163, 379]], [4787, 1, [0]], [4788, 1, [723]], [4796, 1, [103]], [4800, 1, [41]], [4813, 1, [390]], [4829, 1, [49]], [4847, 1, [0]], [4854, 2, [0, 158]], [4858, 1, [433]], [4875, 3, [117, 228, 360]], [4883, 1, [197]], [4899, 2, [3, 160]], [4905, 1, [65]], [4911, 1, [65]], [4917, 1, [101]], [4928, 1, [81]], [4935, 1, [0]], [4942, 3, [40, 45, 345]], [4944, 1, [204]], [4945, 1, [394]], [4946, 2, [0, 223]], [4947, 1, [335]], [4954, 1, [3]], [4958, 1, [941]], [4964, 1, [0]], [4969, 2, [50, 80]], [4971, 2, [91, 163]], [4976, 1, [682]], [4979, 1, [0]], [4993, 1, [317]], [5007, 1, [100]], [5008, 1, [0]], [5010, 1, [1139]], [5013, 1, [0]], [5021, 3, [170, 237, 316]], [5022, 3, [170, 237, 316]], [5035, 1, [209]], [5042, 1, [196]], [5043, 1, [299]], [5049, 1, [211]], [5061, 1, [50]], [5063, 1, [645]], [5065, 2, [0, 414]], [5074, 1, [104]], [5077, 2, [0, 317]], [5078, 1, [14]], [5080, 1, [0]], [5087, 1, [35]], [5089, 1, [0]], [5090, 1, [52]], [5104, 1, [115]], [5108, 1, [613]], [5113, 2, [44, 86]], [5129, 2, [12, 552]], [5142, 1, [176]], [5143, 4, [0, 19, 27, 554]], [5152, 1, [12]], [5154, 1, [133]], [5160, 1, [188]], [5171, 1, [0]], [5181, 2, [150, 299]], [5182, 1, [129]], [5186, 2, [150, 299]], [5187, 1, [129]], [5188, 1, [79]], [5208, 1, [310]], [5212, 2, [0, 78]], [5227, 3, [62, 188, 372]], [5228, 1, [117]], [5231, 3, [62, 188, 372]], [5249, 1, [162]], [5256, 2, [0, 16]], [5261, 1, [335]], [5270, 1, [23]], [5272, 2, [508, 671]], [5273, 1, [648]], [5285, 1, [2]], [5296, 2, [48, 286]], [5316, 1, [39]], [5318, 1, [140]], [5319, 3, [56, 84, 139]], [5327, 2, [0, 353]], [5330, 2, [0, 170]], [5335, 2, [70, 228]], [5342, 1, [47]], [5349, 1, [713]], [5350, 1, [47]], [5353, 1, [827]], [5357, 1, [862]], [5359, 1, [307]], [5363, 1, [169]], [5370, 1, [141]], [5374, 1, [169]], [5376, 1, [135]], [5383, 1, [141]], [5387, 1, [107]], [5390, 1, [135]], [5401, 1, [107]], [5404, 1, [135]], [5408, 1, [713]], [5416, 1, [557]], [5426, 1, [557]], [5435, 1, [12]], [5439, 3, [31, 40, 1204]], [5468, 2, [344, 723]], [5472, 1, [513]], [5484, 1, [169]], [5490, 1, [581]], [5498, 1, [488]], [5508, 1, [63]], [5511, 1, [139]], [5514, 1, [0]], [5518, 1, [331]], [5530, 1, [181]], [5535, 4, [2691, 3564, 3568, 3602]], [5538, 1, [240]], [5543, 1, [240]], [5553, 1, [109]], [5558, 5, [185, 191, 277, 459, 466]], [5561, 1, [170]], [5564, 5, [185, 191, 277, 459, 466]], [5567, 1, [170]], [5573, 1, [514]], [5579, 1, [172]], [5582, 1, [172]], [5583, 1, [173]], [5588, 1, [173]], [5615, 1, [120]], [5620, 1, [162]], [5634, 1, [108]], [5639, 1, [176]], [5642, 1, [108]], [5647, 1, [176]], [5676, 1, [411]], [5685, 1, [480]], [5687, 1, [169]], [5690, 1, [1]], [5698, 1, [1239]], [5703, 1, [1239]], [5712, 2, [530, 550]], [5714, 1, [188]], [5718, 2, [530, 550]], [5767, 1, [58]], [5791, 1, [153]], [5811, 1, [584]], [5816, 1, [0]], [5817, 2, [3170, 3373]], [5823, 6, [332, 368, 394, 440, 1331, 1523]], [5830, 1, [472]], [5831, 6, [332, 368, 394, 440, 1331, 1523]], [5841, 1, [0]], [5848, 2, [589, 673]], [5852, 10, [8, 11, 12, 16, 20, 169, 512, 894, 978, 1008]], [5859, 2, [589, 673]], [5863, 1, [220]], [5882, 2, [441, 462]], [5886, 3, [74, 101, 155]], [5887, 1, [60]], [5888, 3, [32, 381, 442]], [5894, 1, [246]], [5895, 3, [32, 381, 442]], [5912, 1, [383]], [5918, 3, [86, 104, 107]], [5925, 4, [964, 980, 997, 2419]], [5931, 1, [110]], [5948, 1, [6]], [5962, 1, [268]], [5964, 1, [172]], [5974, 7, [672, 683, 756, 802, 916, 1062, 1084]], [5977, 1, [283]], [5981, 7, [672, 683, 756, 802, 916, 1062, 1084]], [5994, 2, [4, 267]], [6018, 2, [58, 348]], [6075, 2, [982, 1071]], [6104, 1, [238]], [6112, 2, [0, 353]], [6116, 3, [138, 467, 705]], [6143, 1, [216]], [6159, 1, [275]], [6161, 1, [103]], [6162, 3, [115, 152, 344]], [6164, 3, [44, 85, 103]], [6174, 1, [275]], [6176, 4, [158, 225, 245, 259]], [6177, 1, [76]], [6178, 3, [44, 85, 103]], [6180, 1, [68]], [6181, 1, [97]], [6185, 1, [135]], [6187, 1, [332]], [6193, 2, [41, 621]], [6194, 1, [473]], [6195, 1, [4]], [6196, 1, [406]], [6197, 1, [119]], [6199, 1, [436]], [6205, 1, [0]], [6209, 1, [127]], [6213, 1, [54]], [6217, 1, [345]], [6221, 1, [0]], [6224, 1, [116]], [6233, 2, [90, 236]], [6234, 1, [109]], [6235, 1, [243]], [6236, 3, [125, 190, 241]], [6237, 2, [103, 113]], [6239, 1, [195]], [6249, 1, [116]], [6252, 1, [209]], [6261, 1, [71]], [6266, 1, [71]], [6268, 1, [106]], [6274, 1, [218]], [6276, 1, [45]], [6277, 2, [122, 224]], [6278, 1, [197]], [6279, 1, [636]], [6290, 1, [0]], [6291, 1, [80]], [6293, 1, [150]], [6296, 2, [146, 150]], [6308, 2, [91, 156]], [6316, 1, [117]], [6340, 1, [148]], [6341, 3, [22, 41, 76]], [6362, 4, [177, 1225, 1476, 1547]], [6371, 1, [233]], [6373, 2, [13, 45]], [6379, 1, [163]], [6380, 1, [233]], [6386, 4, [255, 271, 934, 942]], [6388, 1, [56]], [6399, 1, [121]], [6408, 2, [15, 49]], [6426, 5, [13, 41, 59, 73, 90]], [6438, 1, [319]], [6439, 2, [102, 253]], [6449, 1, [3]], [6450, 1, [53]], [6458, 2, [44, 85]], [6460, 7, [39, 110, 125, 140, 247, 295, 350]], [6463, 1, [38]], [6465, 2, [226, 266]], [6466, 2, [67, 126]], [6468, 1, [674]], [6469, 1, [15]], [6472, 1, [42]], [6488, 1, [858]], [6491, 1, [318]], [6499, 3, [44, 766, 777]], [6500, 5, [39, 72, 126, 332, 365]], [6502, 2, [15, 41]], [6504, 1, [580]], [6508, 3, [44, 766, 777]], [6514, 1, [1310]], [6521, 4, [40, 68, 277, 285]], [6525, 1, [373]], [6530, 2, [137, 166]], [6533, 1, [55]], [6543, 2, [11, 159]], [6546, 1, [36]], [6551, 1, [14]], [6560, 1, [21]], [6564, 1, [8]], [6568, 2, [4, 29]], [6572, 1, [71]], [6580, 1, [116]], [6581, 1, [32]], [6582, 5, [150, 510, 630, 649, 916]], [6593, 1, [86]], [6594, 1, [51]], [6600, 1, [692]], [6604, 1, [41]], [6607, 1, [84]], [6608, 1, [17]], [6610, 1, [681]], [6618, 1, [138]], [6625, 2, [136, 160]], [6627, 3, [21, 57, 136]], [6632, 2, [4, 99]], [6642, 1, [3]], [6645, 2, [16, 108]], [6646, 3, [3, 75, 126]], [6649, 3, [280, 373, 644]], [6652, 1, [114]], [6656, 3, [110, 213, 232]], [6658, 2, [12, 54]], [6665, 12, [4, 34, 77, 80, 150, 207, 217, 248, 257, 268, 308, 331]], [6672, 1, [139]], [6677, 1, [25]], [6684, 1, [798]], [6687, 1, [3]], [6696, 1, [77]], [6699, 1, [38]], [6700, 5, [13, 54, 260, 293, 407]], [6706, 1, [3]], [6711, 1, [194]], [6719, 1, [1013]], [6720, 3, [557, 561, 573]], [6724, 1, [2]], [6727, 1, [120]], [6740, 2, [91, 104]], [6741, 1, [22]], [6743, 1, [407]], [6752, 1, [14]], [6754, 1, [29]], [6758, 2, [246, 250]], [6766, 1, [50]], [6767, 2, [52, 55]], [6771, 1, [106]], [6772, 1, [130]], [6775, 1, [21]], [6776, 2, [106, 109]], [6779, 1, [32]], [6783, 8, [9, 45, 275, 294, 455, 548, 623, 633]], [6787, 1, [63]], [6789, 1, [97]], [6796, 1, [498]], [6798, 1, [34]], [6804, 1, [20]], [6805, 1, [194]], [6807, 1, [29]], [6813, 1, [402]], [6816, 1, [20]], [6817, 1, [194]], [6838, 1, [72]], [6841, 1, [60]], [6842, 1, [23]], [6843, 1, [227]], [6847, 2, [1677, 1687]], [6855, 2, [0, 414]], [6864, 1, [128]], [6880, 1, [632]], [6882, 1, [82]], [6884, 3, [154, 277, 344]], [6886, 1, [33]], [6888, 2, [127, 142]], [6890, 1, [319]], [6895, 1, [572]], [6896, 1, [64]], [6897, 1, [27]], [6900, 2, [145, 251]], [6901, 1, [12]], [6902, 3, [3, 29, 141]], [6910, 6, [8, 39, 61, 163, 215, 289]], [6915, 2, [172, 183]], [6923, 1, [409]], [6929, 1, [61]], [6933, 1, [33]], [6934, 2, [145, 216]], [6938, 1, [12]], [6940, 1, [140]], [6944, 1, [306]], [6946, 2, [52, 65]], [6948, 2, [293, 364]], [6955, 1, [295]], [6956, 1, [271]], [6959, 2, [72, 84]], [6963, 2, [74, 92]], [6966, 2, [64, 240]], [6971, 1, [613]], [6972, 2, [150, 264]], [6973, 3, [168, 180, 232]], [6977, 1, [62]], [6989, 1, [283]], [6992, 1, [16]], [6993, 2, [57, 59]], [7005, 1, [721]], [7010, 4, [31, 50, 93, 193]], [7017, 1, [57]], [7018, 1, [78]], [7020, 1, [63]], [7025, 2, [86, 125]], [7028, 1, [36]], [7029, 1, [152]], [7040, 2, [20, 415]], [7043, 12, [34, 188, 556, 958, 1076, 1190, 1253, 1538, 1772, 1838, 1854, 2128]], [7044, 1, [125]], [7045, 1, [3]], [7046, 1, [152]], [7047, 1, [31]], [7049, 3, [256, 466, 1121]], [7055, 1, [77]], [7056, 1, [56]], [7057, 2, [369, 952]], [7062, 1, [19]], [7075, 2, [135, 168]], [7080, 1, [15]], [7083, 1, [30]], [7084, 11, [31, 85, 89, 104, 134, 156, 161, 197, 313, 337, 379]], [7092, 1, [435]], [7098, 3, [11, 44, 175]], [7099, 10, [12, 29, 47, 63, 83, 106, 236, 341, 426, 434]], [7101, 1, [25]], [7102, 1, [52]], [7103, 2, [22, 45]], [7104, 2, [236, 499]], [7106, 1, [137]], [7111, 2, [43, 78]], [7112, 13, [3, 55, 63, 80, 123, 131, 154, 197, 383, 416, 466, 481, 527]], [7114, 2, [14, 35]], [7117, 1, [25]], [7120, 10, [2, 12, 24, 172, 188, 190, 196, 457, 671, 696]], [7123, 3, [42, 1712, 1800]], [7126, 1, [27]], [7130, 1, [159]], [7138, 1, [19]], [7145, 1, [18]], [7147, 1, [528]], [7150, 7, [96, 109, 163, 289, 328, 338, 345]], [7155, 2, [0, 197]], [7157, 1, [42]], [7159, 3, [22, 69, 114]], [7160, 2, [29, 41]], [7163, 1, [101]], [7164, 1, [30]], [7174, 2, [105, 124]], [7180, 1, [75]], [7185, 1, [36]], [7186, 1, [106]], [7188, 2, [61, 71]], [7192, 2, [105, 124]], [7202, 1, [377]], [7206, 1, [540]], [7218, 1, [5]], [7221, 4, [95, 133, 176, 195]], [7223, 1, [165]], [7226, 1, [169]], [7229, 1, [0]], [7233, 1, [241]], [7240, 2, [410, 532]], [7251, 3, [3, 38, 84]], [7255, 1, [108]], [7256, 1, [641]], [7258, 1, [35]], [7262, 1, [11]], [7273, 1, [3]], [7277, 1, [196]], [7279, 1, [327]], [7286, 2, [71, 82]], [7293, 1, [65]], [7294, 2, [19, 30]], [7297, 1, [70]], [7304, 2, [35, 52]], [7305, 1, [108]], [7309, 1, [193]], [7312, 1, [15]], [7315, 1, [245]], [7327, 1, [90]], [7331, 1, [101]], [7337, 2, [133, 146]], [7347, 1, [565]], [7350, 2, [157, 391]], [7352, 2, [15, 462]], [7361, 1, [227]], [7363, 1, [234]], [7364, 1, [242]], [7367, 1, [3]], [7368, 1, [263]], [7370, 1, [54]], [7398, 3, [142, 150, 335]], [7399, 2, [196, 227]], [7402, 3, [117, 167, 177]], [7404, 3, [12, 122, 150]], [7405, 7, [586, 625, 633, 655, 717, 722, 872]], [7407, 1, [3]], [7408, 1, [222]], [7410, 2, [147, 352]], [7412, 1, [153]], [7418, 1, [254]], [7420, 1, [27]], [7422, 1, [126]], [7423, 1, [4]], [7425, 1, [527]], [7427, 1, [204]], [7435, 3, [162, 203, 218]], [7441, 1, [169]], [7445, 2, [106, 271]], [7463, 2, [32, 62]], [7469, 2, [65, 439]], [7470, 1, [7]], [7471, 3, [878, 911, 1032]], [7474, 1, [3]], [7475, 1, [219]], [7488, 1, [63]], [7496, 2, [118, 190]], [7509, 1, [101]], [7515, 2, [278, 293]], [7519, 1, [88]], [7528, 2, [0, 260]], [7532, 2, [2, 185]], [7535, 2, [2, 29]], [7538, 2, [381, 408]], [7542, 2, [437, 630]], [7546, 4, [51, 122, 143, 181]], [7549, 1, [232]], [7552, 5, [29, 137, 231, 289, 323]], [7555, 1, [75]], [7558, 1, [723]]]\n",
      "Normal word to search امیر\n",
      "592\n",
      "[[1, 2, [261, 267]], [23, 3, [153, 197, 331]], [29, 2, [106, 275]], [43, 1, [41]], [57, 1, [27]], [86, 2, [56, 136]], [99, 1, [31]], [129, 1, [296]], [146, 4, [316, 319, 635, 641]], [171, 1, [128]], [173, 3, [81, 383, 669]], [184, 1, [28]], [192, 1, [388]], [200, 1, [24]], [204, 2, [796, 799]], [210, 2, [386, 394]], [217, 2, [29, 100]], [227, 2, [217, 709]], [231, 1, [154]], [237, 1, [29]], [253, 2, [1, 241]], [261, 1, [16]], [272, 2, [10, 51]], [302, 2, [399, 414]], [304, 2, [163, 169]], [323, 1, [4]], [338, 1, [194]], [345, 1, [83]], [350, 3, [15, 93, 113]], [353, 1, [49]], [370, 1, [91]], [387, 1, [24]], [390, 3, [41, 134, 254]], [412, 2, [36, 62]], [426, 1, [48]], [440, 1, [37]], [445, 1, [38]], [447, 1, [30]], [455, 3, [34, 168, 176]], [460, 1, [8]], [470, 1, [32]], [490, 1, [43]], [492, 1, [31]], [497, 2, [1606, 1946]], [504, 3, [85, 544, 607]], [519, 2, [90, 228]], [528, 1, [248]], [540, 1, [48]], [547, 1, [32]], [558, 1, [925]], [563, 1, [33]], [566, 2, [798, 861]], [606, 1, [124]], [621, 2, [67, 127]], [623, 3, [16, 76, 231]], [643, 3, [62, 279, 287]], [648, 1, [44]], [653, 1, [174]], [654, 1, [177]], [656, 1, [84]], [665, 1, [65]], [666, 1, [212]], [725, 1, [58]], [727, 1, [76]], [777, 1, [327]], [780, 2, [180, 206]], [804, 1, [85]], [812, 2, [12, 228]], [841, 1, [210]], [844, 1, [107]], [873, 2, [260, 263]], [896, 1, [733]], [922, 1, [184]], [930, 2, [132, 167]], [931, 1, [106]], [937, 1, [75]], [945, 2, [37, 68]], [962, 1, [24]], [976, 2, [171, 324]], [987, 1, [27]], [993, 1, [56]], [997, 1, [49]], [1001, 3, [8, 97, 376]], [1050, 1, [129]], [1061, 1, [582]], [1109, 1, [36]], [1119, 1, [516]], [1145, 1, [176]], [1183, 1, [432]], [1186, 2, [559, 705]], [1211, 2, [50, 202]], [1236, 1, [235]], [1242, 1, [121]], [1246, 1, [67]], [1275, 2, [285, 578]], [1280, 2, [146, 430]], [1289, 1, [32]], [1331, 1, [13]], [1353, 1, [73]], [1359, 2, [6, 134]], [1361, 1, [137]], [1381, 1, [1438]], [1384, 1, [36]], [1392, 1, [98]], [1396, 2, [111, 183]], [1413, 1, [120]], [1453, 1, [310]], [1458, 1, [20]], [1459, 1, [94]], [1467, 1, [220]], [1506, 1, [138]], [1577, 1, [7]], [1578, 1, [21]], [1582, 1, [62]], [1593, 1, [119]], [1607, 1, [44]], [1635, 1, [87]], [1645, 1, [6]], [1658, 1, [308]], [1696, 1, [38]], [1704, 1, [153]], [1753, 2, [4006, 4045]], [1798, 2, [6, 364]], [1803, 3, [30, 204, 376]], [1806, 2, [6, 131]], [1809, 2, [84, 377]], [1837, 3, [71, 291, 467]], [1888, 2, [4250, 4253]], [1940, 5, [10, 28, 53, 56, 73]], [2031, 4, [6, 137, 249, 448]], [2032, 1, [47]], [2058, 6, [13, 169, 797, 838, 1055, 1218]], [2073, 2, [62, 114]], [2088, 3, [6, 101, 453]], [2097, 1, [71]], [2107, 1, [45]], [2122, 1, [44]], [2134, 1, [63]], [2149, 3, [14, 145, 296]], [2151, 1, [94]], [2162, 1, [59]], [2178, 1, [912]], [2185, 2, [34, 129]], [2201, 3, [41, 238, 298]], [2214, 2, [6, 135]], [2293, 1, [4]], [2314, 1, [7]], [2359, 2, [14, 112]], [2386, 2, [41, 167]], [2409, 2, [32, 69]], [2459, 6, [83, 92, 221, 265, 289, 336]], [2482, 1, [229]], [2485, 1, [858]], [2508, 1, [1018]], [2536, 2, [12, 147]], [2538, 3, [13, 64, 217]], [2539, 3, [10, 199, 280]], [2543, 1, [20]], [2552, 3, [6, 131, 254]], [2559, 3, [3397, 3440, 3447]], [2561, 1, [10]], [2564, 4, [10, 27, 52, 143]], [2616, 2, [6, 92]], [2625, 2, [4, 230]], [2635, 1, [23]], [2683, 4, [8, 47, 186, 264]], [2709, 10, [13, 148, 187, 1546, 1976, 2080, 2234, 2755, 2767, 4851]], [2761, 4, [20, 73, 83, 126]], [2784, 3, [15, 50, 137]], [2805, 1, [1221]], [2809, 2, [47, 92]], [2814, 4, [21, 75, 191, 244]], [2833, 1, [71]], [2837, 1, [6]], [2844, 3, [15, 49, 138]], [2866, 2, [10, 25]], [2872, 1, [93]], [2895, 1, [0]], [2940, 4, [23, 63, 324, 624]], [2948, 1, [38]], [3031, 3, [10, 44, 120]], [3045, 2, [26, 53]], [3051, 2, [85, 966]], [3084, 1, [109]], [3087, 1, [183]], [3089, 1, [1026]], [3103, 2, [13, 207]], [3123, 2, [29, 59]], [3137, 3, [152, 332, 429]], [3145, 1, [246]], [3157, 2, [185, 262]], [3178, 1, [397]], [3194, 2, [47, 127]], [3201, 2, [48, 51]], [3215, 1, [61]], [3224, 2, [20, 51]], [3235, 1, [40]], [3250, 2, [14, 134]], [3310, 2, [35, 108]], [3345, 3, [6, 171, 365]], [3359, 2, [18, 29]], [3380, 3, [129, 139, 141]], [3420, 1, [56]], [3443, 1, [27]], [3446, 16, [146, 169, 347, 570, 641, 714, 1113, 1359, 1532, 1660, 1797, 2308, 2402, 2533, 2984, 3372]], [3448, 2, [35, 68]], [3477, 1, [475]], [3486, 3, [126, 269, 332]], [3494, 1, [46]], [3505, 1, [72]], [3533, 3, [488, 524, 529]], [3535, 1, [27]], [3549, 1, [42]], [3571, 1, [133]], [3582, 1, [56]], [3622, 1, [99]], [3628, 2, [109, 364]], [3633, 2, [68, 71]], [3637, 1, [81]], [3641, 1, [55]], [3660, 1, [272]], [3665, 1, [45]], [3678, 1, [348]], [3679, 1, [106]], [3686, 3, [23, 89, 108]], [3697, 3, [144, 167, 203]], [3698, 1, [48]], [3702, 1, [77]], [3714, 2, [142, 171]], [3718, 2, [213, 231]], [3746, 1, [134]], [3747, 1, [244]], [3764, 1, [121]], [3769, 1, [214]], [3771, 1, [152]], [3772, 1, [111]], [3773, 1, [145]], [3774, 1, [320]], [3805, 2, [564, 820]], [3813, 1, [151]], [3815, 1, [95]], [3821, 2, [29, 46]], [3824, 1, [33]], [3836, 6, [51, 100, 185, 202, 338, 384]], [3840, 1, [0]], [3841, 1, [199]], [3854, 2, [212, 296]], [3891, 1, [383]], [3920, 2, [132, 155]], [3933, 2, [1073, 1149]], [3990, 1, [14]], [4002, 1, [153]], [4034, 2, [51, 194]], [4041, 1, [82]], [4049, 1, [464]], [4053, 1, [88]], [4074, 1, [77]], [4077, 1, [67]], [4095, 2, [14, 62]], [4105, 2, [34, 37]], [4118, 1, [30]], [4127, 2, [32, 67]], [4133, 1, [38]], [4140, 1, [95]], [4149, 1, [62]], [4158, 1, [53]], [4189, 5, [126, 222, 237, 575, 585]], [4193, 1, [56]], [4205, 1, [87]], [4221, 1, [136]], [4236, 1, [163]], [4237, 1, [290]], [4243, 1, [62]], [4246, 1, [139]], [4248, 1, [61]], [4257, 1, [34]], [4290, 1, [126]], [4309, 1, [308]], [4320, 1, [84]], [4321, 2, [21, 56]], [4422, 1, [0]], [4523, 1, [226]], [4533, 1, [1768]], [4577, 15, [1133, 1146, 1335, 1396, 2098, 2168, 2316, 2838, 2969, 3016, 3164, 3456, 3614, 4265, 4390]], [4590, 3, [130, 162, 178]], [4609, 3, [9, 142, 241]], [4658, 3, [3, 176, 233]], [4668, 3, [0, 57, 141]], [4669, 2, [0, 219]], [4687, 2, [154, 161]], [4694, 1, [811]], [4699, 2, [32, 67]], [4726, 1, [168]], [4886, 1, [239]], [5047, 1, [50]], [5072, 1, [3]], [5261, 1, [169]], [5272, 2, [254, 516]], [5912, 1, [417]], [5974, 1, [811]], [5981, 1, [811]], [6075, 1, [641]], [6164, 1, [73]], [6169, 1, [340]], [6178, 1, [73]], [6197, 1, [117]], [6237, 2, [49, 118]], [6241, 2, [16, 182]], [6313, 2, [246, 288]], [6320, 1, [97]], [6371, 1, [580]], [6386, 2, [276, 957]], [6390, 2, [319, 328]], [6399, 1, [10]], [6401, 2, [319, 328]], [6436, 1, [22]], [6455, 1, [41]], [6460, 1, [134]], [6528, 1, [268]], [6561, 1, [26]], [6589, 1, [12]], [6610, 3, [1724, 1773, 1823]], [6646, 1, [70]], [6697, 1, [53]], [6741, 1, [60]], [6767, 2, [68, 99]], [6818, 5, [18, 139, 166, 187, 244]], [6841, 1, [54]], [6847, 1, [1683]], [6896, 1, [104]], [6917, 1, [232]], [6931, 2, [0, 86]], [6938, 1, [0]], [6951, 1, [82]], [6952, 1, [106]], [6956, 1, [22]], [6974, 1, [86]], [7002, 1, [74]], [7081, 1, [73]], [7100, 1, [138]], [7103, 1, [33]], [7174, 1, [129]], [7192, 1, [129]], [7227, 1, [341]], [7248, 1, [253]], [7273, 1, [193]], [7286, 1, [355]], [7346, 1, [826]], [7386, 1, [0]], [7410, 1, [56]], [7433, 1, [139]], [7435, 1, [95]], [7449, 1, [4]], [7450, 1, [29]], [7471, 2, [959, 1108]], [7518, 1, [65]], [7542, 1, [841]]]\n",
      "[(2327, [[1, 1, [255]], [2, 1, [840]], [5, 2, [367, 3885]], [23, 1, [198]], [25, 2, [27, 62]], [27, 1, [75]], [37, 1, [36]], [45, 1, [36]], [55, 3, [27, 30, 71]], [57, 1, [58]], [65, 2, [219, 221]], [80, 1, [429]], [128, 1, [106]], [135, 1, [100]], [146, 3, [571, 583, 630]], [164, 1, [92]], [170, 1, [497]], [171, 1, [150]], [187, 1, [13]], [190, 1, [53]], [197, 1, [31]], [198, 2, [33, 36]], [199, 1, [25]], [203, 1, [295]], [206, 2, [33, 62]], [210, 1, [456]], [247, 1, [39]], [251, 1, [37]], [254, 2, [69, 128]], [268, 1, [303]], [271, 2, [342, 418]], [283, 2, [68, 79]], [291, 1, [54]], [301, 1, [70]], [304, 3, [99, 111, 158]], [338, 2, [137, 239]], [345, 1, [52]], [349, 1, [86]], [354, 1, [78]], [356, 1, [53]], [361, 1, [63]], [362, 7, [4, 6, 186, 294, 519, 748, 793]], [370, 1, [95]], [373, 6, [172, 201, 226, 233, 250, 387]], [383, 2, [38, 40]], [385, 1, [38]], [389, 1, [80]], [390, 3, [58, 63, 65]], [392, 2, [6, 8]], [401, 1, [72]], [404, 1, [112]], [417, 1, [634]], [437, 2, [39, 44]], [438, 1, [6]], [442, 2, [41, 46]], [455, 4, [30, 95, 134, 151]], [471, 1, [733]], [492, 4, [53, 68, 82, 127]], [497, 1, [1943]], [504, 3, [523, 526, 604]], [510, 2, [201, 462]], [513, 1, [378]], [514, 1, [28]], [519, 1, [252]], [528, 1, [60]], [535, 1, [565]], [536, 1, [9]], [538, 2, [362, 451]], [542, 2, [310, 312]], [560, 1, [687]], [566, 3, [777, 780, 858]], [568, 1, [87]], [573, 1, [77]], [576, 4, [28, 34, 45, 48]], [578, 1, [32]], [588, 1, [257]], [591, 1, [44]], [602, 2, [31, 33]], [606, 1, [148]], [615, 1, [440]], [616, 1, [29]], [620, 1, [36]], [621, 3, [47, 50, 124]], [627, 1, [170]], [640, 2, [84, 1432]], [642, 1, [75]], [653, 1, [195]], [656, 1, [101]], [662, 1, [168]], [666, 2, [26, 187]], [692, 1, [105]], [694, 1, [31]], [703, 2, [28, 104]], [729, 1, [559]], [737, 1, [213]], [744, 2, [44, 46]], [748, 2, [122, 124]], [777, 3, [464, 495, 553]], [778, 1, [458]], [791, 1, [139]], [797, 1, [36]], [802, 1, [145]], [804, 2, [68, 96]], [819, 2, [25, 42]], [820, 2, [32, 99]], [833, 1, [54]], [841, 2, [6, 233]], [844, 1, [116]], [852, 1, [302]], [857, 1, [69]], [868, 1, [53]], [872, 1, [137]], [873, 1, [261]], [876, 1, [92]], [879, 1, [49]], [922, 1, [187]], [925, 1, [96]], [931, 1, [109]], [933, 1, [71]], [934, 1, [25]], [936, 1, [319]], [945, 1, [40]], [952, 3, [57, 98, 310]], [957, 1, [110]], [966, 1, [89]], [975, 1, [1034]], [995, 1, [146]], [997, 1, [67]], [1016, 1, [77]], [1031, 1, [169]], [1043, 3, [7, 201, 493]], [1053, 2, [171, 304]], [1060, 1, [506]], [1061, 2, [292, 718]], [1062, 2, [204, 246]], [1071, 1, [156]], [1074, 1, [70]], [1083, 1, [61]], [1096, 1, [28]], [1098, 2, [34, 36]], [1106, 1, [0]], [1113, 3, [0, 569, 571]], [1136, 1, [87]], [1140, 1, [14]], [1145, 1, [60]], [1146, 2, [417, 419]], [1156, 1, [59]], [1159, 1, [107]], [1180, 1, [47]], [1188, 1, [84]], [1198, 1, [177]], [1211, 1, [154]], [1219, 2, [14, 30]], [1224, 1, [109]], [1229, 1, [105]], [1233, 2, [12, 25]], [1239, 1, [170]], [1241, 2, [14, 27]], [1251, 1, [150]], [1253, 1, [138]], [1255, 2, [180, 211]], [1261, 2, [38, 159]], [1275, 3, [232, 260, 282]], [1276, 2, [74, 77]], [1279, 1, [159]], [1280, 2, [108, 129]], [1286, 1, [81]], [1288, 2, [20, 41]], [1348, 1, [424]], [1360, 1, [157]], [1361, 1, [107]], [1364, 1, [262]], [1372, 1, [105]], [1377, 1, [106]], [1384, 2, [22, 138]], [1391, 1, [37]], [1392, 2, [191, 193]], [1398, 2, [217, 219]], [1414, 4, [31, 34, 132, 352]], [1415, 1, [252]], [1428, 1, [282]], [1437, 1, [338]], [1459, 1, [148]], [1467, 1, [221]], [1475, 1, [853]], [1479, 1, [26]], [1481, 1, [466]], [1508, 1, [36]], [1544, 1, [89]], [1555, 1, [0]], [1557, 1, [14]], [1573, 2, [4, 37]], [1577, 1, [8]], [1582, 1, [74]], [1595, 1, [33]], [1601, 2, [25, 27]], [1602, 1, [75]], [1631, 2, [38, 40]], [1649, 1, [6]], [1656, 2, [6, 8]], [1658, 2, [96, 102]], [1661, 2, [29, 32]], [1701, 1, [17]], [1707, 1, [1534]], [1716, 1, [55]], [1718, 1, [193]], [1720, 1, [0]], [1721, 1, [697]], [1724, 2, [936, 1401]], [1725, 1, [102]], [1727, 3, [116, 128, 657]], [1728, 1, [61]], [1736, 2, [565, 1028]], [1748, 2, [184, 186]], [1751, 1, [675]], [1752, 1, [222]], [1753, 5, [3848, 4113, 4147, 4298, 4430]], [1754, 2, [197, 239]], [1758, 1, [0]], [1760, 3, [489, 711, 718]], [1762, 1, [103]], [1766, 1, [65]], [1767, 1, [118]], [1769, 4, [107, 276, 279, 350]], [1770, 1, [2192]], [1773, 1, [1278]], [1778, 1, [1178]], [1779, 4, [66, 94, 140, 276]], [1782, 5, [21, 297, 377, 380, 725]], [1787, 1, [4]], [1791, 1, [31]], [1795, 1, [85]], [1796, 6, [14, 263, 267, 388, 502, 665]], [1801, 2, [244, 247]], [1802, 3, [218, 564, 608]], [1807, 1, [204]], [1813, 1, [303]], [1822, 5, [21, 28, 44, 222, 333]], [1826, 3, [136, 187, 189]], [1828, 2, [274, 276]], [1835, 2, [58, 217]], [1838, 1, [43]], [1841, 2, [6, 8]], [1843, 2, [6, 209]], [1847, 2, [44, 1318]], [1849, 2, [1, 138]], [1863, 1, [0]], [1864, 1, [111]], [1869, 2, [50, 60]], [1883, 1, [269]], [1888, 1, [4274]], [1889, 1, [0]], [1892, 2, [30, 32]], [1900, 2, [191, 193]], [1901, 1, [467]], [1926, 1, [510]], [1933, 1, [0]], [1936, 7, [963, 1068, 1070, 1648, 1780, 1980, 2052]], [1940, 4, [45, 119, 185, 213]], [1942, 1, [564]], [1947, 1, [0]], [1948, 5, [1747, 1753, 1797, 1818, 1833]], [1953, 1, [165]], [1954, 1, [64]], [1955, 2, [135, 188]], [1957, 3, [453, 576, 578]], [1959, 1, [577]], [1961, 2, [1076, 1078]], [1962, 1, [98]], [1968, 1, [32]], [1971, 2, [110, 122]], [1974, 1, [18]], [1978, 2, [51, 110]], [1979, 2, [0, 380]], [1985, 1, [23]], [1986, 1, [6]], [1990, 3, [94, 97, 813]], [1994, 2, [6, 8]], [1996, 2, [68, 177]], [2013, 1, [179]], [2015, 2, [344, 347]], [2020, 1, [62]], [2032, 2, [103, 106]], [2041, 6, [6, 53, 273, 483, 577, 1553]], [2046, 1, [942]], [2048, 1, [333]], [2049, 2, [71, 312]], [2053, 1, [105]], [2064, 1, [595]], [2082, 9, [4, 73, 113, 116, 137, 350, 397, 453, 522]], [2087, 1, [1]], [2089, 2, [487, 1654]], [2090, 2, [360, 367]], [2095, 2, [319, 321]], [2101, 1, [6]], [2102, 1, [6]], [2109, 2, [54, 80]], [2111, 1, [6]], [2112, 2, [190, 192]], [2113, 1, [6]], [2118, 1, [68]], [2130, 2, [367, 407]], [2131, 1, [175]], [2133, 1, [0]], [2142, 1, [37]], [2145, 1, [101]], [2146, 2, [24, 27]], [2147, 2, [6, 9]], [2154, 4, [126, 483, 655, 657]], [2158, 2, [92, 94]], [2163, 1, [7]], [2178, 1, [265]], [2180, 3, [324, 895, 1277]], [2192, 4, [6, 366, 368, 542]], [2195, 1, [883]], [2197, 1, [0]], [2198, 6, [217, 252, 534, 591, 2045, 2330]], [2202, 2, [18, 83]], [2205, 1, [493]], [2206, 2, [18, 49]], [2207, 2, [130, 226]], [2212, 1, [21]], [2216, 2, [287, 367]], [2217, 2, [97, 1843]], [2225, 1, [0]], [2230, 1, [76]], [2245, 1, [0]], [2253, 1, [32]], [2255, 2, [160, 172]], [2258, 1, [74]], [2262, 3, [84, 345, 641]], [2266, 1, [6]], [2272, 1, [209]], [2275, 1, [480]], [2283, 6, [221, 224, 1039, 1064, 1066, 1125]], [2287, 1, [36]], [2295, 2, [38, 51]], [2302, 1, [634]], [2305, 3, [176, 190, 526]], [2307, 1, [113]], [2323, 1, [402]], [2335, 2, [1311, 1313]], [2351, 2, [796, 889]], [2353, 1, [0]], [2360, 3, [124, 385, 672]], [2365, 2, [147, 149]], [2366, 1, [27]], [2370, 2, [260, 263]], [2382, 1, [56]], [2384, 3, [0, 52, 54]], [2393, 1, [49]], [2394, 2, [434, 436]], [2395, 2, [696, 1161]], [2398, 2, [86, 88]], [2411, 1, [6]], [2415, 7, [11, 83, 125, 218, 399, 458, 511]], [2417, 1, [134]], [2420, 1, [6]], [2421, 2, [205, 271]], [2422, 3, [802, 811, 2078]], [2425, 2, [79, 1074]], [2426, 1, [1443]], [2428, 9, [7, 82, 108, 116, 136, 144, 153, 313, 315]], [2435, 1, [37]], [2443, 2, [291, 293]], [2450, 1, [0]], [2458, 1, [0]], [2462, 1, [1433]], [2463, 3, [232, 239, 486]], [2464, 1, [702]], [2470, 1, [8]], [2475, 2, [6, 8]], [2478, 2, [255, 257]], [2480, 2, [32, 50]], [2483, 1, [137]], [2485, 1, [300]], [2487, 2, [14, 44]], [2495, 1, [6]], [2499, 3, [542, 1553, 5148]], [2504, 1, [0]], [2507, 1, [171]], [2508, 3, [176, 243, 300]], [2512, 4, [1194, 1661, 1674, 1692]], [2518, 2, [812, 814]], [2521, 2, [143, 210]], [2524, 1, [84]], [2526, 2, [0, 982]], [2531, 2, [19, 37]], [2533, 1, [1685]], [2534, 1, [219]], [2536, 1, [14]], [2545, 3, [192, 195, 420]], [2548, 1, [0]], [2555, 2, [327, 329]], [2560, 3, [314, 321, 348]], [2562, 8, [62, 77, 81, 84, 86, 153, 194, 611]], [2564, 2, [30, 150]], [2568, 1, [17]], [2569, 1, [210]], [2570, 1, [380]], [2571, 1, [117]], [2577, 1, [213]], [2583, 2, [211, 215]], [2588, 2, [160, 352]], [2601, 1, [989]], [2606, 2, [263, 294]], [2607, 1, [1369]], [2612, 1, [26]], [2620, 1, [155]], [2640, 4, [79, 81, 302, 305]], [2642, 1, [4]], [2643, 3, [18, 70, 98]], [2649, 2, [36, 101]], [2652, 1, [192]], [2656, 1, [106]], [2658, 3, [21, 118, 121]], [2660, 2, [131, 152]], [2665, 2, [165, 184]], [2666, 2, [31, 138]], [2667, 1, [130]], [2670, 1, [218]], [2671, 2, [23, 52]], [2673, 1, [372]], [2674, 3, [14, 33, 88]], [2677, 2, [23, 83]], [2683, 2, [163, 179]], [2684, 2, [417, 419]], [2686, 2, [198, 200]], [2688, 2, [252, 318]], [2693, 1, [6]], [2694, 4, [16, 65, 173, 176]], [2695, 2, [26, 69]], [2696, 2, [17, 35]], [2697, 1, [304]], [2701, 1, [128]], [2702, 1, [248]], [2704, 2, [16, 107]], [2705, 2, [20, 51]], [2708, 1, [321]], [2709, 5, [433, 1326, 1504, 2776, 2792]], [2711, 2, [8, 430]], [2714, 1, [87]], [2717, 2, [19, 145]], [2724, 7, [104, 106, 366, 411, 483, 566, 606]], [2726, 1, [225]], [2740, 1, [85]], [2745, 1, [1]], [2755, 1, [6]], [2759, 3, [318, 320, 833]], [2761, 1, [64]], [2765, 1, [113]], [2772, 3, [1043, 1095, 1190]], [2781, 1, [157]], [2785, 3, [1000, 2757, 2759]], [2789, 1, [10]], [2791, 1, [94]], [2796, 4, [195, 218, 359, 535]], [2803, 1, [104]], [2805, 2, [1225, 1228]], [2807, 1, [945]], [2812, 2, [16, 194]], [2816, 2, [38, 86]], [2822, 1, [664]], [2823, 1, [240]], [2828, 1, [8]], [2844, 1, [157]], [2850, 1, [85]], [2851, 3, [59, 95, 137]], [2854, 1, [250]], [2857, 2, [41, 43]], [2864, 1, [448]], [2872, 1, [78]], [2888, 3, [64, 80, 129]], [2895, 1, [223]], [2896, 2, [17, 19]], [2897, 2, [187, 387]], [2899, 2, [193, 232]], [2907, 1, [1229]], [2914, 7, [163, 307, 369, 386, 414, 421, 492]], [2917, 1, [6091]], [2919, 2, [195, 212]], [2921, 1, [0]], [2924, 1, [372]], [2932, 2, [88, 162]], [2942, 1, [35]], [2949, 1, [2936]], [2951, 6, [73, 261, 333, 414, 454, 484]], [2953, 1, [507]], [2957, 1, [557]], [2961, 2, [457, 459]], [2971, 2, [6, 8]], [2974, 2, [6, 8]], [2976, 1, [282]], [2979, 2, [293, 295]], [2991, 2, [641, 643]], [2993, 1, [106]], [2994, 2, [0, 87]], [2997, 1, [64]], [3003, 1, [396]], [3005, 1, [6]], [3011, 1, [40]], [3014, 1, [0]], [3033, 5, [61, 63, 145, 188, 745]], [3036, 3, [35, 38, 45]], [3037, 1, [28]], [3039, 5, [183, 185, 251, 341, 764]], [3051, 2, [562, 564]], [3052, 2, [466, 468]], [3061, 11, [102, 413, 649, 714, 742, 758, 782, 886, 891, 923, 966]], [3072, 1, [107]], [3089, 3, [374, 1017, 1019]], [3098, 1, [636]], [3106, 1, [3700]], [3121, 2, [6, 57]], [3133, 2, [166, 357]], [3140, 1, [43]], [3149, 1, [479]], [3152, 1, [53]], [3159, 1, [0]], [3160, 2, [27, 29]], [3165, 2, [35, 37]], [3166, 2, [6, 8]], [3171, 1, [6]], [3179, 1, [1]], [3181, 1, [46]], [3185, 1, [871]], [3187, 1, [151]], [3190, 1, [416]], [3206, 1, [514]], [3208, 1, [119]], [3214, 1, [2552]], [3217, 1, [124]], [3218, 1, [217]], [3219, 2, [6, 3366]], [3221, 1, [6]], [3228, 1, [866]], [3232, 1, [547]], [3247, 2, [25, 78]], [3253, 2, [1118, 1336]], [3260, 1, [67]], [3270, 2, [5, 1286]], [3277, 1, [6]], [3282, 2, [580, 582]], [3289, 1, [246]], [3296, 1, [441]], [3304, 1, [44]], [3305, 1, [164]], [3307, 4, [49, 977, 994, 1070]], [3309, 1, [0]], [3311, 2, [0, 151]], [3319, 2, [24, 27]], [3320, 2, [6, 9]], [3337, 8, [1663, 1665, 1672, 1674, 1692, 1696, 1760, 1793]], [3352, 2, [20, 373]], [3358, 14, [123, 391, 624, 710, 757, 900, 912, 960, 965, 1022, 1397, 1572, 1975, 2262]], [3362, 1, [31]], [3368, 1, [120]], [3373, 1, [586]], [3375, 1, [69]], [3376, 1, [170]], [3377, 2, [192, 194]], [3388, 1, [64]], [3397, 2, [0, 118]], [3417, 2, [23, 107]], [3419, 1, [517]], [3423, 1, [6]], [3427, 1, [317]], [3434, 1, [38]], [3442, 1, [60]], [3445, 1, [56]], [3460, 1, [64]], [3477, 1, [1083]], [3486, 5, [265, 304, 306, 375, 378]], [3492, 1, [776]], [3500, 4, [28, 231, 368, 659]], [3501, 1, [48]], [3507, 4, [28, 231, 368, 659]], [3508, 1, [48]], [3514, 1, [28]], [3519, 1, [89]], [3520, 1, [158]], [3533, 6, [443, 494, 501, 535, 557, 595]], [3543, 3, [56, 64, 84]], [3545, 2, [42, 352]], [3547, 4, [40, 151, 289, 354]], [3549, 1, [75]], [3554, 2, [245, 265]], [3557, 1, [78]], [3559, 2, [41, 103]], [3566, 1, [268]], [3571, 4, [52, 124, 145, 194]], [3579, 2, [440, 490]], [3582, 1, [61]], [3584, 3, [27, 347, 631]], [3586, 3, [69, 219, 376]], [3600, 1, [4]], [3601, 8, [34, 44, 66, 77, 117, 144, 195, 211]], [3606, 1, [16]], [3620, 2, [15, 49]], [3622, 1, [23]], [3628, 13, [119, 170, 193, 196, 245, 253, 275, 306, 369, 387, 450, 491, 518]], [3637, 3, [79, 87, 96]], [3639, 1, [82]], [3643, 2, [31, 32]], [3644, 1, [94]], [3647, 1, [74]], [3661, 1, [216]], [3662, 1, [0]], [3669, 1, [147]], [3675, 2, [136, 155]], [3678, 1, [356]], [3680, 1, [0]], [3687, 1, [55]], [3691, 1, [47]], [3696, 2, [81, 96]], [3697, 2, [226, 228]], [3698, 1, [57]], [3699, 2, [65, 116]], [3702, 1, [133]], [3714, 3, [97, 196, 301]], [3720, 3, [66, 78, 84]], [3730, 2, [45, 53]], [3743, 1, [72]], [3744, 3, [226, 572, 665]], [3755, 1, [79]], [3771, 3, [59, 83, 268]], [3773, 1, [76]], [3774, 4, [61, 251, 434, 594]], [3785, 2, [223, 265]], [3792, 1, [119]], [3795, 4, [152, 195, 293, 296]], [3805, 2, [191, 712]], [3814, 2, [13, 14]], [3816, 2, [11, 12]], [3817, 4, [54, 98, 260, 370]], [3819, 1, [13]], [3823, 1, [114]], [3825, 3, [4, 229, 357]], [3829, 2, [49, 108]], [3833, 4, [12, 396, 410, 473]], [3843, 2, [15, 121]], [3846, 1, [11]], [3847, 1, [200]], [3852, 1, [71]], [3854, 2, [237, 292]], [3863, 2, [43, 49]], [3875, 3, [104, 142, 265]], [3876, 1, [65]], [3882, 2, [48, 65]], [3886, 1, [36]], [3887, 2, [38, 116]], [3889, 1, [138]], [3890, 2, [22, 39]], [3891, 5, [15, 33, 374, 391, 418]], [3893, 1, [63]], [3894, 2, [104, 177]], [3895, 2, [36, 102]], [3900, 2, [226, 341]], [3904, 1, [253]], [3906, 5, [37, 44, 244, 330, 426]], [3909, 1, [230]], [3916, 1, [4]], [3920, 2, [134, 145]], [3933, 2, [252, 1265]], [3937, 2, [73, 192]], [3956, 1, [283]], [3961, 1, [378]], [3962, 2, [35, 264]], [3963, 1, [35]], [3967, 1, [183]], [3969, 1, [253]], [3973, 1, [141]], [3975, 1, [64]], [3978, 2, [3, 71]], [3982, 1, [222]], [3986, 1, [67]], [3989, 2, [114, 161]], [3991, 1, [47]], [3997, 1, [5]], [3998, 1, [163]], [4002, 4, [38, 67, 163, 192]], [4006, 2, [36, 257]], [4009, 1, [65]], [4015, 5, [23, 233, 549, 602, 774]], [4018, 1, [9]], [4024, 3, [87, 149, 350]], [4026, 2, [64, 254]], [4027, 1, [7]], [4034, 1, [510]], [4054, 1, [135]], [4064, 1, [71]], [4082, 1, [38]], [4099, 3, [66, 192, 324]], [4106, 3, [88, 184, 333]], [4107, 5, [47, 152, 218, 225, 254]], [4114, 3, [67, 119, 140]], [4125, 2, [9, 48]], [4131, 1, [47]], [4156, 1, [80]], [4157, 1, [96]], [4158, 2, [0, 42]], [4177, 1, [129]], [4189, 20, [43, 54, 145, 156, 160, 171, 218, 329, 341, 358, 374, 385, 397, 400, 421, 431, 444, 449, 452, 464]], [4193, 1, [46]], [4205, 1, [67]], [4216, 1, [20]], [4229, 1, [161]], [4231, 1, [127]], [4235, 1, [140]], [4240, 1, [162]], [4243, 1, [34]], [4248, 1, [31]], [4253, 2, [190, 294]], [4256, 1, [124]], [4258, 2, [36, 167]], [4259, 2, [17, 38]], [4260, 1, [106]], [4263, 1, [244]], [4267, 1, [3]], [4268, 2, [20, 216]], [4270, 1, [264]], [4271, 1, [12]], [4272, 1, [132]], [4273, 1, [177]], [4276, 1, [102]], [4278, 2, [21, 374]], [4279, 1, [130]], [4281, 1, [250]], [4282, 1, [202]], [4283, 1, [252]], [4286, 1, [287]], [4287, 1, [213]], [4290, 1, [37]], [4299, 1, [202]], [4301, 1, [34]], [4304, 1, [18]], [4309, 4, [205, 289, 297, 306]], [4310, 1, [56]], [4316, 2, [81, 97]], [4320, 1, [112]], [4324, 3, [202, 272, 284]], [4331, 1, [105]], [4337, 2, [46, 90]], [4340, 1, [32]], [4347, 1, [68]], [4348, 1, [56]], [4358, 1, [390]], [4365, 3, [68, 214, 353]], [4370, 1, [0]], [4384, 1, [57]], [4394, 1, [0]], [4397, 1, [0]], [4400, 1, [0]], [4401, 1, [0]], [4402, 2, [146, 150]], [4413, 1, [0]], [4419, 1, [0]], [4422, 1, [199]], [4440, 1, [192]], [4442, 1, [110]], [4445, 1, [15]], [4453, 1, [482]], [4456, 1, [0]], [4475, 1, [0]], [4476, 1, [0]], [4482, 3, [40, 45, 345]], [4484, 1, [0]], [4485, 2, [0, 223]], [4486, 1, [182]], [4490, 1, [35]], [4492, 1, [3]], [4493, 1, [84]], [4501, 1, [0]], [4516, 1, [0]], [4522, 1, [51]], [4524, 1, [41]], [4532, 1, [326]], [4544, 1, [0]], [4554, 1, [0]], [4557, 1, [209]], [4559, 1, [37]], [4563, 1, [0]], [4577, 44, [824, 1116, 1175, 1311, 1478, 1554, 1598, 1639, 1761, 1829, 1884, 1904, 1930, 1986, 2083, 2101, 2136, 2329, 2342, 2385, 2476, 2630, 2705, 2766, 2834, 2857, 2888, 2955, 3096, 3217, 3359, 3365, 3581, 3645, 3733, 3819, 3829, 3913, 4026, 4051, 4153, 4278, 4369, 4611]], [4578, 1, [0]], [4580, 1, [0]], [4589, 1, [30]], [4590, 2, [139, 172]], [4597, 1, [0]], [4604, 3, [171, 200, 286]], [4607, 1, [584]], [4616, 1, [19]], [4617, 1, [176]], [4627, 1, [41]], [4631, 2, [589, 673]], [4639, 1, [188]], [4643, 1, [1]], [4644, 1, [69]], [4651, 1, [0]], [4660, 1, [6]], [4661, 1, [0]], [4662, 1, [36]], [4667, 1, [101]], [4673, 2, [0, 78]], [4680, 1, [0]], [4683, 1, [172]], [4685, 2, [0, 107]], [4692, 1, [53]], [4694, 7, [672, 683, 756, 802, 916, 1062, 1084]], [4706, 1, [330]], [4722, 1, [29]], [4725, 2, [0, 16]], [4733, 1, [112]], [4739, 2, [106, 271]], [4741, 1, [81]], [4746, 1, [0]], [4747, 1, [2]], [4754, 1, [0]], [4764, 1, [1]], [4777, 2, [0, 353]], [4778, 2, [163, 379]], [4787, 1, [0]], [4788, 1, [723]], [4796, 1, [103]], [4800, 1, [41]], [4813, 1, [390]], [4829, 1, [49]], [4847, 1, [0]], [4854, 2, [0, 158]], [4858, 1, [433]], [4875, 3, [117, 228, 360]], [4883, 1, [197]], [4899, 2, [3, 160]], [4905, 1, [65]], [4911, 1, [65]], [4917, 1, [101]], [4928, 1, [81]], [4935, 1, [0]], [4942, 3, [40, 45, 345]], [4944, 1, [204]], [4945, 1, [394]], [4946, 2, [0, 223]], [4947, 1, [335]], [4954, 1, [3]], [4958, 1, [941]], [4964, 1, [0]], [4969, 2, [50, 80]], [4971, 2, [91, 163]], [4976, 1, [682]], [4979, 1, [0]], [4993, 1, [317]], [5007, 1, [100]], [5008, 1, [0]], [5010, 1, [1139]], [5013, 1, [0]], [5021, 3, [170, 237, 316]], [5022, 3, [170, 237, 316]], [5035, 1, [209]], [5042, 1, [196]], [5043, 1, [299]], [5049, 1, [211]], [5061, 1, [50]], [5063, 1, [645]], [5065, 2, [0, 414]], [5074, 1, [104]], [5077, 2, [0, 317]], [5078, 1, [14]], [5080, 1, [0]], [5087, 1, [35]], [5089, 1, [0]], [5090, 1, [52]], [5104, 1, [115]], [5108, 1, [613]], [5113, 2, [44, 86]], [5129, 2, [12, 552]], [5142, 1, [176]], [5143, 4, [0, 19, 27, 554]], [5152, 1, [12]], [5154, 1, [133]], [5160, 1, [188]], [5171, 1, [0]], [5181, 2, [150, 299]], [5182, 1, [129]], [5186, 2, [150, 299]], [5187, 1, [129]], [5188, 1, [79]], [5208, 1, [310]], [5212, 2, [0, 78]], [5227, 3, [62, 188, 372]], [5228, 1, [117]], [5231, 3, [62, 188, 372]], [5249, 1, [162]], [5256, 2, [0, 16]], [5261, 1, [335]], [5270, 1, [23]], [5272, 2, [508, 671]], [5273, 1, [648]], [5285, 1, [2]], [5296, 2, [48, 286]], [5316, 1, [39]], [5318, 1, [140]], [5319, 3, [56, 84, 139]], [5327, 2, [0, 353]], [5330, 2, [0, 170]], [5335, 2, [70, 228]], [5342, 1, [47]], [5349, 1, [713]], [5350, 1, [47]], [5353, 1, [827]], [5357, 1, [862]], [5359, 1, [307]], [5363, 1, [169]], [5370, 1, [141]], [5374, 1, [169]], [5376, 1, [135]], [5383, 1, [141]], [5387, 1, [107]], [5390, 1, [135]], [5401, 1, [107]], [5404, 1, [135]], [5408, 1, [713]], [5416, 1, [557]], [5426, 1, [557]], [5435, 1, [12]], [5439, 3, [31, 40, 1204]], [5468, 2, [344, 723]], [5472, 1, [513]], [5484, 1, [169]], [5490, 1, [581]], [5498, 1, [488]], [5508, 1, [63]], [5511, 1, [139]], [5514, 1, [0]], [5518, 1, [331]], [5530, 1, [181]], [5535, 4, [2691, 3564, 3568, 3602]], [5538, 1, [240]], [5543, 1, [240]], [5553, 1, [109]], [5558, 5, [185, 191, 277, 459, 466]], [5561, 1, [170]], [5564, 5, [185, 191, 277, 459, 466]], [5567, 1, [170]], [5573, 1, [514]], [5579, 1, [172]], [5582, 1, [172]], [5583, 1, [173]], [5588, 1, [173]], [5615, 1, [120]], [5620, 1, [162]], [5634, 1, [108]], [5639, 1, [176]], [5642, 1, [108]], [5647, 1, [176]], [5676, 1, [411]], [5685, 1, [480]], [5687, 1, [169]], [5690, 1, [1]], [5698, 1, [1239]], [5703, 1, [1239]], [5712, 2, [530, 550]], [5714, 1, [188]], [5718, 2, [530, 550]], [5767, 1, [58]], [5791, 1, [153]], [5811, 1, [584]], [5816, 1, [0]], [5817, 2, [3170, 3373]], [5823, 6, [332, 368, 394, 440, 1331, 1523]], [5830, 1, [472]], [5831, 6, [332, 368, 394, 440, 1331, 1523]], [5841, 1, [0]], [5848, 2, [589, 673]], [5852, 10, [8, 11, 12, 16, 20, 169, 512, 894, 978, 1008]], [5859, 2, [589, 673]], [5863, 1, [220]], [5882, 2, [441, 462]], [5886, 3, [74, 101, 155]], [5887, 1, [60]], [5888, 3, [32, 381, 442]], [5894, 1, [246]], [5895, 3, [32, 381, 442]], [5912, 1, [383]], [5918, 3, [86, 104, 107]], [5925, 4, [964, 980, 997, 2419]], [5931, 1, [110]], [5948, 1, [6]], [5962, 1, [268]], [5964, 1, [172]], [5974, 7, [672, 683, 756, 802, 916, 1062, 1084]], [5977, 1, [283]], [5981, 7, [672, 683, 756, 802, 916, 1062, 1084]], [5994, 2, [4, 267]], [6018, 2, [58, 348]], [6075, 2, [982, 1071]], [6104, 1, [238]], [6112, 2, [0, 353]], [6116, 3, [138, 467, 705]], [6143, 1, [216]], [6159, 1, [275]], [6161, 1, [103]], [6162, 3, [115, 152, 344]], [6164, 3, [44, 85, 103]], [6174, 1, [275]], [6176, 4, [158, 225, 245, 259]], [6177, 1, [76]], [6178, 3, [44, 85, 103]], [6180, 1, [68]], [6181, 1, [97]], [6185, 1, [135]], [6187, 1, [332]], [6193, 2, [41, 621]], [6194, 1, [473]], [6195, 1, [4]], [6196, 1, [406]], [6197, 1, [119]], [6199, 1, [436]], [6205, 1, [0]], [6209, 1, [127]], [6213, 1, [54]], [6217, 1, [345]], [6221, 1, [0]], [6224, 1, [116]], [6233, 2, [90, 236]], [6234, 1, [109]], [6235, 1, [243]], [6236, 3, [125, 190, 241]], [6237, 2, [103, 113]], [6239, 1, [195]], [6249, 1, [116]], [6252, 1, [209]], [6261, 1, [71]], [6266, 1, [71]], [6268, 1, [106]], [6274, 1, [218]], [6276, 1, [45]], [6277, 2, [122, 224]], [6278, 1, [197]], [6279, 1, [636]], [6290, 1, [0]], [6291, 1, [80]], [6293, 1, [150]], [6296, 2, [146, 150]], [6308, 2, [91, 156]], [6316, 1, [117]], [6340, 1, [148]], [6341, 3, [22, 41, 76]], [6362, 4, [177, 1225, 1476, 1547]], [6371, 1, [233]], [6373, 2, [13, 45]], [6379, 1, [163]], [6380, 1, [233]], [6386, 4, [255, 271, 934, 942]], [6388, 1, [56]], [6399, 1, [121]], [6408, 2, [15, 49]], [6426, 5, [13, 41, 59, 73, 90]], [6438, 1, [319]], [6439, 2, [102, 253]], [6449, 1, [3]], [6450, 1, [53]], [6458, 2, [44, 85]], [6460, 7, [39, 110, 125, 140, 247, 295, 350]], [6463, 1, [38]], [6465, 2, [226, 266]], [6466, 2, [67, 126]], [6468, 1, [674]], [6469, 1, [15]], [6472, 1, [42]], [6488, 1, [858]], [6491, 1, [318]], [6499, 3, [44, 766, 777]], [6500, 5, [39, 72, 126, 332, 365]], [6502, 2, [15, 41]], [6504, 1, [580]], [6508, 3, [44, 766, 777]], [6514, 1, [1310]], [6521, 4, [40, 68, 277, 285]], [6525, 1, [373]], [6530, 2, [137, 166]], [6533, 1, [55]], [6543, 2, [11, 159]], [6546, 1, [36]], [6551, 1, [14]], [6560, 1, [21]], [6564, 1, [8]], [6568, 2, [4, 29]], [6572, 1, [71]], [6580, 1, [116]], [6581, 1, [32]], [6582, 5, [150, 510, 630, 649, 916]], [6593, 1, [86]], [6594, 1, [51]], [6600, 1, [692]], [6604, 1, [41]], [6607, 1, [84]], [6608, 1, [17]], [6610, 1, [681]], [6618, 1, [138]], [6625, 2, [136, 160]], [6627, 3, [21, 57, 136]], [6632, 2, [4, 99]], [6642, 1, [3]], [6645, 2, [16, 108]], [6646, 3, [3, 75, 126]], [6649, 3, [280, 373, 644]], [6652, 1, [114]], [6656, 3, [110, 213, 232]], [6658, 2, [12, 54]], [6665, 12, [4, 34, 77, 80, 150, 207, 217, 248, 257, 268, 308, 331]], [6672, 1, [139]], [6677, 1, [25]], [6684, 1, [798]], [6687, 1, [3]], [6696, 1, [77]], [6699, 1, [38]], [6700, 5, [13, 54, 260, 293, 407]], [6706, 1, [3]], [6711, 1, [194]], [6719, 1, [1013]], [6720, 3, [557, 561, 573]], [6724, 1, [2]], [6727, 1, [120]], [6740, 2, [91, 104]], [6741, 1, [22]], [6743, 1, [407]], [6752, 1, [14]], [6754, 1, [29]], [6758, 2, [246, 250]], [6766, 1, [50]], [6767, 2, [52, 55]], [6771, 1, [106]], [6772, 1, [130]], [6775, 1, [21]], [6776, 2, [106, 109]], [6779, 1, [32]], [6783, 8, [9, 45, 275, 294, 455, 548, 623, 633]], [6787, 1, [63]], [6789, 1, [97]], [6796, 1, [498]], [6798, 1, [34]], [6804, 1, [20]], [6805, 1, [194]], [6807, 1, [29]], [6813, 1, [402]], [6816, 1, [20]], [6817, 1, [194]], [6838, 1, [72]], [6841, 1, [60]], [6842, 1, [23]], [6843, 1, [227]], [6847, 2, [1677, 1687]], [6855, 2, [0, 414]], [6864, 1, [128]], [6880, 1, [632]], [6882, 1, [82]], [6884, 3, [154, 277, 344]], [6886, 1, [33]], [6888, 2, [127, 142]], [6890, 1, [319]], [6895, 1, [572]], [6896, 1, [64]], [6897, 1, [27]], [6900, 2, [145, 251]], [6901, 1, [12]], [6902, 3, [3, 29, 141]], [6910, 6, [8, 39, 61, 163, 215, 289]], [6915, 2, [172, 183]], [6923, 1, [409]], [6929, 1, [61]], [6933, 1, [33]], [6934, 2, [145, 216]], [6938, 1, [12]], [6940, 1, [140]], [6944, 1, [306]], [6946, 2, [52, 65]], [6948, 2, [293, 364]], [6955, 1, [295]], [6956, 1, [271]], [6959, 2, [72, 84]], [6963, 2, [74, 92]], [6966, 2, [64, 240]], [6971, 1, [613]], [6972, 2, [150, 264]], [6973, 3, [168, 180, 232]], [6977, 1, [62]], [6989, 1, [283]], [6992, 1, [16]], [6993, 2, [57, 59]], [7005, 1, [721]], [7010, 4, [31, 50, 93, 193]], [7017, 1, [57]], [7018, 1, [78]], [7020, 1, [63]], [7025, 2, [86, 125]], [7028, 1, [36]], [7029, 1, [152]], [7040, 2, [20, 415]], [7043, 12, [34, 188, 556, 958, 1076, 1190, 1253, 1538, 1772, 1838, 1854, 2128]], [7044, 1, [125]], [7045, 1, [3]], [7046, 1, [152]], [7047, 1, [31]], [7049, 3, [256, 466, 1121]], [7055, 1, [77]], [7056, 1, [56]], [7057, 2, [369, 952]], [7062, 1, [19]], [7075, 2, [135, 168]], [7080, 1, [15]], [7083, 1, [30]], [7084, 11, [31, 85, 89, 104, 134, 156, 161, 197, 313, 337, 379]], [7092, 1, [435]], [7098, 3, [11, 44, 175]], [7099, 10, [12, 29, 47, 63, 83, 106, 236, 341, 426, 434]], [7101, 1, [25]], [7102, 1, [52]], [7103, 2, [22, 45]], [7104, 2, [236, 499]], [7106, 1, [137]], [7111, 2, [43, 78]], [7112, 13, [3, 55, 63, 80, 123, 131, 154, 197, 383, 416, 466, 481, 527]], [7114, 2, [14, 35]], [7117, 1, [25]], [7120, 10, [2, 12, 24, 172, 188, 190, 196, 457, 671, 696]], [7123, 3, [42, 1712, 1800]], [7126, 1, [27]], [7130, 1, [159]], [7138, 1, [19]], [7145, 1, [18]], [7147, 1, [528]], [7150, 7, [96, 109, 163, 289, 328, 338, 345]], [7155, 2, [0, 197]], [7157, 1, [42]], [7159, 3, [22, 69, 114]], [7160, 2, [29, 41]], [7163, 1, [101]], [7164, 1, [30]], [7174, 2, [105, 124]], [7180, 1, [75]], [7185, 1, [36]], [7186, 1, [106]], [7188, 2, [61, 71]], [7192, 2, [105, 124]], [7202, 1, [377]], [7206, 1, [540]], [7218, 1, [5]], [7221, 4, [95, 133, 176, 195]], [7223, 1, [165]], [7226, 1, [169]], [7229, 1, [0]], [7233, 1, [241]], [7240, 2, [410, 532]], [7251, 3, [3, 38, 84]], [7255, 1, [108]], [7256, 1, [641]], [7258, 1, [35]], [7262, 1, [11]], [7273, 1, [3]], [7277, 1, [196]], [7279, 1, [327]], [7286, 2, [71, 82]], [7293, 1, [65]], [7294, 2, [19, 30]], [7297, 1, [70]], [7304, 2, [35, 52]], [7305, 1, [108]], [7309, 1, [193]], [7312, 1, [15]], [7315, 1, [245]], [7327, 1, [90]], [7331, 1, [101]], [7337, 2, [133, 146]], [7347, 1, [565]], [7350, 2, [157, 391]], [7352, 2, [15, 462]], [7361, 1, [227]], [7363, 1, [234]], [7364, 1, [242]], [7367, 1, [3]], [7368, 1, [263]], [7370, 1, [54]], [7398, 3, [142, 150, 335]], [7399, 2, [196, 227]], [7402, 3, [117, 167, 177]], [7404, 3, [12, 122, 150]], [7405, 7, [586, 625, 633, 655, 717, 722, 872]], [7407, 1, [3]], [7408, 1, [222]], [7410, 2, [147, 352]], [7412, 1, [153]], [7418, 1, [254]], [7420, 1, [27]], [7422, 1, [126]], [7423, 1, [4]], [7425, 1, [527]], [7427, 1, [204]], [7435, 3, [162, 203, 218]], [7441, 1, [169]], [7445, 2, [106, 271]], [7463, 2, [32, 62]], [7469, 2, [65, 439]], [7470, 1, [7]], [7471, 3, [878, 911, 1032]], [7474, 1, [3]], [7475, 1, [219]], [7488, 1, [63]], [7496, 2, [118, 190]], [7509, 1, [101]], [7515, 2, [278, 293]], [7519, 1, [88]], [7528, 2, [0, 260]], [7532, 2, [2, 185]], [7535, 2, [2, 29]], [7538, 2, [381, 408]], [7542, 2, [437, 630]], [7546, 4, [51, 122, 143, 181]], [7549, 1, [232]], [7552, 5, [29, 137, 231, 289, 323]], [7555, 1, [75]], [7558, 1, [723]]]), (592, [[1, 2, [261, 267]], [23, 3, [153, 197, 331]], [29, 2, [106, 275]], [43, 1, [41]], [57, 1, [27]], [86, 2, [56, 136]], [99, 1, [31]], [129, 1, [296]], [146, 4, [316, 319, 635, 641]], [171, 1, [128]], [173, 3, [81, 383, 669]], [184, 1, [28]], [192, 1, [388]], [200, 1, [24]], [204, 2, [796, 799]], [210, 2, [386, 394]], [217, 2, [29, 100]], [227, 2, [217, 709]], [231, 1, [154]], [237, 1, [29]], [253, 2, [1, 241]], [261, 1, [16]], [272, 2, [10, 51]], [302, 2, [399, 414]], [304, 2, [163, 169]], [323, 1, [4]], [338, 1, [194]], [345, 1, [83]], [350, 3, [15, 93, 113]], [353, 1, [49]], [370, 1, [91]], [387, 1, [24]], [390, 3, [41, 134, 254]], [412, 2, [36, 62]], [426, 1, [48]], [440, 1, [37]], [445, 1, [38]], [447, 1, [30]], [455, 3, [34, 168, 176]], [460, 1, [8]], [470, 1, [32]], [490, 1, [43]], [492, 1, [31]], [497, 2, [1606, 1946]], [504, 3, [85, 544, 607]], [519, 2, [90, 228]], [528, 1, [248]], [540, 1, [48]], [547, 1, [32]], [558, 1, [925]], [563, 1, [33]], [566, 2, [798, 861]], [606, 1, [124]], [621, 2, [67, 127]], [623, 3, [16, 76, 231]], [643, 3, [62, 279, 287]], [648, 1, [44]], [653, 1, [174]], [654, 1, [177]], [656, 1, [84]], [665, 1, [65]], [666, 1, [212]], [725, 1, [58]], [727, 1, [76]], [777, 1, [327]], [780, 2, [180, 206]], [804, 1, [85]], [812, 2, [12, 228]], [841, 1, [210]], [844, 1, [107]], [873, 2, [260, 263]], [896, 1, [733]], [922, 1, [184]], [930, 2, [132, 167]], [931, 1, [106]], [937, 1, [75]], [945, 2, [37, 68]], [962, 1, [24]], [976, 2, [171, 324]], [987, 1, [27]], [993, 1, [56]], [997, 1, [49]], [1001, 3, [8, 97, 376]], [1050, 1, [129]], [1061, 1, [582]], [1109, 1, [36]], [1119, 1, [516]], [1145, 1, [176]], [1183, 1, [432]], [1186, 2, [559, 705]], [1211, 2, [50, 202]], [1236, 1, [235]], [1242, 1, [121]], [1246, 1, [67]], [1275, 2, [285, 578]], [1280, 2, [146, 430]], [1289, 1, [32]], [1331, 1, [13]], [1353, 1, [73]], [1359, 2, [6, 134]], [1361, 1, [137]], [1381, 1, [1438]], [1384, 1, [36]], [1392, 1, [98]], [1396, 2, [111, 183]], [1413, 1, [120]], [1453, 1, [310]], [1458, 1, [20]], [1459, 1, [94]], [1467, 1, [220]], [1506, 1, [138]], [1577, 1, [7]], [1578, 1, [21]], [1582, 1, [62]], [1593, 1, [119]], [1607, 1, [44]], [1635, 1, [87]], [1645, 1, [6]], [1658, 1, [308]], [1696, 1, [38]], [1704, 1, [153]], [1753, 2, [4006, 4045]], [1798, 2, [6, 364]], [1803, 3, [30, 204, 376]], [1806, 2, [6, 131]], [1809, 2, [84, 377]], [1837, 3, [71, 291, 467]], [1888, 2, [4250, 4253]], [1940, 5, [10, 28, 53, 56, 73]], [2031, 4, [6, 137, 249, 448]], [2032, 1, [47]], [2058, 6, [13, 169, 797, 838, 1055, 1218]], [2073, 2, [62, 114]], [2088, 3, [6, 101, 453]], [2097, 1, [71]], [2107, 1, [45]], [2122, 1, [44]], [2134, 1, [63]], [2149, 3, [14, 145, 296]], [2151, 1, [94]], [2162, 1, [59]], [2178, 1, [912]], [2185, 2, [34, 129]], [2201, 3, [41, 238, 298]], [2214, 2, [6, 135]], [2293, 1, [4]], [2314, 1, [7]], [2359, 2, [14, 112]], [2386, 2, [41, 167]], [2409, 2, [32, 69]], [2459, 6, [83, 92, 221, 265, 289, 336]], [2482, 1, [229]], [2485, 1, [858]], [2508, 1, [1018]], [2536, 2, [12, 147]], [2538, 3, [13, 64, 217]], [2539, 3, [10, 199, 280]], [2543, 1, [20]], [2552, 3, [6, 131, 254]], [2559, 3, [3397, 3440, 3447]], [2561, 1, [10]], [2564, 4, [10, 27, 52, 143]], [2616, 2, [6, 92]], [2625, 2, [4, 230]], [2635, 1, [23]], [2683, 4, [8, 47, 186, 264]], [2709, 10, [13, 148, 187, 1546, 1976, 2080, 2234, 2755, 2767, 4851]], [2761, 4, [20, 73, 83, 126]], [2784, 3, [15, 50, 137]], [2805, 1, [1221]], [2809, 2, [47, 92]], [2814, 4, [21, 75, 191, 244]], [2833, 1, [71]], [2837, 1, [6]], [2844, 3, [15, 49, 138]], [2866, 2, [10, 25]], [2872, 1, [93]], [2895, 1, [0]], [2940, 4, [23, 63, 324, 624]], [2948, 1, [38]], [3031, 3, [10, 44, 120]], [3045, 2, [26, 53]], [3051, 2, [85, 966]], [3084, 1, [109]], [3087, 1, [183]], [3089, 1, [1026]], [3103, 2, [13, 207]], [3123, 2, [29, 59]], [3137, 3, [152, 332, 429]], [3145, 1, [246]], [3157, 2, [185, 262]], [3178, 1, [397]], [3194, 2, [47, 127]], [3201, 2, [48, 51]], [3215, 1, [61]], [3224, 2, [20, 51]], [3235, 1, [40]], [3250, 2, [14, 134]], [3310, 2, [35, 108]], [3345, 3, [6, 171, 365]], [3359, 2, [18, 29]], [3380, 3, [129, 139, 141]], [3420, 1, [56]], [3443, 1, [27]], [3446, 16, [146, 169, 347, 570, 641, 714, 1113, 1359, 1532, 1660, 1797, 2308, 2402, 2533, 2984, 3372]], [3448, 2, [35, 68]], [3477, 1, [475]], [3486, 3, [126, 269, 332]], [3494, 1, [46]], [3505, 1, [72]], [3533, 3, [488, 524, 529]], [3535, 1, [27]], [3549, 1, [42]], [3571, 1, [133]], [3582, 1, [56]], [3622, 1, [99]], [3628, 2, [109, 364]], [3633, 2, [68, 71]], [3637, 1, [81]], [3641, 1, [55]], [3660, 1, [272]], [3665, 1, [45]], [3678, 1, [348]], [3679, 1, [106]], [3686, 3, [23, 89, 108]], [3697, 3, [144, 167, 203]], [3698, 1, [48]], [3702, 1, [77]], [3714, 2, [142, 171]], [3718, 2, [213, 231]], [3746, 1, [134]], [3747, 1, [244]], [3764, 1, [121]], [3769, 1, [214]], [3771, 1, [152]], [3772, 1, [111]], [3773, 1, [145]], [3774, 1, [320]], [3805, 2, [564, 820]], [3813, 1, [151]], [3815, 1, [95]], [3821, 2, [29, 46]], [3824, 1, [33]], [3836, 6, [51, 100, 185, 202, 338, 384]], [3840, 1, [0]], [3841, 1, [199]], [3854, 2, [212, 296]], [3891, 1, [383]], [3920, 2, [132, 155]], [3933, 2, [1073, 1149]], [3990, 1, [14]], [4002, 1, [153]], [4034, 2, [51, 194]], [4041, 1, [82]], [4049, 1, [464]], [4053, 1, [88]], [4074, 1, [77]], [4077, 1, [67]], [4095, 2, [14, 62]], [4105, 2, [34, 37]], [4118, 1, [30]], [4127, 2, [32, 67]], [4133, 1, [38]], [4140, 1, [95]], [4149, 1, [62]], [4158, 1, [53]], [4189, 5, [126, 222, 237, 575, 585]], [4193, 1, [56]], [4205, 1, [87]], [4221, 1, [136]], [4236, 1, [163]], [4237, 1, [290]], [4243, 1, [62]], [4246, 1, [139]], [4248, 1, [61]], [4257, 1, [34]], [4290, 1, [126]], [4309, 1, [308]], [4320, 1, [84]], [4321, 2, [21, 56]], [4422, 1, [0]], [4523, 1, [226]], [4533, 1, [1768]], [4577, 15, [1133, 1146, 1335, 1396, 2098, 2168, 2316, 2838, 2969, 3016, 3164, 3456, 3614, 4265, 4390]], [4590, 3, [130, 162, 178]], [4609, 3, [9, 142, 241]], [4658, 3, [3, 176, 233]], [4668, 3, [0, 57, 141]], [4669, 2, [0, 219]], [4687, 2, [154, 161]], [4694, 1, [811]], [4699, 2, [32, 67]], [4726, 1, [168]], [4886, 1, [239]], [5047, 1, [50]], [5072, 1, [3]], [5261, 1, [169]], [5272, 2, [254, 516]], [5912, 1, [417]], [5974, 1, [811]], [5981, 1, [811]], [6075, 1, [641]], [6164, 1, [73]], [6169, 1, [340]], [6178, 1, [73]], [6197, 1, [117]], [6237, 2, [49, 118]], [6241, 2, [16, 182]], [6313, 2, [246, 288]], [6320, 1, [97]], [6371, 1, [580]], [6386, 2, [276, 957]], [6390, 2, [319, 328]], [6399, 1, [10]], [6401, 2, [319, 328]], [6436, 1, [22]], [6455, 1, [41]], [6460, 1, [134]], [6528, 1, [268]], [6561, 1, [26]], [6589, 1, [12]], [6610, 3, [1724, 1773, 1823]], [6646, 1, [70]], [6697, 1, [53]], [6741, 1, [60]], [6767, 2, [68, 99]], [6818, 5, [18, 139, 166, 187, 244]], [6841, 1, [54]], [6847, 1, [1683]], [6896, 1, [104]], [6917, 1, [232]], [6931, 2, [0, 86]], [6938, 1, [0]], [6951, 1, [82]], [6952, 1, [106]], [6956, 1, [22]], [6974, 1, [86]], [7002, 1, [74]], [7081, 1, [73]], [7100, 1, [138]], [7103, 1, [33]], [7174, 1, [129]], [7192, 1, [129]], [7227, 1, [341]], [7248, 1, [253]], [7273, 1, [193]], [7286, 1, [355]], [7346, 1, [826]], [7386, 1, [0]], [7410, 1, [56]], [7433, 1, [139]], [7435, 1, [95]], [7449, 1, [4]], [7450, 1, [29]], [7471, 2, [959, 1108]], [7518, 1, [65]], [7542, 1, [841]]])]\n",
      "2\n",
      "[[1577, 8, 7], [23, 198, 197], [1467, 221, 220], [873, 261, 260]]\n",
      "defaultdict(<class 'list'>, {1577: [[8, 7]], 23: [[198, 197]], 1467: [[221, 220]], 873: [[261, 260]]})\n",
      "[1577, 23, 1467, 873]\n",
      "4 results in 14.366999999999999 ms\n",
      "id -> title\n",
      "\n",
      "1577 -> نامه پرسپولیس به کنفدراسیون فوتبال آسیا برای اسکان شاگردان گل محمدی در ریاض\n",
      "23 -> هفته دوم لیگ برتر| 3 امتیاز شیرین سوغات استقلال از نبرد خونین اصفهان/ تارتار و تیمش حریف «یامگا» نشدند\n",
      "1467 -> اشتباه فدراسیون فوتبال در اعلام اسامی بازیکنان تیم امید/3 استقلالی در جمع شاگردان مهدوی‌کیا\n",
      "873 -> لیست بزرگسال استقلال و چند جای خالی/ شاید مجیدی یکی 2 بازیکن دیگر را هم کنار بگذارد\n"
     ]
    }
   ],
   "source": [
    "# multi word query \n",
    "# this sorted query question by frequency\n",
    "def query_multi():\n",
    "  sorted_dicts = []\n",
    "  query = input(\"enter words for checking: \")\n",
    "  time_start = datetime.datetime.now()\n",
    "  query_split = query.split(\" \")\n",
    "  k = 1\n",
    "  if len(query_split) < 2:\n",
    "    print(\"not enough word:(\")\n",
    "    return \n",
    "  for i in range(len(query_split)):\n",
    "    normal_query = lstemmer.stem(query_split[i])\n",
    "    print(\"Normal word to search {}\".format(normal_query))\n",
    "    all , diction =  sort_dict(dictionary[normal_query])\n",
    "    print(all)\n",
    "    print(diction)\n",
    "    sorted_dicts.append((all , diction))\n",
    "  print(sorted_dicts)\n",
    "  sorted_dicts = sorted(sorted_dicts, key = lambda x: x[1])\n",
    "  \n",
    "  for x in range(len(sorted_dicts)-1):\n",
    "    if(sorted_dicts[x][0] == 0):\n",
    "      sorted_dicts.pop(x)\n",
    "  print(len(sorted_dicts))\n",
    "  if len(sorted_dicts) > 2:\n",
    "    sorted_dicts1 = position_intersect(sorted_dicts[0][1] ,sorted_dicts[1][1] , k)\n",
    "    sorted_dicts1 = sorted(sorted_dicts1, key = lambda x: x[1])\n",
    "    sorted_dicts2 = position_intersect(sorted_dicts[1][1] ,sorted_dicts[2][1] , k)\n",
    "    sorted_dicts2 = sorted(sorted_dicts2, key = lambda x: x[1])\n",
    "    print(\"sorted_dicts1: \", sorted_dicts1)\n",
    "    print(\"sorted_dicts2: \",sorted_dicts2)\n",
    "  elif (len(sorted_dicts) == 2):\n",
    "    sorted_dicts = position_intersect(sorted_dicts[0][1] ,sorted_dicts[1][1] , k)\n",
    "    sorted_dicts = sorted(sorted_dicts, key = lambda x: x[1])\n",
    "    print(sorted_dicts)\n",
    "    res = collections.defaultdict(list)\n",
    "    for x in range(len(sorted_dicts)):\n",
    "      res[sorted_dicts[x][0]].append([sorted_dicts[x][1] , sorted_dicts[x][2]])\n",
    "    print(res)\n",
    "    res = sorted(res, key=lambda k: len(res[k]), reverse=True)\n",
    "    print(res)\n",
    "  time_finish = datetime.datetime.now()\n",
    "  print(\"{} results in {} ms\".format(len(res), ((time_finish - time_start).total_seconds())*1000))\n",
    "  print(\"id -> title\\n\")\n",
    "  for i in range(len(res)):\n",
    "    print(\"{} -> {}\".format(res[i] , title[res[i]]))\n",
    "query_multi()\n"
   ]
  },
  {
   "cell_type": "markdown",
   "metadata": {
    "id": "5xb9G8TazrnK"
   },
   "source": [
    "## PHASE II"
   ]
  },
  {
   "cell_type": "code",
   "execution_count": null,
   "metadata": {
    "colab": {
     "base_uri": "https://localhost:8080/"
    },
    "id": "pQ2-GPmyu7nz",
    "outputId": "f899ad9f-16f0-4b33-ae1b-444f2b08c8d1"
   },
   "outputs": [
    {
     "name": "stdout",
     "output_type": "stream",
     "text": [
      "[[1, 1, [126]], [47, 2, [160, 163]], [49, 1, [374]], [84, 2, [60, 63]], [128, 1, [50]], [132, 2, [55, 58]], [177, 2, [482, 485]], [223, 1, [6]], [226, 2, [19, 22]], [227, 1, [248]], [231, 1, [168]], [237, 1, [4]], [251, 2, [6, 9]], [268, 2, [4, 7]], [485, 2, [23, 100]], [532, 2, [246, 249]], [601, 1, [50]], [647, 2, [6, 9]], [652, 1, [15]], [653, 1, [183]], [654, 1, [163]], [656, 1, [89]], [659, 1, [104]], [665, 2, [28, 31]], [733, 1, [90]], [736, 1, [6]], [768, 1, [75]], [786, 2, [6, 9]], [791, 2, [83, 86]], [809, 2, [314, 317]], [814, 2, [43, 46]], [816, 1, [139]], [828, 1, [134]], [863, 2, [199, 202]], [864, 2, [78, 81]], [880, 1, [142]], [894, 2, [62, 240]], [928, 1, [14]], [932, 1, [57]], [964, 2, [337, 340]], [986, 1, [261]], [995, 2, [15, 18]], [1013, 2, [16, 83]], [1018, 1, [48]], [1043, 1, [361]], [1087, 1, [11]], [1105, 1, [6]], [1124, 3, [430, 815, 818]], [1133, 2, [16, 19]], [1157, 1, [30]], [1165, 1, [11]], [1177, 1, [35]], [1183, 1, [541]], [1191, 1, [137]], [1211, 1, [121]], [1228, 2, [60, 63]], [1343, 1, [15]], [1345, 1, [90]], [1392, 3, [24, 146, 149]], [1413, 1, [194]], [1948, 1, [1857]], [2073, 2, [45, 332]], [2262, 1, [728]], [2340, 1, [26]], [3011, 1, [34]], [3253, 2, [345, 353]], [3454, 1, [34]], [3543, 1, [57]], [3601, 1, [35]], [3660, 1, [880]], [3875, 1, [105]], [3887, 1, [39]], [3891, 1, [419]], [4577, 2, [3942, 4189]], [4883, 1, [0]], [5334, 2, [164, 199]], [6567, 2, [889, 1223]], [6683, 1, [46]], [7206, 2, [17, 130]], [7211, 1, [276]], [7361, 1, [104]], [7415, 2, [5, 304]], [7417, 2, [540, 838]], [7429, 1, [199]], [7466, 1, [133]]]\n",
      "[[1, 1, [126], 1.949217747312224], [47, 2, [160, 163], 2.5359907573337783], [49, 1, [374], 1.949217747312224], [84, 2, [60, 63], 2.5359907573337783], [128, 1, [50], 1.949217747312224], [132, 2, [55, 58], 2.5359907573337783], [177, 2, [482, 485], 2.5359907573337783], [223, 1, [6], 1.949217747312224], [226, 2, [19, 22], 2.5359907573337783], [227, 1, [248], 1.949217747312224], [231, 1, [168], 1.949217747312224], [237, 1, [4], 1.949217747312224], [251, 2, [6, 9], 2.5359907573337783], [268, 2, [4, 7], 2.5359907573337783], [485, 2, [23, 100], 2.5359907573337783], [532, 2, [246, 249], 2.5359907573337783], [601, 1, [50], 1.949217747312224], [647, 2, [6, 9], 2.5359907573337783], [652, 1, [15], 1.949217747312224], [653, 1, [183], 1.949217747312224], [654, 1, [163], 1.949217747312224], [656, 1, [89], 1.949217747312224], [659, 1, [104], 1.949217747312224], [665, 2, [28, 31], 2.5359907573337783], [733, 1, [90], 1.949217747312224], [736, 1, [6], 1.949217747312224], [768, 1, [75], 1.949217747312224], [786, 2, [6, 9], 2.5359907573337783], [791, 2, [83, 86], 2.5359907573337783], [809, 2, [314, 317], 2.5359907573337783], [814, 2, [43, 46], 2.5359907573337783], [816, 1, [139], 1.949217747312224], [828, 1, [134], 1.949217747312224], [863, 2, [199, 202], 2.5359907573337783], [864, 2, [78, 81], 2.5359907573337783], [880, 1, [142], 1.949217747312224], [894, 2, [62, 240], 2.5359907573337783], [928, 1, [14], 1.949217747312224], [932, 1, [57], 1.949217747312224], [964, 2, [337, 340], 2.5359907573337783], [986, 1, [261], 1.949217747312224], [995, 2, [15, 18], 2.5359907573337783], [1013, 2, [16, 83], 2.5359907573337783], [1018, 1, [48], 1.949217747312224], [1043, 1, [361], 1.949217747312224], [1087, 1, [11], 1.949217747312224], [1105, 1, [6], 1.949217747312224], [1124, 3, [430, 815, 818], 2.8792309646316663], [1133, 2, [16, 19], 2.5359907573337783], [1157, 1, [30], 1.949217747312224], [1165, 1, [11], 1.949217747312224], [1177, 1, [35], 1.949217747312224], [1183, 1, [541], 1.949217747312224], [1191, 1, [137], 1.949217747312224], [1211, 1, [121], 1.949217747312224], [1228, 2, [60, 63], 2.5359907573337783], [1343, 1, [15], 1.949217747312224], [1345, 1, [90], 1.949217747312224], [1392, 3, [24, 146, 149], 2.8792309646316663], [1413, 1, [194], 1.949217747312224], [1948, 1, [1857], 1.949217747312224], [2073, 2, [45, 332], 2.5359907573337783], [2262, 1, [728], 1.949217747312224], [2340, 1, [26], 1.949217747312224], [3011, 1, [34], 1.949217747312224], [3253, 2, [345, 353], 2.5359907573337783], [3454, 1, [34], 1.949217747312224], [3543, 1, [57], 1.949217747312224], [3601, 1, [35], 1.949217747312224], [3660, 1, [880], 1.949217747312224], [3875, 1, [105], 1.949217747312224], [3887, 1, [39], 1.949217747312224], [3891, 1, [419], 1.949217747312224], [4577, 2, [3942, 4189], 2.5359907573337783], [4883, 1, [0], 1.949217747312224], [5334, 2, [164, 199], 2.5359907573337783], [6567, 2, [889, 1223], 2.5359907573337783], [6683, 1, [46], 1.949217747312224], [7206, 2, [17, 130], 2.5359907573337783], [7211, 1, [276], 1.949217747312224], [7361, 1, [104], 1.949217747312224], [7415, 2, [5, 304], 2.5359907573337783], [7417, 2, [540, 838], 2.5359907573337783], [7429, 1, [199], 1.949217747312224], [7466, 1, [133], 1.949217747312224]]\n"
     ]
    }
   ],
   "source": [
    "# Phase II\n",
    "example = copy.deepcopy(dictionary_not_steam['یحیی'])\n",
    "N = len(content)\n",
    "for x in example:\n",
    "    n = len(example)\n",
    "    tfidf = (1+math.log((x[1]),10)) * math.log((N/n),10)\n",
    "    x.append(tfidf)\n",
    "print(dictionary_not_steam['یحیی'])\n",
    "print(example)"
   ]
  },
  {
   "cell_type": "code",
   "execution_count": null,
   "metadata": {
    "id": "dS5Q0WT81KBl"
   },
   "outputs": [],
   "source": [
    "# Make the tfidf for all of the words\n",
    "def Make_tfidf(dictionary):\n",
    "  N = len(content)\n",
    "  print(\"The contents size : \" , N)\n",
    "  for key , value in dictionary.items():\n",
    "      for x in value:\n",
    "        # the number of docs that we have value in \n",
    "        n = len(value)\n",
    "        # calcualte the tfidf for each docs\n",
    "        tfidf = (1+math.log((x[1]),10)) * math.log((N/n),10)\n",
    "        x.append(tfidf)\n",
    "  return dictionary"
   ]
  },
  {
   "cell_type": "code",
   "execution_count": null,
   "metadata": {
    "id": "HKZR9XTBBCCT"
   },
   "outputs": [],
   "source": [
    "# Nomilaze the vectors\n",
    "def Vector_Normalize(dictionary):\n",
    "    sigma = 0\n",
    "    for key , value in dictionary.items():\n",
    "      for i in range(len(value)):\n",
    "        sigma = sigma + value[i][3]**2\n",
    "      for i in range(len(value)):\n",
    "        value[i][3] = value[i][3]/sigma\n",
    "    return dictionary"
   ]
  },
  {
   "cell_type": "code",
   "execution_count": null,
   "metadata": {
    "id": "qF3ttERD67dT"
   },
   "outputs": [],
   "source": [
    "# The Token Normalizetion\n",
    "def Normalize_tokens(tokens):\n",
    "  print(tokens)\n",
    "  for i in range(len(tokens)):\n",
    "    tokens[i] = lstemmer.stem(tokens[i])\n",
    "  return tokens"
   ]
  },
  {
   "cell_type": "code",
   "execution_count": null,
   "metadata": {
    "id": "BtV5Q3LD4x45"
   },
   "outputs": [],
   "source": [
    "# Vector of the query \n",
    "def vectorize_query(query):\n",
    "    query_token =  word_tokenize(query)\n",
    "    normal_query_token = Normalize_tokens(query_token)\n",
    "    print(normal_query_token)\n",
    "    term_freq_dict = dict(collections.Counter(normal_query_token))\n",
    "    query_terms = {}\n",
    "    for  term,freq in term_freq_dict.items():\n",
    "        if term in dictionary.keys() and term not in stop_words:\n",
    "            query_terms[term] = 1+math.log(freq,10)\n",
    "    return query_terms"
   ]
  },
  {
   "cell_type": "code",
   "execution_count": null,
   "metadata": {
    "id": "kY-3A35f9O0k"
   },
   "outputs": [],
   "source": [
    "# Calculate the Similiraty of query and docs\n",
    "def CosineScore(query_dict , terms):\n",
    "  N = len(content)\n",
    "  scores_dict = {key:0 for key in range(N)}\n",
    "  for key , value in query_dict.items():\n",
    "    term = terms[key]\n",
    "    for x in range(len(term)):\n",
    "      scores_dict[term[x][0]] =scores_dict[term[x][0]] + value * term[x][3]\n",
    "  return scores_dict"
   ]
  },
  {
   "cell_type": "code",
   "execution_count": null,
   "metadata": {
    "id": "ecRjyHAL7f8x"
   },
   "outputs": [],
   "source": [
    "# The weight calculated\n",
    "dictionarys = copy.deepcopy(dictionary)\n",
    "dictionarys = Make_tfidf(dictionarys)\n",
    "dictionarys = Vector_Normalize(dictionarys)"
   ]
  },
  {
   "cell_type": "code",
   "execution_count": null,
   "metadata": {
    "id": "-JKVIyF0_V3k"
   },
   "outputs": [],
   "source": [
    "query_dict = vectorize_query('جمهوری اسلامی ایران')\n",
    "CosineScore(query_dict , dictionarys)"
   ]
  }
 ],
 "metadata": {
  "colab": {
   "collapsed_sections": [
    "QIUAEpIo4NZm"
   ],
   "name": "IR_phase1.ipynb",
   "provenance": []
  },
  "kernelspec": {
   "display_name": "Python 3 (ipykernel)",
   "language": "python",
   "name": "python3"
  },
  "language_info": {
   "codemirror_mode": {
    "name": "ipython",
    "version": 3
   },
   "file_extension": ".py",
   "mimetype": "text/x-python",
   "name": "python",
   "nbconvert_exporter": "python",
   "pygments_lexer": "ipython3",
   "version": "3.9.6"
  }
 },
 "nbformat": 4,
 "nbformat_minor": 1
}
