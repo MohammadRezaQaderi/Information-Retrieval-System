{
  "nbformat": 4,
  "nbformat_minor": 0,
  "metadata": {
    "colab": {
      "name": "IR_phase1.ipynb",
      "provenance": [],
      "collapsed_sections": []
    },
    "kernelspec": {
      "display_name": "Python 3",
      "name": "python3"
    },
    "language_info": {
      "name": "python"
    }
  },
  "cells": [
    {
      "cell_type": "markdown",
      "source": [
        "## PHASE I"
      ],
      "metadata": {
        "id": "QIUAEpIo4NZm"
      }
    },
    {
      "cell_type": "code",
      "metadata": {
        "id": "mRgP16Yvkdr-"
      },
      "source": [
        "pip install hazm"
      ],
      "execution_count": null,
      "outputs": []
    },
    {
      "cell_type": "code",
      "metadata": {
        "id": "st5Bw-zmx2Qf"
      },
      "source": [
        "from __future__ import unicode_literals\n",
        "import pandas as pd\n",
        "import numpy as np\n",
        "from hazm import *\n",
        "import collections \n",
        "import string\n",
        "import operator\n",
        "import datetime\n",
        "import json\n",
        "import math\n",
        "import copy\n",
        "import re\n",
        "import pickle"
      ],
      "execution_count": null,
      "outputs": []
    },
    {
      "cell_type": "code",
      "metadata": {
        "id": "22M5ZSWfzzKl"
      },
      "source": [
        "# Read file from the Google colud\n",
        "!pip install -U -q PyDrive\n",
        "from pydrive.auth import GoogleAuth\n",
        "from pydrive.drive import GoogleDrive\n",
        "from google.colab import auth\n",
        "from oauth2client.client import GoogleCredentials\n",
        "\n",
        "auth.authenticate_user()\n",
        "gauth = GoogleAuth()\n",
        "gauth.credentials = GoogleCredentials.get_application_default()\n",
        "drive = GoogleDrive(gauth)\n",
        "\n",
        "file_id = '1jcbbbPTNnQ3NKrPJJL_oc9vrFvHH4UuR'\n",
        "downloaded = drive.CreateFile({'id': file_id})"
      ],
      "execution_count": null,
      "outputs": []
    },
    {
      "cell_type": "code",
      "metadata": {
        "id": "pWQb8M-G0lNd"
      },
      "source": [
        "downloaded.GetContentFile('/IR1_7k_news.xlsx')"
      ],
      "execution_count": null,
      "outputs": []
    },
    {
      "cell_type": "code",
      "source": [
        "from google.colab import drive\n",
        "drive.mount('/content/drive')\n",
        "root_path = 'drive/My Drive/IR/'"
      ],
      "metadata": {
        "colab": {
          "base_uri": "https://localhost:8080/"
        },
        "id": "wAlPqzQBvLq-",
        "outputId": "17a19e1b-b7a5-41be-b51e-61bc520bca1e"
      },
      "execution_count": null,
      "outputs": [
        {
          "output_type": "stream",
          "name": "stdout",
          "text": [
            "Drive already mounted at /content/drive; to attempt to forcibly remount, call drive.mount(\"/content/drive\", force_remount=True).\n"
          ]
        }
      ]
    },
    {
      "cell_type": "code",
      "metadata": {
        "id": "Fc6yuDCtyi3L",
        "colab": {
          "base_uri": "https://localhost:8080/"
        },
        "outputId": "03efa260-d779-4a80-c3de-9e1fd9c1b352"
      },
      "source": [
        "# read data\n",
        "# df = pd.read_excel(\"./IR1_7k_news.xlsx\")\n",
        "# df = pd.read_excel(\"/IR1_7k_news.xlsx\")\n",
        "df = pd.read_excel('/content/drive/MyDrive/IR_Data/IR1_7k_news.xlsx', engine='openpyxl')\n",
        "urls = df['url']\n",
        "content = df['content']\n",
        "title = df['title']\n",
        "# normalize data by use hazm\n",
        "normalizer = Normalizer()\n",
        "print(content[11])\n",
        "for i in range(len(content)):\n",
        "  content[i] = normalizer.normalize(content[i])\n",
        "copy_content = content\n",
        "print(content[11])"
      ],
      "execution_count": null,
      "outputs": [
        {
          "output_type": "stream",
          "name": "stdout",
          "text": [
            "به گزارش خبرگزاری فارس از **اصفهان،** دیدار تیم‌های ذوب‌آهن و استقلال با 2 گل\n",
            "به سود شاگردان [فرهاد مجیدی](https://www.farsnews.ir/special/فرهاد مجیدی) به\n",
            "پایان رسید.\n",
            "\n",
            "بعد از این مسابقه [رشید مظاهری](https://search.farsnews.ir/?q=رشید\n",
            "مظاهری&o=on) در رختکن ذوب‌آهن حاضر شد و با بازیکنان تیم میزبان خوش وبش کرد.\n",
            "مظاهری بعد از خروج از رختکن به درخواست خبرنگاران برای مصاحبه پاسخ منفی داد و\n",
            "گفت آنقدر مشکل روحی و روانی دارم که اصلاً نمی‌توانم مصاحبه کنم.\n",
            "\n",
            "به گزارش فارس، ظاهراً طی روزهای گذشته مشکلاتی برای دروازه‌بان استقلال در\n",
            "تمرینات این تیم به وجود آمده که وی [به صورت](https://search.farsnews.ir/?q=به\n",
            "صورت&o=on) سربسته مقابل خبرنگاران به این موضوع اشاره کرده است.\n",
            "\n",
            "انتهای پیام/\n",
            "\n",
            "\n"
          ]
        },
        {
          "output_type": "stream",
          "name": "stderr",
          "text": [
            "/usr/local/lib/python3.7/dist-packages/ipykernel_launcher.py:12: SettingWithCopyWarning: \n",
            "A value is trying to be set on a copy of a slice from a DataFrame\n",
            "\n",
            "See the caveats in the documentation: https://pandas.pydata.org/pandas-docs/stable/user_guide/indexing.html#returning-a-view-versus-a-copy\n",
            "  if sys.path[0] == '':\n"
          ]
        },
        {
          "output_type": "stream",
          "name": "stdout",
          "text": [
            "به گزارش خبرگزاری فارس از **اصفهان، ** دیدار تیم‌های ذوب‌آهن و استقلال با ۲ گل\n",
            "به سود شاگردان [فرهاد مجیدی] (https: //www. farsnews. ir/special/فرهاد مجیدی) به\n",
            "پایان رسید. \n",
            "\n",
            "بعد از این مسابقه [رشید مظاهری] (https: //search. farsnews. ir/?q=رشید\n",
            "مظاهری&o=on) در رختکن ذوب‌آهن حاضر شد و با بازیکنان تیم میزبان خوش وبش کرد. \n",
            "مظاهری بعد از خروج از رختکن به درخواست خبرنگاران برای مصاحبه پاسخ منفی داد و\n",
            "گفت آنقدر مشکل روحی و روانی دارم که اصلا نمی‌توانم مصاحبه کنم. \n",
            "\n",
            "به گزارش فارس، ظاهرا طی روزهای گذشته مشکلاتی برای دروازه‌بان استقلال در\n",
            "تمرینات این تیم به وجود آمده که وی [به صورت] (https: //search. farsnews. ir/?q=به\n",
            "صورت&o=on) سربسته مقابل خبرنگاران به این موضوع اشاره کرده است. \n",
            "\n",
            "انتهای پیام/\n",
            "\n",
            "\n"
          ]
        }
      ]
    },
    {
      "cell_type": "code",
      "metadata": {
        "id": "RN44N6fh0YXD",
        "colab": {
          "base_uri": "https://localhost:8080/"
        },
        "outputId": "7c8fc6b2-8084-468a-f421-df50e564bf1d"
      },
      "source": [
        "punctuation  = [ '+','=', '-' , '*' , '.' ,'?', '[', ']','(',')','{','}','<','>', '«' , '»' ,':' , \"؟\", \"؛\" , \"،\", \"،\" ]\n",
        "signs = [ '!' , '@' , '#' , '$' , '%' , '^' , '&' , '*', '_', '\\\\' , '/' , '//' , '|' , \"…\" , \"–\" ,\"_\" , \"   \"]\n",
        "numbers = ['۰' , '۱', '۲','۳', '۴', '۵','۶','۷','۸','۹']\n",
        "signs_ir = ['٪' , ',' , '_','–' , '٫' , '\"' ]\n",
        "img_src = ['UFITNPF']\n",
        "end = ['انتهای پیام']\n",
        "# some_unknown_char = ['\\u200c' , '\\u200d' , '\\u200e' , '\\u200f']\n",
        "english = list(string.ascii_lowercase) + list(string.ascii_uppercase)\n",
        "not_used = punctuation + signs + numbers + signs_ir + img_src + english + end \n",
        "print(not_used)"
      ],
      "execution_count": null,
      "outputs": [
        {
          "output_type": "stream",
          "name": "stdout",
          "text": [
            "['+', '=', '-', '*', '.', '?', '[', ']', '(', ')', '{', '}', '<', '>', '«', '»', ':', '؟', '؛', '،', '،', '!', '@', '#', '$', '%', '^', '&', '*', '_', '\\\\', '/', '//', '|', '…', '–', '_', '   ', '۰', '۱', '۲', '۳', '۴', '۵', '۶', '۷', '۸', '۹', '٪', ',', '_', '–', '٫', '\"', 'UFITNPF', 'a', 'b', 'c', 'd', 'e', 'f', 'g', 'h', 'i', 'j', 'k', 'l', 'm', 'n', 'o', 'p', 'q', 'r', 's', 't', 'u', 'v', 'w', 'x', 'y', 'z', 'A', 'B', 'C', 'D', 'E', 'F', 'G', 'H', 'I', 'J', 'K', 'L', 'M', 'N', 'O', 'P', 'Q', 'R', 'S', 'T', 'U', 'V', 'W', 'X', 'Y', 'Z', 'انتهای پیام']\n"
          ]
        }
      ]
    },
    {
      "cell_type": "code",
      "source": [
        "stopwords = set(stopwords_list())\n",
        "print(len(stopwords))"
      ],
      "metadata": {
        "colab": {
          "base_uri": "https://localhost:8080/"
        },
        "id": "UqX8EkKEWqVJ",
        "outputId": "3a22d101-12bf-4263-ecd2-5dbc663dc96a"
      },
      "execution_count": null,
      "outputs": [
        {
          "output_type": "stream",
          "name": "stdout",
          "text": [
            "389\n"
          ]
        }
      ]
    },
    {
      "cell_type": "markdown",
      "source": [
        "اینجا در ابتدا میبایستی ما یکسری از حروف‌های بلا استفاده رو حذف کنیم"
      ],
      "metadata": {
        "id": "L_oW7PrLdCeU"
      }
    },
    {
      "cell_type": "code",
      "metadata": {
        "id": "tCh0qhUXz28z",
        "colab": {
          "base_uri": "https://localhost:8080/"
        },
        "outputId": "a1045461-85ad-4395-fc6f-193c8ef72ad4"
      },
      "source": [
        "# Make the change for the not_used word for us\n",
        "for i in range(len(content)):\n",
        "    for l in not_used:\n",
        "        content[i] = content[i].replace(l,\"\")"
      ],
      "execution_count": null,
      "outputs": [
        {
          "output_type": "stream",
          "name": "stderr",
          "text": [
            "/usr/local/lib/python3.7/dist-packages/ipykernel_launcher.py:4: SettingWithCopyWarning: \n",
            "A value is trying to be set on a copy of a slice from a DataFrame\n",
            "\n",
            "See the caveats in the documentation: https://pandas.pydata.org/pandas-docs/stable/user_guide/indexing.html#returning-a-view-versus-a-copy\n",
            "  after removing the cwd from sys.path.\n"
          ]
        }
      ]
    },
    {
      "cell_type": "code",
      "metadata": {
        "id": "IcxQwiX7_nu0"
      },
      "source": [
        "# make copy from the content that preprocess them (it used ^_^)\n",
        "# preprocess_content =copy.deepcopy(content)"
      ],
      "execution_count": null,
      "outputs": []
    },
    {
      "cell_type": "code",
      "metadata": {
        "id": "O5L132YOnyL8",
        "colab": {
          "base_uri": "https://localhost:8080/"
        },
        "outputId": "01905cd9-c230-4bf3-f1e2-1dd026093c70"
      },
      "source": [
        "print(content[11])\n",
        "print(content[9])"
      ],
      "execution_count": null,
      "outputs": [
        {
          "output_type": "stream",
          "name": "stdout",
          "text": [
            "به گزارش خبرگزاری فارس از اصفهان  دیدار تیم‌های ذوب‌آهن و استقلال با  گل\n",
            "به سود شاگردان فرهاد مجیدی    فرهاد مجیدی به\n",
            "پایان رسید \n",
            "\n",
            "بعد از این مسابقه رشید مظاهری    رشید\n",
            "مظاهری در رختکن ذوب‌آهن حاضر شد و با بازیکنان تیم میزبان خوش وبش کرد \n",
            "مظاهری بعد از خروج از رختکن به درخواست خبرنگاران برای مصاحبه پاسخ منفی داد و\n",
            "گفت آنقدر مشکل روحی و روانی دارم که اصلا نمی‌توانم مصاحبه کنم \n",
            "\n",
            "به گزارش فارس ظاهرا طی روزهای گذشته مشکلاتی برای دروازه‌بان استقلال در\n",
            "تمرینات این تیم به وجود آمده که وی به صورت    به\n",
            "صورت سربسته مقابل خبرنگاران به این موضوع اشاره کرده است \n",
            "\n",
            "\n",
            "\n",
            "\n",
            "به گزارش خبرگزاری فارس از اصفهان مسعود ابراهیم‌زاده پس از شکست خانگی\n",
            "ذوب‌آهن مقابل استقلال در هفته دوم لیگ برتر اظهار داشت به تیم استقلال تبریک\n",
            "می‌گویم بازی خوب و جانداری بود موقعیت‌های\n",
            " خوبی    خوبی داشتیم اما فوتبال روز بدش را\n",
            "به ما نشان داد در نیمه اول سه موقعیت تک به تک را نزدیم تیم جوانی داریم و\n",
            "بچه‌ها برای اولین‌بار مقابل استقلال بازی می‌کردند استرس داشتند اما روز به روز\n",
            "بهتر می‌شویم حق‌مان باخت نبود ان‌شاءالله در آینده جبران می‌کنیم \n",
            "\n",
            "وی در مورد بستن بازوبند کاپیتانی ذوب‌آهن گفت ‌ این بازوبند دست کسانی بوده که\n",
            "از نظر اخلاقی و فوتبالی بزرگتر از من هستند قاسم حدادی‌فر دوست و بزرگتر صاحب\n",
            "ذوب‌آهن است ان‌شا‌ءالله بتوانم امانتدار خوبی باشم و به ذوب‌آهن کمک کنم این\n",
            "تیم دو سال سخت داشت امیدوارم امسال بهترین سال ذوب‌آهن باشد به این باخت نگاه\n",
            "نکنید \n",
            "\n",
            "ابراهیم‌زاده با اشاره به حضور تارتار در ذوب‌آهن تصریح کرد تارتار را همه\n",
            "می‌شناسند تیم با سبک بازی هجومی و پرس از بالا کار می‌کند نظم دارد ذوب‌آهن\n",
            "حرف‌های زیادی برای گفتن خواهد داشت ان‌شاءالله  و خیلی از چیزهای دیگر به\n",
            "فوتبال ما بیاید فکر می‌کنم گل دوم استقلال شاید آفساید بود به هر حال دیگر\n",
            "گذشت \n",
            "\n",
            "\n",
            "\n",
            "\n"
          ]
        }
      ]
    },
    {
      "cell_type": "code",
      "metadata": {
        "id": "0k-3WtctvQLC",
        "colab": {
          "base_uri": "https://localhost:8080/",
          "height": 35
        },
        "outputId": "662a1220-6d80-4f22-b557-029e785a3472"
      },
      "source": [
        "# make the stem of the word\n",
        "lstemmer = Stemmer()\n",
        "lstemmer.stem('مظاهری')"
      ],
      "execution_count": null,
      "outputs": [
        {
          "output_type": "execute_result",
          "data": {
            "application/vnd.google.colaboratory.intrinsic+json": {
              "type": "string"
            },
            "text/plain": [
              "'مظاهر'"
            ]
          },
          "metadata": {},
          "execution_count": 9
        }
      ]
    },
    {
      "cell_type": "code",
      "metadata": {
        "id": "E_ES17OzgDed",
        "colab": {
          "base_uri": "https://localhost:8080/"
        },
        "outputId": "9249ff24-290c-40da-a7e3-81148f933894"
      },
      "source": [
        "# the verb stem\n",
        "lemmatizer = Lemmatizer()\n",
        "verbs = lemmatizer.lemmatize('مظاهری')\n",
        "x = verbs.split('#')\n",
        "print(x)"
      ],
      "execution_count": null,
      "outputs": [
        {
          "output_type": "stream",
          "name": "stdout",
          "text": [
            "['مظاهر']\n"
          ]
        }
      ]
    },
    {
      "cell_type": "code",
      "metadata": {
        "id": "Bk-Dijh7vmFh"
      },
      "source": [
        "# get tokenize by using the hazm word tokenize\n",
        "normalizer = Normalizer()\n",
        "dictionary_non_posting = collections.defaultdict(list)\n",
        "for i in range(len(content)):\n",
        "  tokenizes = []\n",
        "  tokenizes = word_tokenize(content[i])\n",
        "  tokenizes_count = dict(collections.Counter(tokenizes))\n",
        "  for key , value in tokenizes_count.items():\n",
        "    if key in dictionary_non_posting:\n",
        "      value_old = dictionary_non_posting[key]\n",
        "      dictionary_non_posting[key] = value + value_old\n",
        "    else:\n",
        "      dictionary_non_posting[key] = value "
      ],
      "execution_count": null,
      "outputs": []
    },
    {
      "cell_type": "code",
      "source": [
        "print((dictionary_non_posting['و']))\n",
        "print(len(dictionary_non_posting))"
      ],
      "metadata": {
        "colab": {
          "base_uri": "https://localhost:8080/"
        },
        "id": "SNuBmyKIyZb_",
        "outputId": "68712c5c-79e1-45c3-9057-cfec0c11ab02"
      },
      "execution_count": null,
      "outputs": [
        {
          "output_type": "stream",
          "name": "stdout",
          "text": [
            "130255\n",
            "58734\n"
          ]
        }
      ]
    },
    {
      "cell_type": "code",
      "metadata": {
        "id": "oA1p3iTMRx3i"
      },
      "source": [
        "length_dict_non_posting = {k: v for k, v in sorted(dictionary_non_posting.items(), key=lambda item: item[1] , reverse=True)}\n",
        "with open(\"mydict.txt\", 'w') as f: \n",
        "    for key, value in length_dict_non_posting.items(): \n",
        "        f.write(\"%s:%s\\n\" % (key, value))"
      ],
      "execution_count": null,
      "outputs": []
    },
    {
      "cell_type": "code",
      "metadata": {
        "id": "gM8_6dVEAozE",
        "colab": {
          "base_uri": "https://localhost:8080/"
        },
        "outputId": "dedd50bc-ae6f-4165-e5d9-ca564d4b0b83"
      },
      "source": [
        "stop_words = ['آنها' , 'پیش' ,'پس' ,'هر' ,'او' ,'یا' ,'نیز' ,'وی' ,'ما' ,'خود' ,'هم' ,'تا' ,'آن' ,'بر' ,'برای' ,'را' ,'با' ,'که' ,'این' ,'از' ,'به' ,'در' ,'و' ]\n",
        "stopwords.update(stop_words)\n",
        "print(len(stopwords))"
      ],
      "execution_count": null,
      "outputs": [
        {
          "output_type": "stream",
          "name": "stdout",
          "text": [
            "389\n"
          ]
        }
      ]
    },
    {
      "cell_type": "code",
      "source": [
        "# to find position of each word in contents\n",
        "def position_find(word_to_find , lists):\n",
        "  # words = contents.split()\n",
        "  return  [pos for pos, word in enumerate(lists, start=0) if ((word == word_to_find) )] \n"
      ],
      "metadata": {
        "id": "8OSjWzM-mTnN"
      },
      "execution_count": null,
      "outputs": []
    },
    {
      "cell_type": "code",
      "metadata": {
        "id": "MULHAoaIJDXC"
      },
      "source": [
        "# get tokenize by using the hazm word tokenize (the postings list [docid , ferq , [position]])\n",
        "normalizer = Normalizer()\n",
        "dictionary_not_steam = collections.defaultdict(list)\n",
        "for i in range(len(content)):\n",
        "    tokenizes = []\n",
        "    tokenizes = word_tokenize(content[i])\n",
        "    tokenizes_count = dict(collections.Counter(tokenizes))\n",
        "    for key , value in tokenizes_count.items():\n",
        "      if((key not in stopwords)):\n",
        "        index = []\n",
        "        pos_index = position_find(key , tokenizes)\n",
        "        index.append(i)\n",
        "        index.append(value)\n",
        "        index.append(pos_index)\n",
        "        dictionary_not_steam[key].append(index)    "
      ],
      "execution_count": null,
      "outputs": []
    },
    {
      "cell_type": "code",
      "source": [
        "print(dictionary_not_steam['و'])\n",
        "print(len(dictionary_not_steam))\n",
        "print(dictionary_not_steam['یحیی'])\n",
        "print(len(dictionary_not_steam['یحیی']))"
      ],
      "metadata": {
        "id": "HBr6Auv0Asxk",
        "colab": {
          "base_uri": "https://localhost:8080/"
        },
        "outputId": "0e11e144-9331-4fb8-d86c-c26e78162552"
      },
      "execution_count": null,
      "outputs": [
        {
          "output_type": "stream",
          "name": "stdout",
          "text": [
            "[]\n",
            "58346\n",
            "[[1, 1, [126]], [47, 2, [160, 163]], [49, 1, [374]], [84, 2, [60, 63]], [128, 1, [50]], [132, 2, [55, 58]], [177, 2, [482, 485]], [223, 1, [6]], [226, 2, [19, 22]], [227, 1, [248]], [231, 1, [168]], [237, 1, [4]], [251, 2, [6, 9]], [268, 2, [4, 7]], [485, 2, [23, 100]], [532, 2, [246, 249]], [601, 1, [50]], [647, 2, [6, 9]], [652, 1, [15]], [653, 1, [183]], [654, 1, [163]], [656, 1, [89]], [659, 1, [104]], [665, 2, [28, 31]], [733, 1, [90]], [736, 1, [6]], [768, 1, [75]], [786, 2, [6, 9]], [791, 2, [83, 86]], [809, 2, [314, 317]], [814, 2, [43, 46]], [816, 1, [139]], [828, 1, [134]], [863, 2, [199, 202]], [864, 2, [78, 81]], [880, 1, [142]], [894, 2, [62, 240]], [928, 1, [14]], [932, 1, [57]], [964, 2, [337, 340]], [986, 1, [261]], [995, 2, [15, 18]], [1013, 2, [16, 83]], [1018, 1, [48]], [1043, 1, [361]], [1087, 1, [11]], [1105, 1, [6]], [1124, 3, [430, 815, 818]], [1133, 2, [16, 19]], [1157, 1, [30]], [1165, 1, [11]], [1177, 1, [35]], [1183, 1, [541]], [1191, 1, [137]], [1211, 1, [121]], [1228, 2, [60, 63]], [1343, 1, [15]], [1345, 1, [90]], [1392, 3, [24, 146, 149]], [1413, 1, [194]], [1948, 1, [1858]], [2073, 2, [45, 332]], [2262, 1, [728]], [2340, 1, [26]], [3011, 1, [34]], [3253, 2, [346, 354]], [3454, 1, [34]], [3543, 1, [57]], [3601, 1, [35]], [3660, 1, [880]], [3875, 1, [105]], [3887, 1, [39]], [3891, 1, [419]], [4577, 2, [3942, 4189]], [4883, 1, [0]], [5334, 2, [164, 199]], [6567, 2, [889, 1224]], [6683, 1, [46]], [7206, 2, [17, 130]], [7211, 1, [276]], [7361, 1, [104]], [7415, 2, [5, 304]], [7417, 2, [540, 838]], [7429, 1, [199]], [7466, 1, [133]]]\n",
            "85\n"
          ]
        }
      ]
    },
    {
      "cell_type": "code",
      "metadata": {
        "id": "Om7zuvqY3Ezp"
      },
      "source": [
        "lstemmer = Stemmer()\n",
        "lemmatizer = Lemmatizer()\n",
        "def stem_stop(words_content):\n",
        "  for j in range(len(words_content)):\n",
        "        words_content[j] = lstemmer.stem(words_content[j])\n",
        "  return words_content"
      ],
      "execution_count": null,
      "outputs": []
    },
    {
      "cell_type": "code",
      "metadata": {
        "id": "wmgXZSfL3U1C"
      },
      "source": [
        "# get tokenize by using the hazm word tokenize (the postings list [docid , ferq , [position]])\n",
        "dictionary = collections.defaultdict(list)\n",
        "for i in range(len(content)):\n",
        "    tokenizes = []\n",
        "    tokenizes = word_tokenize(content[i])\n",
        "    tokenizes = stem_stop(tokenizes)\n",
        "    tokenizes_count = dict(collections.Counter(tokenizes))\n",
        "    for key , value in tokenizes_count.items():\n",
        "        if key not in stopwords:\n",
        "          index = []\n",
        "          pos_index = position_find(key , tokenizes)\n",
        "          index.append(i)\n",
        "          index.append(value)\n",
        "          index.append(pos_index)\n",
        "          dictionary[key].append(index)"
      ],
      "execution_count": null,
      "outputs": []
    },
    {
      "cell_type": "code",
      "source": [
        "print(len(dictionary))"
      ],
      "metadata": {
        "id": "X-nAg9xFpqCF",
        "colab": {
          "base_uri": "https://localhost:8080/"
        },
        "outputId": "d5542387-ce9a-4d20-a86d-f1f660539d17"
      },
      "execution_count": null,
      "outputs": [
        {
          "output_type": "stream",
          "name": "stdout",
          "text": [
            "39436\n"
          ]
        }
      ]
    },
    {
      "cell_type": "code",
      "metadata": {
        "id": "lkg4aSkKO2Xt"
      },
      "source": [
        "# write the postings list in json \n",
        "with open('posting-list.pickle', 'wb') as handle:\n",
        "    pickle.dump(dictionary, handle, protocol=pickle.HIGHEST_PROTOCOL)\n",
        "# with open(\"posting-list.json\", \"w\") as outfile:\n",
        "#     json.dump(dictionary, outfile)"
      ],
      "execution_count": null,
      "outputs": []
    },
    {
      "cell_type": "code",
      "source": [
        "print(len(dictionary[lstemmer.stem('')]))\n",
        "print((dictionary[lstemmer.stem('')]))\n",
        "print(dictionary_not_steam[('بین‌الملل')])\n",
        "print(len(dictionary_not_steam[('بین‌الملل')]))\n"
      ],
      "metadata": {
        "id": "5m2V6nLDzVeR"
      },
      "execution_count": null,
      "outputs": []
    },
    {
      "cell_type": "code",
      "metadata": {
        "id": "Zc-jKzn4ItV0"
      },
      "source": [
        "# the more priority\n",
        "def sort_dict(dictionary):\n",
        "   dicts = dictionary\n",
        "   sorted_dicts = sorted(dicts, key = operator.itemgetter(0, 1) , reverse=False)\n",
        "   all = 0\n",
        "   for i in range(len(sorted_dicts)):\n",
        "     all = all + sorted_dicts[i][1]\n",
        "   return all , sorted_dicts"
      ],
      "execution_count": null,
      "outputs": []
    },
    {
      "cell_type": "code",
      "source": [
        "# Enter With wrong keyboard language\n",
        "def _multiple_replace(mapping, text):\n",
        "    pattern = \"|\".join(map(re.escape, mapping.keys()))\n",
        "    return re.sub(pattern, lambda m: mapping[m.group()], str(text))\n",
        "\n",
        "def convert_en_characters(input_str):\n",
        "    mapping = {\n",
        "        'q': 'ض',\n",
        "        'w': 'ص',\n",
        "        'e': 'ث',\n",
        "        'r': 'ق',\n",
        "        't': 'ف',\n",
        "        'y': 'غ',\n",
        "        'u': 'ع',\n",
        "        'i': 'ه',\n",
        "        'o': 'خ',\n",
        "        'p': 'ح',\n",
        "        '[': 'ج',\n",
        "        ']': 'چ',\n",
        "        'a': 'ش',\n",
        "        's': 'س',\n",
        "        'd': 'ی',\n",
        "        'f': 'ب',\n",
        "        'g': 'ل',\n",
        "        'h': 'ا',\n",
        "        'j': 'ت',\n",
        "        'k': 'ن',\n",
        "        'l': 'م',\n",
        "        ';': 'ک',\n",
        "        \"'\": 'گ',\n",
        "        'z': 'ظ',\n",
        "        'x': 'ط',\n",
        "        'c': 'ز',\n",
        "        'v': 'ر',\n",
        "        'b': 'ذ',\n",
        "        'n': 'د',\n",
        "        'm': 'پ',\n",
        "        ',': 'و',\n",
        "        '?': '؟',\n",
        "        'C': 'ژ',\n",
        "        'H': 'آ',\n",
        "    }\n",
        "    return _multiple_replace(mapping, input_str)"
      ],
      "metadata": {
        "id": "roKhX9chglXR"
      },
      "execution_count": null,
      "outputs": []
    },
    {
      "cell_type": "code",
      "source": [
        "convert_en_characters(\"Cdlkhsjd;\")"
      ],
      "metadata": {
        "id": "e-N-xnK0hpHJ",
        "colab": {
          "base_uri": "https://localhost:8080/",
          "height": 35
        },
        "outputId": "3e7e469a-52bf-4d98-a354-b78e1d11d779"
      },
      "execution_count": null,
      "outputs": [
        {
          "output_type": "execute_result",
          "data": {
            "application/vnd.google.colaboratory.intrinsic+json": {
              "type": "string"
            },
            "text/plain": [
              "'ژیمناستیک'"
            ]
          },
          "metadata": {},
          "execution_count": 35
        }
      ]
    },
    {
      "cell_type": "code",
      "metadata": {
        "id": "A_gYEzMXH_Br"
      },
      "source": [
        "# one word query \n",
        "# this sorted query question by frequency\n",
        "def query_one_word():\n",
        "  query = input(\"enter a word for checking: \")\n",
        "  query = convert_en_characters(query)\n",
        "  time_start = datetime.datetime.now()\n",
        "  normal_query = lstemmer.stem(query)\n",
        "  print(\"Normal word to search {}\".format(normal_query))\n",
        "  # all ,sorted_dict = sort_dict(dictionary[normal_query])\n",
        "  dicts = dictionary[normal_query]\n",
        "  sorted_dict = sorted(dicts, key = operator.itemgetter(1, 2) , reverse=True)\n",
        "  print(sorted_dict)\n",
        "  time_finish = datetime.datetime.now()\n",
        "  print(\"{} results in {} ms\".format(len(sorted_dict), ((time_finish - time_start).total_seconds())*1000))\n",
        "  print(\"id -> title\\n\")\n",
        "  for i in sorted_dict:\n",
        "    print(\"{} -> {}\".format(i[0] , title[i[0]]))\n",
        "  print(sorted_dict)\n",
        "\n"
      ],
      "execution_count": null,
      "outputs": []
    },
    {
      "cell_type": "code",
      "source": [
        "query_one_word()"
      ],
      "metadata": {
        "id": "UTYdTl_UYkkV",
        "colab": {
          "base_uri": "https://localhost:8080/"
        },
        "outputId": "ef9fad2a-40a0-4ed8-bcba-63af5f58947d"
      },
      "execution_count": null,
      "outputs": [
        {
          "output_type": "stream",
          "name": "stdout",
          "text": [
            "enter a word for checking: Cdlkhsjd;\n",
            "Normal word to search ژیمناستیک\n",
            "[[1367, 12, [15, 48, 126, 132, 145, 185, 231, 245, 281, 287, 300, 306]], [632, 12, [14, 35, 70, 137, 154, 164, 223, 237, 261, 324, 339, 380]], [4188, 3, [210, 409, 623]], [3664, 3, [10, 65, 114]], [3878, 2, [227, 424]], [1456, 2, [33, 254]], [4056, 1, [718]], [3615, 1, [10]]]\n",
            "8 results in 0.147 ms\n",
            "id -> title\n",
            "\n",
            "1367 -> هشدار هیات ژیمناستیک تهران در خصوص سالن‌های مختلط و اقدامات غیراخلاقی\n",
            "632 -> خیرخواه: برخی به دنبال فلج کردن ژیمناستیک هستند/ با بایکوت فدراسیون موفقیت‌ها بیشتر شد\n",
            "4188 -> جزییات تعطیلی‌های ورزش ایران تا ۹ مهر ۱۴۰۰/ کدام فعالیت‌های ورزشی در تهران ممنوع است؟\n",
            "3664 -> ثبت نام ۱۳ نامزد برای پست ریاست فدراسیون ژیمناستیک + اسامی\n",
            "3878 -> جزییات تعطیلی ورزش ایران تا پایان تیرماه+ تصویر\n",
            "1456 -> سوت‌زنی| تذکر و برخورد با سالن‌های ورزشی مختلط توسط وزارت ورزش\n",
            "4056 -> دبیر: اگر من در مباحث فنی ۱۰ باشم، درستکار ۱۰۰ است/ بنا کاملا بر اساس چرخه انتخابی عمل کرد!\n",
            "3615 -> دبیر مجمع فدراسیون ژیمناستیک مشخص شد\n",
            "[[1367, 12, [15, 48, 126, 132, 145, 185, 231, 245, 281, 287, 300, 306]], [632, 12, [14, 35, 70, 137, 154, 164, 223, 237, 261, 324, 339, 380]], [4188, 3, [210, 409, 623]], [3664, 3, [10, 65, 114]], [3878, 2, [227, 424]], [1456, 2, [33, 254]], [4056, 1, [718]], [3615, 1, [10]]]\n"
          ]
        }
      ]
    },
    {
      "cell_type": "code",
      "metadata": {
        "id": "BkxTYZpLFM6z"
      },
      "source": [
        "# the dictionary values is the posting lists\n",
        "# post_list = dictionary[key][i] \n",
        "# the i is iteated \n",
        "# return docID\n",
        "def docID(post_list):\n",
        "        return post_list[0]"
      ],
      "execution_count": null,
      "outputs": []
    },
    {
      "cell_type": "code",
      "metadata": {
        "id": "uANGs5WBFoER"
      },
      "source": [
        "# the dictionary values is the posting lists\n",
        "# post_list = dictionary[key][i] \n",
        "# the i is iteated \n",
        "# return list of position\n",
        "def position(plist):\n",
        "        return plist[2]    "
      ],
      "execution_count": null,
      "outputs": []
    },
    {
      "cell_type": "code",
      "metadata": {
        "id": "9-xR9FNtGw2y"
      },
      "source": [
        "# position intersection algorithm\n",
        "# get the to word position list and start find k position for p1 , p2\n",
        "def position_intersect(p1,p2,k):\n",
        "        answer = []                                                                     # answer <- ()\n",
        "        len1 = len(p1)\n",
        "        len2 = len(p2)\n",
        "        i = j = 0 \n",
        "        while i != len1 and j != len2:                                                  # while (p1 != nil and p2 != nil)\n",
        "                if docID(p1[i]) == docID(p2[j]):\n",
        "                        l = []                                                          # l <- ()\n",
        "                        pp1 = position(p1[i])                                           # pp1 <- positions(p1)\n",
        "                        pp2 = position(p2[j])                                           # pp2 <- positions(p2)\n",
        "    \n",
        "                        plen1 = len(pp1)\n",
        "                        plen2 = len(pp2)\n",
        "                        ii = jj = 0 \n",
        "                        while ii != plen1:                                              # while (pp1 != nil)\n",
        "                                while jj != plen2:                                      # while (pp2 != nil)\n",
        "                                        if abs(pp1[ii] - pp2[jj]) <= k:                 # if (|pos(pp1) - pos(pp2)| <= k)\n",
        "                                                l.append(pp2[jj])                       # l.add(pos(pp2))\n",
        "                                        elif pp2[jj] > pp1[ii]:                         # else if (pos(pp2) > pos(pp1))\n",
        "                                                break    \n",
        "                                        jj+=1                                           # pp2 <- next(pp2)      \n",
        "                                while l != [] and abs(l[0] - pp1[ii]) > k :             # while (l != () and |l(0) - pos(pp1)| > k)\n",
        "                                        l.remove(l[0])                                  # delete(l[0])\n",
        "                                for ps in l:                                            # for each ps in l\n",
        "                                        answer.append([ docID(p1[i]), pp1[ii], ps ])    # add answer(docID(p1), pos(pp1), ps)\n",
        "                                ii+=1                                                   # pp1 <- next(pp1)\n",
        "                        i+=1                                                            # p1 <- next(p1)\n",
        "                        j+=1                                                            # p2 <- next(p2)\n",
        "                elif docID(p1[i]) < docID(p2[j]):                                       # else if (docID(p1) < docID(p2))\n",
        "                        i+=1                                                            # p1 <- next(p1)                                                        \n",
        "                else:\n",
        "                        j+=1                                                            # p2 <- next(p2)\n",
        "        return answer"
      ],
      "execution_count": null,
      "outputs": []
    },
    {
      "cell_type": "code",
      "metadata": {
        "id": "j3fcOadkLhV-"
      },
      "source": [
        "# multi word query \n",
        "# this sorted query question by frequency\n",
        "def query_multi():\n",
        "  sorted_dicts = []\n",
        "  query = input(\"enter words for checking: \")\n",
        "  time_start = datetime.datetime.now()\n",
        "  query_split = query.split(\" \")\n",
        "  for q in range(len(query_split)):\n",
        "    query_split[q] = convert_en_characters(query_split[q])\n",
        "  k = 1\n",
        "  if len(query_split) < 2:\n",
        "    print(\"not enough word:(\")\n",
        "    return \n",
        "  for i in range(len(query_split)):\n",
        "    normal_query = lstemmer.stem(query_split[i])\n",
        "    print(\"Normal word to search {}\".format(normal_query))\n",
        "    all , diction =  sort_dict(dictionary[normal_query])\n",
        "    print(all)\n",
        "    print(diction)\n",
        "    sorted_dicts.append((all , diction))\n",
        "  print(sorted_dicts)\n",
        "  sorted_dicts = sorted(sorted_dicts, key = lambda x: x[1])\n",
        "  for x in range(len(sorted_dicts)-1):\n",
        "    if(sorted_dicts[x][0] == 0):\n",
        "      sorted_dicts.pop(x)\n",
        "  print(len(sorted_dicts))\n",
        "  print(\"sorted_dicts: \", sorted_dicts)\n",
        "  if len(sorted_dicts) > 2:\n",
        "    sorted_dicts1 = position_intersect(sorted_dicts[0][1] ,sorted_dicts[1][1] , k)\n",
        "    sorted_dicts1 = sorted(sorted_dicts1, key = lambda x: x[1])\n",
        "    sorted_dicts2 = position_intersect(sorted_dicts[1][1] ,sorted_dicts[2][1] , k)\n",
        "    sorted_dicts2 = sorted(sorted_dicts2, key = lambda x: x[1])\n",
        "    print(\"sorted_dicts1: \", sorted_dicts1)\n",
        "    print(\"sorted_dicts2: \",sorted_dicts2)\n",
        "\n",
        "  elif (len(sorted_dicts) == 2):\n",
        "    sorted_dicts = position_intersect(sorted_dicts[0][1] ,sorted_dicts[1][1] , k)\n",
        "    sorted_dicts = sorted(sorted_dicts, key = lambda x: x[1])\n",
        "    print(sorted_dicts)\n",
        "    res = collections.defaultdict(list)\n",
        "    for x in range(len(sorted_dicts)):\n",
        "      res[sorted_dicts[x][0]].append([sorted_dicts[x][1] , sorted_dicts[x][2]])\n",
        "    res = sorted(res, key=lambda k: len(res[k]), reverse=True)\n",
        "  time_finish = datetime.datetime.now()\n",
        "  print(\"{} results in {} ms\".format(len(res), ((time_finish - time_start).total_seconds())*1000))\n",
        "  print(\"id -> title\\n\")\n",
        "  for i in range(len(res)):\n",
        "    print(\"{} -> {}\".format(res[i] , title[res[i]]))\n"
      ],
      "execution_count": null,
      "outputs": []
    },
    {
      "cell_type": "code",
      "source": [
        "query_multi()"
      ],
      "metadata": {
        "id": "a355pung0lwP"
      },
      "execution_count": null,
      "outputs": []
    },
    {
      "cell_type": "code",
      "source": [
        "def multi_query2():\n",
        "  sorted_dicts = []\n",
        "  query = input(\"enter words for checking: \")\n",
        "  time_start = datetime.datetime.now()\n",
        "  query_split = query.split(\" \")\n",
        "  for q in range(len(query_split)):\n",
        "    query_split[q] = convert_en_characters(query_split[q])\n",
        "  k = 1\n",
        "  if len(query_split) < 2:\n",
        "    print(\"not enough word:(\")\n",
        "    return\n",
        "  postings_list = []\n",
        "  for i in range(len(query_split)):\n",
        "    normal_query = lstemmer.stem(query_split[i])\n",
        "    print(\"Normal word to search {}\".format(normal_query))\n",
        "    if normal_query in dictionary.keys():\n",
        "      _ , postings =  sort_dict(dictionary[normal_query])\n",
        "      postings_list.append(postings)\n",
        "  w = 0\n",
        "  response = []\n",
        "  while (w < len(postings_list) - 1):\n",
        "      response.append(position_intersect(postings_list[w], postings_list[w+1], k))\n",
        "      w += 1\n",
        "  print(response)\n",
        "  IDs = []\n",
        "  for i in  range(len(response)):\n",
        "      temp = []\n",
        "      for j in response[i]:\n",
        "          temp.append(j[0])\n",
        "      IDs.append(temp)\n",
        "  print(IDs)\n",
        "  time_finish = datetime.datetime.now()\n",
        "  print(\"{} results in {} ms\".format(len(IDs[0]), ((time_finish - time_start).total_seconds())*1000))\n",
        "  # else:\n",
        "  #   postings_lists = []\n",
        "  #   for word in query_splits:\n"
      ],
      "metadata": {
        "id": "Oz80Qx_OTXXY"
      },
      "execution_count": null,
      "outputs": []
    },
    {
      "cell_type": "code",
      "source": [
        "multi_query2()"
      ],
      "metadata": {
        "colab": {
          "base_uri": "https://localhost:8080/"
        },
        "id": "5gzQLUX2Wo3E",
        "outputId": "d43b89d4-eeb5-4160-ddf3-ff9502082915"
      },
      "execution_count": null,
      "outputs": [
        {
          "output_type": "stream",
          "name": "stdout",
          "text": [
            "enter words for checking: [li,vd hsghld hdvhk\n",
            "Normal word to search جمهور\n",
            "Normal word to search اسلام\n",
            "Normal word to search ایر\n",
            "[[[80, 1911, 1912], [189, 900, 901], [314, 298, 299], [417, 385, 386], [417, 388, 389], [510, 383, 384], [510, 386, 387], [617, 916, 917], [617, 999, 1000], [617, 1068, 1069], [617, 1623, 1624], [624, 12, 13], [624, 121, 122], [844, 31, 32], [887, 355, 356], [1331, 19, 20], [1331, 23, 24], [1526, 12, 13], [1601, 56, 57], [1704, 116, 117], [1704, 348, 349], [1706, 124, 125], [1707, 887, 888], [1707, 1003, 1004], [1708, 60, 61], [1711, 31, 32], [1719, 161, 162], [1719, 164, 165], [1724, 2037, 2038], [1727, 630, 631], [1727, 633, 634], [1732, 67, 68], [1732, 74, 75], [1736, 436, 437], [1736, 1144, 1145], [1743, 199, 200], [1743, 242, 243], [1743, 245, 246], [1745, 36, 37], [1748, 1560, 1561], [1748, 1605, 1606], [1749, 92, 93], [1751, 110, 111], [1753, 88, 89], [1753, 3845, 3846], [1763, 113, 114], [1769, 26, 27], [1769, 47, 48], [1769, 51, 52], [1770, 3218, 3219], [1770, 3257, 3258], [1770, 3291, 3292], [1770, 3924, 3925], [1776, 9, 10], [1776, 104, 105], [1779, 235, 236], [1782, 618, 619], [1787, 53, 54], [1787, 133, 134], [1787, 330, 331], [1790, 307, 308], [1798, 16, 17], [1798, 20, 21], [1798, 189, 190], [1798, 419, 420], [1798, 440, 441], [1798, 589, 590], [1798, 592, 593], [1800, 516, 517], [1803, 414, 415], [1803, 418, 419], [1804, 31, 32], [1809, 29, 30], [1809, 511, 512], [1809, 515, 516], [1812, 258, 259], [1818, 28, 29], [1820, 16, 17], [1837, 27, 28], [1837, 31, 32], [1837, 310, 311], [1842, 61, 62], [1842, 115, 116], [1842, 150, 151], [1851, 121, 122], [1854, 382, 383], [1862, 238, 239], [1875, 257, 258], [1879, 85, 86], [1883, 524, 525], [1887, 552, 553], [1893, 256, 257], [1893, 259, 260], [1893, 295, 296], [1906, 26, 27], [1909, 108, 109], [1910, 61, 62], [1910, 230, 231], [1913, 522, 523], [1916, 1176, 1177], [1926, 280, 281], [1926, 287, 288], [1926, 291, 292], [1926, 402, 403], [1926, 695, 696], [1928, 1552, 1553], [1928, 1683, 1684], [1931, 1034, 1035], [1931, 1129, 1130], [1932, 582, 583], [1934, 60, 61], [1934, 356, 357], [1934, 393, 394], [1935, 32, 33], [1935, 679, 680], [1936, 2300, 2301], [1937, 103, 104], [1938, 332, 333], [1938, 356, 357], [1938, 360, 361], [1938, 377, 378], [1939, 31, 32], [1939, 157, 158], [1939, 222, 223], [1939, 241, 242], [1939, 284, 285], [1939, 342, 343], [1939, 562, 563], [1940, 19, 20], [1940, 23, 24], [1940, 169, 170], [1940, 201, 202], [1940, 204, 205], [1941, 110, 111], [1943, 124, 125], [1943, 192, 193], [1947, 102, 103], [1948, 40, 41], [1948, 43, 44], [1948, 111, 112], [1948, 309, 310], [1948, 436, 437], [1948, 443, 444], [1948, 459, 460], [1948, 465, 466], [1949, 36, 37], [1949, 201, 202], [1949, 301, 302], [1957, 1000, 1001], [1957, 1040, 1041], [1957, 1082, 1083], [1957, 1148, 1149], [1967, 30, 31], [1967, 137, 138], [1969, 112, 113], [1969, 238, 239], [1969, 252, 253], [1972, 37, 38], [1974, 59, 60], [1984, 30, 31], [1987, 43, 44], [1989, 445, 446], [1990, 1817, 1818], [1992, 59, 60], [1992, 90, 91], [2002, 114, 115], [2002, 312, 313], [2005, 307, 308], [2005, 354, 355], [2005, 358, 359], [2005, 391, 392], [2005, 571, 572], [2012, 332, 333], [2012, 431, 432], [2015, 55, 56], [2015, 127, 128], [2015, 175, 176], [2015, 296, 297], [2015, 369, 370], [2022, 48, 49], [2023, 101, 102], [2023, 163, 164], [2023, 195, 196], [2023, 224, 225], [2023, 280, 281], [2023, 418, 419], [2023, 495, 496], [2023, 1010, 1011], [2023, 1253, 1254], [2023, 1446, 1447], [2023, 1484, 1485], [2023, 1585, 1586], [2023, 1594, 1595], [2023, 1754, 1755], [2023, 1945, 1946], [2025, 226, 227], [2030, 1022, 1023], [2030, 1364, 1365], [2030, 1752, 1753], [2030, 2024, 2025], [2030, 2032, 2033], [2031, 41, 42], [2031, 45, 46], [2031, 491, 492], [2032, 14, 15], [2037, 718, 719], [2037, 799, 800], [2037, 1024, 1025], [2038, 64, 65], [2038, 612, 613], [2038, 615, 616], [2039, 171, 172], [2043, 136, 137], [2045, 130, 131], [2045, 2329, 2330], [2047, 156, 157], [2053, 737, 738], [2054, 751, 752], [2058, 10, 11], [2058, 318, 319], [2058, 322, 323], [2058, 358, 359], [2058, 724, 725], [2061, 200, 201], [2071, 214, 215], [2071, 446, 447], [2082, 78, 79], [2082, 283, 284], [2083, 16, 17], [2084, 20, 21], [2084, 23, 24], [2084, 187, 188], [2084, 426, 427], [2084, 757, 758], [2084, 1007, 1008], [2084, 1022, 1023], [2084, 1291, 1292], [2084, 1424, 1425], [2087, 168, 169], [2087, 171, 172], [2088, 553, 554], [2088, 599, 600], [2088, 668, 669], [2088, 742, 743], [2088, 758, 759], [2089, 1231, 1232], [2089, 1421, 1422], [2092, 88, 89], [2093, 317, 318], [2093, 321, 322], [2093, 376, 377], [2099, 97, 98], [2099, 185, 186], [2103, 40, 41], [2105, 56, 57], [2105, 111, 112], [2115, 96, 97], [2116, 229, 230], [2116, 266, 267], [2117, 129, 130], [2125, 242, 243], [2129, 97, 98], [2129, 100, 101], [2131, 460, 461], [2137, 21, 22], [2142, 196, 197], [2149, 24, 25], [2149, 28, 29], [2150, 375, 376], [2150, 436, 437], [2150, 598, 599], [2150, 601, 602], [2151, 147, 148], [2154, 1307, 1308], [2170, 25, 26], [2170, 28, 29], [2170, 191, 192], [2170, 429, 430], [2170, 760, 761], [2170, 1010, 1011], [2170, 1025, 1026], [2170, 1294, 1295], [2170, 1427, 1428], [2177, 221, 222], [2178, 78, 79], [2178, 300, 301], [2178, 330, 331], [2178, 397, 398], [2178, 1065, 1066], [2180, 76, 77], [2180, 79, 80], [2180, 577, 578], [2180, 595, 596], [2180, 827, 828], [2181, 400, 401], [2198, 2128, 2129], [2198, 2381, 2382], [2198, 2387, 2388], [2198, 2785, 2786], [2201, 384, 385], [2201, 416, 417], [2201, 420, 421], [2202, 191, 192], [2205, 41, 42], [2205, 261, 262], [2209, 158, 159], [2209, 301, 302], [2209, 354, 355], [2210, 15, 16], [2210, 30, 31], [2210, 122, 123], [2212, 82, 83], [2214, 49, 50], [2214, 53, 54], [2217, 1192, 1193], [2217, 2117, 2118], [2219, 1386, 1387], [2221, 32, 33], [2221, 76, 77], [2221, 136, 137], [2221, 987, 988], [2221, 1399, 1400], [2221, 1419, 1420], [2221, 1519, 1520], [2222, 657, 658], [2222, 1008, 1009], [2224, 28, 29], [2228, 328, 329], [2236, 93, 94], [2243, 143, 144], [2259, 656, 657], [2259, 706, 707], [2260, 66, 67], [2260, 75, 76], [2263, 14, 15], [2263, 126, 127], [2263, 129, 130], [2266, 153, 154], [2266, 208, 209], [2266, 229, 230], [2266, 232, 233], [2280, 157, 158], [2283, 1512, 1513], [2283, 1675, 1676], [2293, 1156, 1157], [2295, 31, 32], [2295, 354, 355], [2295, 400, 401], [2295, 415, 416], [2295, 733, 734], [2296, 54, 55], [2296, 165, 166], [2296, 217, 218], [2298, 5, 6], [2298, 57, 58], [2298, 83, 84], [2300, 301, 302], [2301, 8, 9], [2302, 569, 570], [2302, 572, 573], [2304, 216, 217], [2305, 1384, 1385], [2305, 1491, 1492], [2308, 298, 299], [2312, 615, 616], [2313, 43, 44], [2313, 104, 105], [2313, 123, 124], [2313, 408, 409], [2313, 522, 523], [2313, 561, 562], [2313, 861, 862], [2313, 953, 954], [2313, 1082, 1083], [2313, 1122, 1123], [2314, 14, 15], [2314, 18, 19], [2314, 71, 72], [2314, 200, 201], [2314, 309, 310], [2315, 38, 39], [2319, 1470, 1471], [2324, 33, 34], [2332, 275, 276], [2335, 1688, 1689], [2339, 238, 239], [2339, 259, 260], [2341, 47, 48], [2344, 234, 235], [2344, 415, 416], [2344, 449, 450], [2344, 488, 489], [2344, 518, 519], [2344, 588, 589], [2344, 621, 622], [2345, 60, 61], [2345, 90, 91], [2345, 189, 190], [2346, 145, 146], [2350, 115, 116], [2350, 144, 145], [2352, 187, 188], [2354, 50, 51], [2354, 65, 66], [2354, 204, 205], [2355, 190, 191], [2359, 28, 29], [2359, 32, 33], [2359, 68, 69], [2363, 214, 215], [2365, 51, 52], [2365, 345, 346], [2367, 242, 243], [2367, 245, 246], [2367, 360, 361], [2369, 143, 144], [2370, 295, 296], [2370, 341, 342], [2370, 371, 372], [2370, 445, 446], [2370, 482, 483], [2375, 180, 181], [2375, 249, 250], [2376, 262, 263], [2376, 311, 312], [2376, 320, 321], [2381, 49, 50], [2381, 53, 54], [2385, 351, 352], [2385, 375, 376], [2386, 12, 13], [2386, 51, 52], [2386, 55, 56], [2390, 114, 115], [2390, 206, 207], [2392, 91, 92], [2392, 243, 244], [2392, 274, 275], [2402, 54, 55], [2402, 72, 73], [2402, 206, 207], [2402, 242, 243], [2406, 41, 42], [2406, 159, 160], [2406, 236, 237], [2406, 272, 273], [2413, 276, 277], [2413, 359, 360], [2413, 747, 748], [2413, 891, 892], [2413, 910, 911], [2413, 919, 920], [2414, 52, 53], [2414, 71, 72], [2414, 82, 83], [2414, 103, 104], [2414, 158, 159], [2414, 161, 162], [2416, 153, 154], [2417, 41, 42], [2422, 70, 71], [2426, 349, 350], [2426, 396, 397], [2426, 558, 559], [2426, 615, 616], [2426, 1490, 1491], [2438, 38, 39], [2438, 66, 67], [2438, 169, 170], [2438, 296, 297], [2438, 333, 334], [2438, 343, 344], [2438, 349, 350], [2443, 149, 150], [2443, 168, 169], [2443, 179, 180], [2443, 197, 198], [2443, 252, 253], [2443, 255, 256], [2445, 30, 31], [2445, 61, 62], [2445, 102, 103], [2445, 182, 183], [2459, 431, 432], [2462, 64, 65], [2466, 87, 88], [2470, 118, 119], [2474, 256, 257], [2479, 20, 21], [2481, 63, 64], [2481, 155, 156], [2482, 7, 8], [2482, 242, 243], [2482, 294, 295], [2482, 364, 365], [2484, 143, 144], [2485, 84, 85], [2486, 79, 80], [2487, 172, 173], [2488, 184, 185], [2489, 153, 154], [2489, 156, 157], [2490, 14, 15], [2492, 889, 890], [2495, 42, 43], [2495, 74, 75], [2495, 87, 88], [2495, 171, 172], [2500, 126, 127], [2507, 139, 140], [2507, 196, 195], [2507, 333, 334], [2511, 304, 305], [2511, 508, 509], [2511, 793, 794], [2511, 844, 845], [2520, 28, 29], [2521, 137, 138], [2521, 186, 187], [2521, 238, 239], [2521, 261, 262], [2521, 302, 303], [2521, 325, 326], [2521, 433, 434], [2521, 530, 531], [2524, 72, 73], [2524, 106, 107], [2524, 159, 160], [2524, 188, 189], [2527, 332, 333], [2527, 335, 336], [2527, 387, 388], [2528, 362, 363], [2530, 243, 244], [2536, 10, 11], [2536, 106, 107], [2536, 110, 111], [2537, 171, 172], [2538, 10, 11], [2539, 20, 21], [2539, 24, 25], [2539, 29, 30], [2539, 116, 117], [2539, 173, 174], [2539, 255, 256], [2539, 272, 273], [2539, 285, 286], [2539, 343, 344], [2539, 423, 424], [2539, 437, 438], [2541, 40, 41], [2541, 195, 196], [2541, 225, 226], [2541, 234, 235], [2541, 255, 256], [2543, 10, 11], [2543, 15, 16], [2543, 53, 54], [2543, 57, 58], [2545, 127, 128], [2545, 472, 473], [2545, 536, 537], [2551, 191, 192], [2559, 129, 130], [2559, 464, 465], [2559, 708, 709], [2559, 962, 963], [2559, 2119, 2120], [2559, 2125, 2126], [2559, 2679, 2680], [2559, 3052, 3053], [2559, 3056, 3057], [2559, 3078, 3079], [2559, 3099, 3100], [2559, 3285, 3286], [2559, 3412, 3413], [2559, 3426, 3427], [2561, 135, 136], [2564, 213, 214], [2566, 60, 61], [2566, 75, 76], [2567, 64, 65], [2567, 106, 107], [2567, 205, 206], [2567, 229, 230], [2567, 277, 278], [2569, 41, 42], [2569, 47, 48], [2569, 88, 89], [2570, 50, 51], [2570, 190, 191], [2570, 479, 480], [2572, 25, 26], [2572, 29, 30], [2572, 82, 83], [2572, 221, 222], [2577, 30, 31], [2577, 97, 98], [2577, 103, 104], [2577, 240, 241], [2578, 71, 72], [2582, 35, 36], [2582, 260, 261], [2586, 395, 396], [2588, 98, 99], [2588, 148, 149], [2588, 184, 185], [2588, 264, 265], [2588, 312, 313], [2588, 338, 339], [2589, 18, 19], [2589, 27, 28], [2591, 44, 45], [2591, 119, 120], [2591, 163, 164], [2591, 191, 192], [2591, 218, 219], [2593, 60, 61], [2593, 166, 167], [2605, 130, 131], [2610, 43, 44], [2610, 98, 99], [2610, 274, 275], [2610, 316, 317], [2610, 407, 408], [2611, 65, 66], [2611, 138, 139], [2611, 165, 166], [2611, 170, 171], [2615, 23, 24], [2615, 92, 93], [2615, 172, 173], [2615, 221, 222], [2615, 231, 232], [2615, 355, 356], [2615, 420, 421], [2616, 25, 26], [2616, 29, 30], [2616, 77, 78], [2635, 136, 137], [2635, 650, 651], [2635, 711, 712], [2635, 961, 962], [2636, 82, 83], [2639, 133, 134], [2640, 23, 24], [2640, 194, 195], [2640, 240, 241], [2640, 281, 282], [2640, 342, 343], [2643, 50, 51], [2643, 54, 55], [2643, 86, 87], [2643, 89, 90], [2644, 208, 209], [2645, 65, 66], [2645, 88, 89], [2651, 73, 74], [2651, 161, 162], [2651, 374, 375], [2666, 120, 121], [2668, 192, 193], [2675, 98, 99], [2679, 47, 48], [2679, 50, 51], [2679, 135, 136], [2679, 173, 174], [2681, 186, 187], [2681, 189, 190], [2683, 373, 374], [2685, 143, 144], [2685, 175, 176], [2686, 235, 236], [2686, 334, 335], [2686, 464, 465], [2687, 114, 115], [2687, 149, 150], [2687, 524, 525], [2687, 617, 618], [2687, 660, 661], [2687, 885, 886], [2687, 967, 968], [2687, 1023, 1024], [2687, 1026, 1027], [2688, 82, 83], [2688, 85, 86], [2688, 287, 288], [2688, 351, 352], [2688, 388, 389], [2689, 145, 146], [2689, 148, 149], [2689, 162, 163], [2689, 186, 187], [2691, 625, 626], [2693, 136, 137], [2693, 226, 227], [2693, 410, 411], [2704, 226, 227], [2709, 51, 52], [2709, 55, 56], [2709, 97, 98], [2709, 393, 394], [2709, 396, 397], [2709, 511, 512], [2709, 2880, 2881], [2709, 3100, 3101], [2715, 360, 361], [2715, 766, 767], [2722, 70, 71], [2722, 73, 74], [2722, 98, 99], [2723, 140, 141], [2723, 165, 166], [2723, 211, 212], [2725, 28, 29], [2725, 53, 54], [2725, 62, 63], [2725, 90, 91], [2725, 132, 133], [2725, 185, 186], [2726, 258, 259], [2726, 644, 645], [2727, 28, 29], [2727, 103, 104], [2727, 184, 185], [2727, 214, 215], [2727, 267, 268], [2730, 84, 85], [2736, 25, 26], [2737, 98, 99], [2737, 371, 372], [2741, 257, 258], [2741, 303, 304], [2743, 105, 106], [2743, 285, 286], [2743, 321, 322], [2743, 343, 344], [2743, 382, 383], [2751, 187, 188], [2751, 291, 292], [2759, 605, 606], [2770, 107, 108], [2770, 214, 215], [2770, 327, 328], [2770, 375, 376], [2770, 419, 420], [2781, 664, 665], [2781, 733, 734], [2781, 925, 926], [2781, 996, 997], [2781, 1021, 1022], [2781, 1418, 1419], [2781, 1576, 1577], [2781, 1592, 1593], [2781, 1619, 1620], [2781, 1623, 1624], [2781, 1637, 1638], [2781, 1688, 1689], [2784, 12, 13], [2784, 97, 98], [2784, 101, 102], [2785, 231, 232], [2785, 405, 406], [2785, 469, 470], [2785, 492, 493], [2785, 668, 669], [2785, 1081, 1082], [2788, 425, 426], [2796, 77, 78], [2796, 323, 324], [2796, 375, 376], [2801, 117, 118], [2801, 196, 197], [2801, 260, 261], [2801, 307, 308], [2801, 375, 376], [2805, 111, 112], [2805, 158, 159], [2805, 161, 162], [2805, 972, 973], [2805, 1146, 1147], [2805, 1284, 1285], [2805, 1336, 1337], [2811, 2790, 2791], [2811, 3114, 3115], [2811, 3309, 3310], [2811, 3501, 3502], [2812, 203, 204], [2813, 550, 551], [2814, 174, 175], [2814, 206, 207], [2814, 270, 271], [2814, 274, 275], [2814, 339, 340], [2815, 69, 70], [2816, 440, 441], [2816, 768, 769], [2824, 531, 532], [2827, 610, 611], [2827, 645, 646], [2837, 249, 250], [2839, 412, 413], [2839, 415, 416], [2839, 501, 502], [2839, 901, 902], [2844, 26, 27], [2844, 30, 31], [2844, 76, 77], [2844, 121, 122], [2846, 23, 24], [2846, 78, 79], [2849, 801, 802], [2849, 1134, 1135], [2849, 1169, 1170], [2853, 169, 170], [2857, 84, 85], [2859, 29, 30], [2860, 155, 156], [2860, 171, 172], [2860, 268, 269], [2860, 286, 287], [2860, 365, 366], [2864, 21, 22], [2864, 95, 96], [2864, 151, 152], [2864, 348, 349], [2864, 376, 377], [2864, 566, 567], [2866, 99, 100], [2866, 164, 165], [2866, 168, 169], [2866, 179, 180], [2873, 31, 32], [2875, 64, 65], [2875, 199, 200], [2875, 266, 267], [2876, 11, 12], [2879, 32, 33], [2879, 39, 40], [2879, 49, 50], [2879, 73, 74], [2879, 124, 125], [2879, 161, 162], [2883, 100, 101], [2883, 157, 158], [2886, 102, 103], [2889, 106, 107], [2889, 117, 118], [2890, 775, 776], [2894, 24, 25], [2894, 79, 80], [2895, 45, 46], [2895, 110, 111], [2895, 157, 158], [2895, 450, 451], [2902, 203, 204], [2902, 684, 685], [2904, 39, 40], [2905, 15, 16], [2910, 256, 257], [2911, 33, 34], [2911, 37, 38], [2912, 18, 19], [2917, 1262, 1263], [2917, 1269, 1270], [2917, 1274, 1275], [2917, 1282, 1283], [2917, 1292, 1293], [2917, 1321, 1322], [2917, 1385, 1386], [2917, 1900, 1901], [2917, 2227, 2228], [2917, 2291, 2292], [2917, 2296, 2297], [2917, 2432, 2433], [2917, 5351, 5352], [2918, 54, 55], [2919, 617, 618], [2919, 821, 822], [2920, 112, 113], [2924, 313, 314], [2924, 667, 668], [2924, 715, 716], [2924, 1119, 1120], [2924, 1284, 1285], [2924, 1398, 1399], [2924, 1578, 1579], [2924, 1659, 1660], [2924, 1707, 1708], [2924, 1888, 1889], [2924, 1914, 1915], [2924, 2095, 2096], [2925, 202, 203], [2926, 165, 166], [2926, 198, 199], [2927, 39, 40], [2927, 112, 113], [2930, 231, 232], [2933, 259, 260], [2934, 137, 138], [2934, 144, 145], [2939, 12, 13], [2940, 36, 37], [2940, 71, 72], [2940, 75, 76], [2940, 119, 120], [2940, 207, 208], [2940, 345, 346], [2940, 443, 444], [2940, 456, 457], [2940, 575, 576], [2940, 777, 778], [2942, 118, 119], [2943, 132, 133], [2944, 366, 367], [2944, 370, 371], [2945, 32, 33], [2945, 68, 69], [2946, 128, 129], [2947, 1651, 1652], [2950, 87, 88], [2950, 90, 91], [2950, 165, 166], [2952, 893, 894], [2954, 253, 254], [2957, 66, 67], [2957, 323, 324], [2963, 339, 340], [2963, 378, 379], [2963, 399, 400], [2963, 747, 748], [2980, 34, 35], [2980, 370, 371], [2989, 1887, 1888], [2989, 2064, 2065], [2989, 2223, 2224], [3022, 222, 223], [3028, 74, 75], [3035, 52, 53], [3035, 116, 117], [3035, 129, 130], [3035, 133, 134], [3035, 163, 164], [3035, 264, 265], [3035, 334, 335], [3037, 133, 134], [3039, 967, 968], [3046, 111, 112], [3046, 173, 174], [3046, 258, 259], [3046, 365, 366], [3046, 410, 411], [3049, 52, 53], [3051, 16, 17], [3051, 20, 21], [3051, 147, 148], [3051, 166, 167], [3051, 227, 228], [3051, 383, 384], [3051, 578, 579], [3051, 631, 632], [3051, 845, 846], [3051, 972, 973], [3051, 1036, 1037], [3051, 1052, 1053], [3051, 1093, 1094], [3051, 1248, 1249], [3051, 1622, 1623], [3051, 1812, 1813], [3052, 44, 45], [3052, 70, 71], [3052, 193, 194], [3057, 861, 862], [3063, 120, 121], [3064, 28, 29], [3064, 183, 184], [3072, 96, 97], [3072, 192, 193], [3072, 195, 196], [3072, 221, 222], [3074, 209, 210], [3081, 196, 197], [3082, 23, 24], [3082, 41, 42], [3082, 119, 120], [3082, 410, 411], [3082, 673, 674], [3086, 83, 84], [3086, 205, 206], [3086, 234, 235], [3086, 307, 308], [3086, 338, 339], [3086, 374, 375], [3089, 40, 41], [3089, 181, 182], [3089, 411, 412], [3089, 441, 442], [3089, 509, 510], [3089, 1183, 1184], [3093, 2492, 2493], [3093, 2818, 2819], [3093, 3013, 3014], [3093, 3205, 3206], [3097, 216, 217], [3097, 229, 230], [3097, 249, 250], [3097, 317, 318], [3097, 322, 323], [3097, 348, 349], [3097, 414, 415], [3097, 602, 603], [3097, 620, 621], [3097, 717, 718], [3097, 731, 732], [3097, 761, 762], [3097, 795, 796], [3097, 806, 807], [3097, 993, 994], [3097, 1015, 1016], [3097, 1030, 1031], [3097, 1039, 1040], [3097, 1044, 1045], [3097, 1250, 1251], [3097, 1326, 1327], [3097, 1407, 1408], [3097, 1443, 1444], [3097, 1460, 1461], [3104, 329, 330], [3106, 2923, 2924], [3112, 183, 184], [3113, 254, 255], [3114, 181, 182], [3114, 478, 479], [3124, 63, 64], [3124, 67, 68], [3127, 75, 76], [3127, 145, 146], [3127, 325, 326], [3127, 346, 347], [3127, 360, 361], [3129, 66, 67], [3129, 70, 71], [3129, 117, 118], [3130, 116, 117], [3133, 704, 705], [3133, 708, 709], [3133, 722, 723], [3137, 37, 38], [3137, 103, 104], [3137, 121, 122], [3137, 158, 159], [3137, 177, 178], [3137, 181, 182], [3137, 207, 208], [3137, 386, 387], [3137, 437, 438], [3137, 568, 569], [3137, 785, 786], [3137, 991, 992], [3145, 23, 24], [3145, 27, 28], [3145, 64, 65], [3145, 147, 148], [3145, 189, 190], [3145, 251, 252], [3145, 266, 267], [3157, 17, 18], [3157, 21, 22], [3157, 89, 90], [3157, 155, 156], [3159, 652, 653], [3163, 37, 38], [3164, 1216, 1217], [3172, 104, 105], [3175, 47, 48], [3175, 51, 52], [3175, 106, 107], [3178, 403, 404], [3178, 407, 408], [3178, 1534, 1535], [3190, 159, 160], [3195, 216, 217], [3196, 2269, 2270], [3199, 21, 22], [3199, 76, 77], [3200, 118, 119], [3200, 157, 158], [3200, 229, 230], [3200, 258, 259], [3200, 281, 282], [3200, 404, 405], [3201, 13, 14], [3201, 17, 18], [3201, 60, 61], [3201, 79, 80], [3201, 105, 106], [3204, 392, 393], [3210, 116, 117], [3210, 119, 120], [3211, 51, 52], [3211, 111, 112], [3219, 3628, 3629], [3222, 200, 201], [3226, 197, 198], [3226, 229, 230], [3227, 357, 358], [3227, 360, 361], [3227, 492, 493], [3227, 502, 503], [3228, 30, 31], [3228, 199, 200], [3228, 231, 232], [3228, 264, 265], [3228, 283, 284], [3228, 316, 317], [3228, 356, 357], [3228, 453, 454], [3228, 509, 510], [3228, 692, 693], [3228, 711, 712], [3228, 872, 873], [3230, 331, 332], [3236, 105, 106], [3238, 111, 112], [3243, 31, 32], [3246, 30, 31], [3246, 97, 98], [3246, 170, 171], [3249, 42, 43], [3249, 108, 109], [3251, 180, 181], [3251, 259, 260], [3251, 970, 971], [3254, 198, 199], [3256, 254, 255], [3256, 292, 293], [3258, 42, 43], [3258, 276, 277], [3258, 318, 319], [3258, 427, 428], [3258, 566, 567], [3262, 78, 79], [3262, 406, 407], [3270, 459, 460], [3275, 246, 247], [3275, 832, 833], [3275, 1802, 1803], [3283, 66, 67], [3283, 121, 122], [3283, 763, 764], [3284, 61, 62], [3293, 179, 180], [3298, 73, 74], [3305, 887, 888], [3307, 466, 467], [3307, 469, 470], [3308, 61, 62], [3308, 85, 86], [3308, 132, 133], [3308, 149, 150], [3308, 152, 153], [3312, 98, 99], [3330, 443, 444], [3330, 639, 640], [3330, 901, 902], [3330, 952, 953], [3330, 992, 993], [3330, 1057, 1058], [3341, 119, 120], [3345, 14, 15], [3345, 18, 19], [3345, 111, 112], [3352, 397, 398], [3354, 203, 204], [3358, 1436, 1437], [3358, 1443, 1444], [3358, 1564, 1565], [3358, 1823, 1824], [3358, 1903, 1904], [3358, 1983, 1984], [3362, 145, 146], [3362, 383, 384], [3362, 427, 428], [3362, 467, 468], [3362, 509, 510], [3362, 517, 518], [3362, 706, 707], [3362, 869, 870], [3362, 881, 882], [3362, 1061, 1062], [3362, 1160, 1161], [3362, 1326, 1327], [3362, 1504, 1505], [3362, 1788, 1789], [3362, 1813, 1814], [3362, 2105, 2106], [3363, 528, 529], [3371, 110, 111], [3371, 208, 209], [3372, 22, 23], [3372, 57, 58], [3372, 186, 187], [3372, 393, 394], [3385, 369, 370], [3386, 27, 28], [3386, 100, 101], [3386, 236, 237], [3386, 268, 269], [3386, 275, 276], [3386, 357, 358], [3398, 146, 147], [3398, 365, 366], [3398, 417, 418], [3399, 153, 154], [3399, 248, 249], [3399, 374, 375], [3399, 399, 400], [3400, 189, 190], [3400, 217, 218], [3423, 414, 415], [3423, 417, 418], [3437, 375, 376], [3441, 217, 218], [3441, 271, 272], [3453, 791, 792], [3453, 813, 814], [3455, 334, 335], [3457, 24, 25], [3457, 94, 95], [3457, 496, 497], [3457, 534, 535], [3458, 33, 34], [3458, 146, 147], [3669, 342, 343], [3779, 71, 72], [3779, 223, 224], [3856, 32, 33], [3856, 116, 117], [3856, 153, 154], [3856, 230, 231], [4020, 33, 34], [4020, 116, 117], [4020, 157, 158], [4020, 187, 188], [4238, 82, 83], [4238, 86, 87], [4238, 317, 318], [4334, 68, 69], [4348, 65, 66], [4349, 14, 15], [4356, 49, 50], [4389, 24, 25], [4412, 229, 230], [4423, 237, 238], [4423, 336, 337], [4435, 52, 53], [4439, 287, 288], [4439, 324, 325], [4439, 379, 380], [4439, 406, 407], [4442, 236, 237], [4444, 45, 46], [4445, 74, 75], [4453, 488, 489], [4453, 516, 517], [4453, 566, 567], [4456, 100, 101], [4466, 55, 56], [4466, 104, 105], [4466, 126, 127], [4490, 352, 353], [4500, 85, 86], [4500, 263, 264], [4506, 50, 51], [4506, 178, 179], [4506, 210, 209], [4506, 210, 211], [4506, 244, 245], [4506, 369, 370], [4512, 318, 319], [4516, 81, 82], [4519, 30, 31], [4519, 310, 311], [4521, 39, 40], [4521, 86, 87], [4533, 516, 517], [4548, 442, 443], [4561, 203, 204], [4562, 146, 147], [4572, 48, 49], [4596, 213, 214], [4609, 19, 20], [4613, 10, 11], [4616, 165, 166], [4627, 45, 46], [4627, 80, 81], [4630, 27, 28], [4631, 108, 109], [4651, 657, 658], [4658, 98, 99], [4658, 244, 245], [4667, 79, 80], [4668, 32, 33], [4668, 254, 255], [4668, 274, 275], [4668, 356, 357], [4669, 36, 37], [4669, 82, 83], [4669, 136, 137], [4669, 142, 143], [4671, 425, 426], [4671, 500, 501], [4671, 533, 534], [4671, 789, 790], [4683, 235, 236], [4690, 62, 63], [4694, 30, 31], [4694, 162, 163], [4694, 563, 564], [4697, 156, 157], [4707, 74, 75], [4707, 131, 132], [4707, 141, 142], [4719, 185, 186], [4726, 47, 48], [4726, 88, 89], [4726, 248, 249], [4726, 257, 258], [4734, 74, 75], [4739, 19, 20], [4739, 32, 33], [4739, 88, 89], [4739, 110, 111], [4741, 150, 151], [4741, 169, 170], [4741, 180, 181], [4741, 198, 199], [4747, 75, 76], [4747, 845, 846], [4752, 49, 50], [4753, 28, 29], [4781, 38, 39], [4785, 62, 63], [4785, 84, 85], [4785, 125, 126], [4821, 783, 784], [4837, 278, 279], [4837, 304, 305], [4846, 377, 378], [4856, 365, 366], [4866, 229, 230], [4873, 221, 222], [4873, 314, 315], [4873, 389, 390], [4873, 686, 687], [4873, 1001, 1002], [4904, 28, 29], [4924, 56, 57], [4924, 114, 115], [4938, 13, 14], [4963, 85, 86], [4963, 263, 264], [4966, 75, 76], [4979, 81, 82], [5038, 146, 147], [5042, 188, 189], [5064, 163, 164], [5112, 213, 214], [5126, 321, 322], [5154, 253, 254], [5171, 657, 658], [5229, 83, 84], [5241, 41, 42], [5241, 156, 157], [5272, 61, 62], [5272, 126, 127], [5272, 136, 137], [5272, 239, 240], [5272, 342, 343], [5285, 75, 76], [5285, 845, 846], [5296, 94, 95], [5296, 208, 209], [5296, 292, 293], [5296, 437, 438], [5305, 28, 29], [5321, 115, 116], [5321, 262, 263], [5321, 303, 304], [5468, 228, 229], [5468, 618, 619], [5468, 712, 713], [5468, 822, 823], [5612, 30, 31], [5612, 310, 311], [5620, 71, 72], [5620, 99, 100], [5620, 835, 836], [5620, 1457, 1458], [5682, 88, 89], [5686, 88, 89], [5712, 40, 41], [5712, 86, 87], [5718, 40, 41], [5718, 86, 87], [5723, 699, 700], [5730, 699, 700], [5762, 287, 288], [5762, 545, 546], [5845, 229, 230], [5848, 108, 109], [5859, 108, 109], [5881, 119, 120], [5881, 274, 275], [5949, 425, 426], [5949, 500, 501], [5949, 533, 534], [5949, 789, 790], [5964, 235, 236], [5974, 30, 31], [5974, 162, 163], [5974, 563, 564], [5977, 825, 826], [5981, 30, 31], [5981, 162, 163], [5981, 563, 564], [5988, 35, 36], [6144, 124, 125], [6144, 138, 139], [6153, 244, 245], [6160, 33, 34], [6207, 49, 50], [6223, 49, 50], [6234, 67, 68], [6269, 100, 101], [6272, 1085, 1086], [6331, 104, 105], [6333, 99, 100], [6333, 160, 161], [6367, 328, 329], [6430, 45, 46], [6468, 579, 580], [6479, 109, 110], [6481, 457, 458], [6490, 101, 102], [6491, 1449, 1450], [6491, 1487, 1488], [6491, 1540, 1541], [6491, 2047, 2048], [6491, 2064, 2065], [6491, 2070, 2071], [6491, 2079, 2080], [6491, 2094, 2095], [6496, 305, 306], [6516, 296, 297], [6545, 148, 149], [6546, 44, 45], [6546, 539, 540], [6546, 1089, 1090], [6567, 10, 11], [6567, 45, 46], [6567, 151, 152], [6567, 336, 337], [6567, 674, 675], [6569, 75, 76], [6589, 73, 74], [6593, 67, 68], [6593, 90, 91], [6593, 132, 133], [6605, 750, 751], [6611, 66, 67], [6618, 30, 31], [6634, 548, 549], [6643, 6, 7], [6650, 162, 163], [6664, 167, 168], [6664, 174, 175], [6684, 683, 684], [6751, 208, 209], [6754, 39, 40], [6770, 116, 117], [6780, 349, 350], [6780, 924, 925], [6791, 203, 204], [6888, 655, 656], [6950, 84, 85], [6963, 114, 115], [6968, 131, 132], [6968, 227, 228], [6998, 279, 280], [6998, 608, 609], [7008, 101, 102], [7008, 171, 172], [7008, 191, 192], [7008, 250, 249], [7008, 273, 272], [7048, 43, 44], [7049, 1008, 1009], [7057, 5, 6], [7057, 83, 84], [7057, 819, 820], [7057, 946, 947], [7057, 963, 964], [7062, 165, 166], [7073, 42, 43], [7073, 381, 382], [7093, 415, 416], [7129, 361, 362], [7134, 1655, 1656], [7138, 139, 140], [7141, 176, 177], [7147, 79, 80], [7168, 50, 51], [7168, 299, 300], [7175, 131, 132], [7193, 131, 132], [7234, 215, 216], [7239, 119, 120], [7252, 379, 380], [7267, 231, 232], [7300, 142, 143], [7335, 11, 12], [7345, 133, 134], [7345, 393, 394], [7347, 60, 61], [7348, 330, 331], [7350, 60, 61], [7350, 403, 404], [7350, 584, 585], [7392, 911, 912], [7405, 148, 149], [7405, 181, 182], [7405, 399, 400], [7428, 35, 36], [7428, 209, 210], [7445, 19, 20], [7445, 32, 33], [7445, 88, 89], [7445, 110, 111], [7474, 22, 23], [7479, 165, 166], [7479, 387, 388], [7479, 435, 436], [7479, 554, 555], [7479, 675, 676], [7479, 734, 735], [7479, 854, 855], [7479, 1137, 1138], [7479, 1146, 1147], [7497, 12, 13], [7497, 37, 38], [7500, 54, 55], [7500, 117, 118], [7522, 208, 209], [7547, 290, 291]], [[80, 1912, 1913], [314, 299, 300], [446, 197, 196], [617, 917, 918], [617, 1000, 1001], [617, 1012, 1011], [617, 1069, 1070], [617, 1624, 1625], [617, 1660, 1659], [617, 1794, 1793], [624, 13, 14], [624, 122, 123], [844, 32, 33], [844, 158, 157], [1331, 20, 21], [1331, 24, 25], [1601, 57, 58], [1704, 117, 118], [1706, 125, 126], [1708, 61, 62], [1710, 178, 177], [1711, 32, 33], [1724, 2007, 2006], [1732, 68, 69], [1732, 75, 76], [1732, 107, 106], [1743, 731, 730], [1743, 768, 767], [1748, 1561, 1562], [1748, 1606, 1607], [1749, 93, 94], [1753, 89, 90], [1753, 381, 382], [1753, 3846, 3847], [1763, 101, 100], [1763, 114, 115], [1763, 310, 309], [1769, 27, 28], [1769, 48, 49], [1769, 52, 53], [1773, 130, 129], [1773, 1158, 1157], [1776, 10, 11], [1776, 105, 106], [1787, 54, 55], [1787, 134, 135], [1787, 331, 332], [1798, 17, 18], [1798, 21, 22], [1798, 190, 191], [1798, 420, 421], [1798, 441, 442], [1798, 593, 594], [1799, 752, 753], [1803, 415, 416], [1803, 419, 420], [1804, 32, 33], [1809, 30, 31], [1809, 512, 513], [1809, 516, 517], [1812, 259, 260], [1820, 17, 18], [1830, 35, 34], [1837, 28, 29], [1837, 32, 33], [1837, 311, 312], [1839, 132, 131], [1842, 62, 63], [1854, 383, 384], [1906, 27, 28], [1909, 109, 110], [1910, 62, 63], [1910, 231, 232], [1913, 523, 524], [1916, 1177, 1178], [1926, 281, 282], [1926, 288, 289], [1926, 292, 293], [1926, 403, 404], [1928, 1553, 1554], [1928, 1684, 1685], [1931, 1035, 1036], [1932, 583, 584], [1934, 61, 62], [1934, 357, 358], [1934, 380, 379], [1934, 394, 395], [1935, 33, 34], [1935, 465, 464], [1935, 680, 681], [1936, 2301, 2302], [1937, 104, 105], [1938, 333, 334], [1938, 357, 358], [1938, 361, 362], [1938, 378, 379], [1939, 32, 33], [1939, 158, 159], [1939, 223, 224], [1939, 285, 286], [1939, 343, 344], [1939, 563, 564], [1940, 20, 21], [1940, 24, 25], [1940, 170, 171], [1940, 205, 206], [1941, 111, 112], [1943, 125, 126], [1943, 193, 194], [1946, 419, 420], [1948, 44, 45], [1948, 112, 113], [1948, 310, 311], [1948, 437, 438], [1948, 444, 445], [1948, 460, 461], [1948, 466, 467], [1949, 37, 38], [1949, 202, 203], [1949, 302, 303], [1957, 1001, 1002], [1957, 1012, 1013], [1957, 1041, 1042], [1957, 1083, 1084], [1957, 1149, 1150], [1967, 31, 32], [1967, 138, 139], [1969, 113, 114], [1969, 239, 240], [1969, 253, 254], [1972, 38, 39], [1974, 60, 61], [1984, 31, 32], [1987, 44, 45], [1990, 1818, 1819], [1992, 60, 61], [1992, 91, 92], [2002, 115, 116], [2002, 313, 314], [2005, 308, 309], [2005, 359, 360], [2005, 392, 393], [2005, 572, 573], [2012, 333, 334], [2012, 432, 433], [2023, 102, 103], [2023, 164, 165], [2023, 196, 197], [2023, 281, 282], [2023, 496, 497], [2025, 227, 228], [2030, 1023, 1024], [2030, 1365, 1366], [2030, 1753, 1754], [2030, 1781, 1782], [2030, 2025, 2026], [2030, 2033, 2034], [2031, 42, 43], [2031, 46, 47], [2031, 492, 493], [2032, 15, 16], [2037, 719, 720], [2037, 800, 801], [2039, 172, 173], [2045, 131, 132], [2045, 2330, 2331], [2047, 157, 158], [2048, 284, 283], [2049, 145, 146], [2053, 738, 739], [2054, 752, 753], [2058, 11, 12], [2058, 319, 320], [2058, 323, 324], [2058, 359, 360], [2058, 725, 726], [2061, 201, 202], [2071, 215, 216], [2071, 447, 448], [2082, 79, 80], [2082, 284, 285], [2083, 17, 18], [2084, 427, 428], [2084, 1008, 1009], [2084, 1253, 1254], [2088, 554, 555], [2088, 600, 601], [2088, 669, 670], [2088, 743, 744], [2088, 759, 760], [2093, 19, 20], [2093, 318, 319], [2093, 322, 323], [2093, 377, 378], [2093, 488, 487], [2094, 274, 273], [2094, 290, 289], [2099, 98, 99], [2099, 186, 187], [2103, 41, 42], [2103, 108, 107], [2103, 196, 195], [2103, 211, 210], [2105, 57, 58], [2105, 112, 113], [2115, 97, 98], [2116, 230, 231], [2116, 267, 268], [2117, 130, 131], [2125, 243, 244], [2131, 461, 462], [2137, 22, 23], [2142, 197, 198], [2149, 25, 26], [2149, 29, 30], [2149, 253, 252], [2150, 376, 377], [2151, 148, 149], [2154, 1308, 1309], [2163, 174, 175], [2170, 430, 431], [2170, 1011, 1012], [2170, 1256, 1257], [2177, 222, 223], [2178, 79, 80], [2178, 301, 302], [2178, 331, 332], [2178, 398, 399], [2178, 1066, 1067], [2180, 828, 829], [2181, 401, 402], [2198, 2129, 2130], [2198, 2382, 2383], [2198, 2388, 2389], [2198, 2786, 2787], [2201, 385, 386], [2201, 417, 418], [2201, 421, 422], [2202, 192, 193], [2209, 159, 160], [2209, 302, 303], [2209, 355, 356], [2210, 16, 17], [2210, 31, 32], [2210, 123, 124], [2212, 83, 84], [2214, 50, 51], [2214, 54, 55], [2217, 2118, 2119], [2219, 1387, 1388], [2221, 33, 34], [2221, 137, 138], [2224, 29, 30], [2228, 329, 330], [2232, 66, 65], [2236, 94, 95], [2243, 144, 145], [2249, 65, 64], [2255, 127, 126], [2260, 67, 68], [2260, 76, 77], [2263, 15, 16], [2266, 154, 155], [2266, 209, 210], [2266, 233, 234], [2280, 158, 159], [2283, 1513, 1514], [2283, 1618, 1619], [2283, 1676, 1677], [2295, 355, 356], [2295, 401, 402], [2296, 55, 56], [2296, 166, 167], [2296, 218, 219], [2298, 6, 7], [2300, 302, 303], [2301, 9, 10], [2304, 217, 218], [2305, 1385, 1386], [2305, 1492, 1493], [2308, 299, 300], [2313, 44, 45], [2313, 105, 106], [2313, 124, 125], [2313, 562, 563], [2313, 862, 863], [2313, 954, 955], [2313, 1083, 1084], [2313, 1123, 1124], [2314, 15, 16], [2314, 19, 20], [2314, 72, 73], [2314, 201, 202], [2314, 310, 311], [2315, 39, 40], [2319, 1471, 1472], [2320, 819, 818], [2322, 19, 18], [2324, 34, 35], [2335, 1689, 1690], [2344, 455, 454], [2344, 548, 547], [2344, 568, 567], [2345, 61, 62], [2345, 91, 92], [2346, 146, 147], [2350, 116, 117], [2350, 145, 146], [2352, 188, 189], [2354, 51, 52], [2354, 66, 67], [2355, 191, 192], [2359, 29, 30], [2359, 33, 34], [2363, 215, 216], [2365, 52, 53], [2365, 346, 347], [2369, 144, 145], [2370, 385, 384], [2370, 483, 484], [2375, 250, 251], [2376, 263, 264], [2376, 312, 313], [2376, 321, 322], [2381, 50, 51], [2381, 54, 55], [2386, 13, 14], [2386, 52, 53], [2386, 56, 57], [2392, 92, 93], [2392, 244, 245], [2396, 63, 62], [2402, 55, 56], [2402, 73, 74], [2402, 207, 208], [2402, 243, 244], [2404, 98, 97], [2406, 42, 43], [2406, 160, 161], [2406, 237, 238], [2406, 273, 274], [2414, 53, 54], [2414, 72, 73], [2414, 83, 84], [2414, 162, 163], [2417, 157, 156], [2422, 71, 72], [2426, 350, 351], [2426, 397, 398], [2426, 559, 560], [2426, 1491, 1492], [2427, 153, 152], [2438, 39, 40], [2438, 67, 68], [2438, 297, 298], [2443, 150, 151], [2443, 169, 170], [2443, 180, 181], [2443, 256, 257], [2445, 31, 32], [2445, 62, 63], [2445, 103, 104], [2445, 183, 184], [2462, 65, 66], [2463, 1069, 1068], [2466, 88, 89], [2470, 119, 120], [2474, 257, 258], [2479, 21, 22], [2481, 64, 65], [2481, 156, 157], [2482, 8, 9], [2482, 243, 244], [2482, 295, 296], [2482, 365, 366], [2484, 144, 145], [2486, 80, 81], [2487, 173, 174], [2488, 185, 186], [2488, 201, 200], [2490, 15, 16], [2491, 163, 162], [2492, 199, 198], [2492, 545, 544], [2492, 701, 700], [2495, 43, 44], [2495, 75, 76], [2495, 88, 89], [2495, 104, 103], [2495, 156, 155], [2495, 172, 173], [2507, 140, 141], [2507, 334, 335], [2507, 430, 429], [2507, 615, 614], [2511, 509, 510], [2511, 794, 795], [2520, 29, 30], [2521, 138, 139], [2521, 187, 188], [2521, 239, 240], [2521, 262, 263], [2521, 303, 304], [2521, 326, 327], [2521, 434, 435], [2521, 454, 453], [2521, 531, 532], [2524, 73, 74], [2524, 107, 108], [2524, 160, 161], [2524, 189, 190], [2527, 388, 389], [2528, 363, 364], [2530, 244, 245], [2536, 107, 108], [2536, 111, 112], [2537, 172, 173], [2538, 11, 12], [2539, 21, 22], [2539, 25, 26], [2539, 30, 31], [2539, 117, 118], [2539, 174, 175], [2539, 256, 257], [2539, 273, 274], [2539, 286, 287], [2539, 344, 345], [2539, 424, 425], [2539, 438, 439], [2541, 41, 42], [2541, 256, 257], [2542, 1262, 1263], [2543, 16, 17], [2543, 54, 55], [2543, 58, 59], [2547, 15, 14], [2547, 74, 73], [2551, 192, 193], [2552, 85, 84], [2559, 908, 907], [2559, 3053, 3054], [2559, 3057, 3058], [2559, 3079, 3080], [2561, 136, 137], [2564, 214, 215], [2566, 61, 62], [2569, 42, 43], [2569, 48, 49], [2569, 89, 90], [2570, 191, 192], [2570, 480, 481], [2572, 26, 27], [2572, 30, 31], [2572, 83, 84], [2572, 222, 223], [2577, 31, 32], [2577, 98, 99], [2577, 104, 105], [2577, 241, 242], [2582, 36, 37], [2582, 261, 262], [2588, 99, 100], [2588, 149, 150], [2588, 185, 186], [2588, 265, 266], [2588, 313, 314], [2588, 339, 340], [2589, 19, 20], [2589, 28, 29], [2591, 45, 46], [2591, 120, 121], [2593, 167, 168], [2598, 369, 370], [2603, 7, 6], [2603, 611, 610], [2603, 630, 629], [2605, 131, 132], [2610, 99, 100], [2610, 408, 409], [2614, 13, 12], [2615, 24, 25], [2615, 93, 94], [2615, 173, 174], [2615, 222, 223], [2615, 232, 233], [2615, 356, 357], [2615, 421, 422], [2616, 26, 27], [2616, 30, 31], [2616, 78, 79], [2620, 109, 108], [2625, 714, 713], [2635, 90, 89], [2635, 137, 138], [2635, 634, 633], [2635, 712, 713], [2635, 880, 879], [2635, 962, 963], [2636, 83, 84], [2640, 24, 25], [2640, 195, 196], [2640, 241, 242], [2640, 282, 283], [2640, 343, 344], [2643, 51, 52], [2643, 55, 56], [2643, 90, 91], [2645, 66, 67], [2645, 89, 90], [2651, 74, 75], [2651, 375, 376], [2652, 88, 87], [2660, 82, 81], [2667, 218, 217], [2668, 193, 194], [2674, 99, 98], [2679, 51, 52], [2683, 240, 241], [2685, 80, 79], [2685, 382, 381], [2685, 415, 414], [2686, 48, 47], [2686, 324, 323], [2686, 357, 358], [2686, 465, 466], [2687, 115, 116], [2687, 150, 151], [2687, 525, 526], [2687, 618, 619], [2687, 648, 647], [2687, 661, 662], [2687, 886, 887], [2687, 968, 969], [2689, 149, 150], [2689, 163, 164], [2689, 187, 188], [2691, 626, 627], [2694, 116, 117], [2704, 182, 181], [2704, 227, 228], [2709, 52, 53], [2709, 56, 57], [2709, 98, 99], [2709, 397, 398], [2715, 251, 250], [2715, 361, 362], [2715, 767, 768], [2722, 74, 75], [2722, 99, 100], [2723, 141, 142], [2725, 29, 30], [2725, 133, 134], [2726, 259, 260], [2727, 104, 105], [2727, 215, 216], [2727, 268, 269], [2728, 154, 153], [2728, 225, 224], [2728, 339, 338], [2728, 368, 367], [2728, 374, 373], [2732, 7, 6], [2734, 643, 642], [2736, 26, 27], [2737, 10, 9], [2737, 99, 100], [2737, 456, 455], [2737, 501, 500], [2741, 258, 259], [2741, 304, 305], [2743, 81, 80], [2743, 106, 107], [2743, 286, 287], [2743, 383, 384], [2745, 422, 421], [2751, 188, 189], [2751, 292, 293], [2757, 129, 128], [2757, 264, 263], [2767, 287, 286], [2770, 215, 216], [2770, 328, 329], [2770, 420, 421], [2781, 734, 735], [2781, 926, 927], [2781, 997, 998], [2781, 1007, 1008], [2781, 1022, 1023], [2781, 1593, 1594], [2781, 1620, 1621], [2781, 1624, 1625], [2781, 1638, 1639], [2781, 1689, 1690], [2782, 32, 31], [2782, 59, 58], [2784, 13, 14], [2784, 98, 99], [2784, 102, 103], [2785, 232, 233], [2785, 406, 407], [2785, 470, 471], [2785, 493, 494], [2785, 669, 670], [2785, 1082, 1083], [2792, 52, 53], [2796, 78, 79], [2796, 324, 325], [2796, 376, 377], [2796, 512, 511], [2801, 118, 119], [2801, 197, 198], [2801, 261, 262], [2801, 308, 309], [2801, 376, 377], [2805, 59, 58], [2805, 112, 113], [2805, 162, 163], [2805, 362, 361], [2805, 973, 974], [2805, 991, 990], [2805, 1147, 1148], [2805, 1285, 1286], [2805, 1337, 1338], [2811, 2791, 2792], [2811, 3115, 3116], [2811, 3310, 3311], [2811, 3502, 3503], [2812, 204, 205], [2814, 175, 176], [2814, 207, 208], [2814, 271, 272], [2814, 275, 276], [2814, 319, 318], [2814, 340, 341], [2816, 109, 108], [2816, 127, 126], [2816, 441, 442], [2816, 769, 770], [2818, 135, 134], [2820, 628, 627], [2827, 611, 612], [2827, 646, 647], [2837, 33, 32], [2837, 43, 44], [2837, 76, 75], [2837, 180, 179], [2837, 250, 251], [2839, 902, 903], [2844, 27, 28], [2844, 31, 32], [2844, 77, 78], [2844, 122, 123], [2846, 24, 25], [2846, 79, 80], [2849, 802, 803], [2849, 1135, 1136], [2849, 1170, 1171], [2853, 170, 171], [2857, 85, 86], [2860, 156, 157], [2864, 22, 23], [2864, 96, 97], [2864, 152, 153], [2864, 349, 350], [2864, 377, 378], [2864, 554, 555], [2864, 567, 568], [2866, 100, 101], [2866, 165, 166], [2866, 169, 170], [2866, 180, 181], [2873, 32, 33], [2875, 65, 66], [2875, 267, 268], [2876, 12, 13], [2879, 33, 34], [2879, 40, 41], [2879, 50, 51], [2879, 74, 75], [2879, 125, 126], [2879, 162, 163], [2883, 101, 102], [2883, 158, 159], [2884, 69, 70], [2886, 103, 104], [2889, 107, 108], [2889, 118, 119], [2894, 25, 26], [2894, 80, 81], [2895, 46, 47], [2895, 111, 112], [2895, 158, 159], [2895, 451, 452], [2902, 204, 205], [2902, 685, 686], [2904, 40, 41], [2905, 16, 17], [2910, 257, 258], [2911, 34, 35], [2911, 38, 39], [2912, 19, 20], [2918, 55, 56], [2919, 606, 605], [2919, 822, 823], [2920, 113, 114], [2924, 9, 10], [2924, 108, 107], [2924, 314, 315], [2924, 548, 547], [2924, 716, 717], [2924, 763, 764], [2924, 1120, 1121], [2924, 1285, 1286], [2924, 1399, 1400], [2924, 1579, 1580], [2924, 1708, 1709], [2924, 1889, 1890], [2924, 1915, 1916], [2924, 2096, 2097], [2925, 203, 204], [2926, 166, 167], [2926, 199, 200], [2927, 40, 41], [2927, 113, 114], [2928, 103, 102], [2930, 232, 233], [2933, 260, 261], [2934, 145, 146], [2939, 13, 14], [2940, 37, 38], [2940, 72, 73], [2940, 76, 77], [2940, 120, 121], [2940, 208, 209], [2940, 346, 347], [2940, 444, 445], [2940, 457, 458], [2940, 576, 577], [2940, 778, 779], [2942, 119, 120], [2943, 133, 134], [2944, 367, 368], [2944, 371, 372], [2945, 33, 34], [2950, 91, 92], [2950, 166, 167], [2989, 1888, 1889], [2989, 2065, 2066], [2989, 2224, 2225], [3022, 223, 224], [3028, 75, 76], [3035, 53, 54], [3035, 117, 118], [3035, 130, 131], [3035, 134, 135], [3035, 164, 165], [3035, 176, 175], [3035, 176, 177], [3035, 265, 266], [3035, 335, 336], [3037, 134, 135], [3046, 112, 113], [3046, 174, 175], [3046, 259, 260], [3046, 366, 367], [3046, 411, 412], [3046, 443, 442], [3049, 53, 54], [3049, 156, 155], [3051, 17, 18], [3051, 21, 22], [3051, 167, 168], [3051, 228, 229], [3051, 384, 385], [3051, 579, 580], [3051, 632, 633], [3051, 846, 847], [3051, 973, 974], [3051, 1037, 1038], [3051, 1053, 1054], [3051, 1623, 1624], [3051, 1813, 1814], [3052, 45, 46], [3057, 862, 863], [3063, 121, 122], [3064, 29, 30], [3064, 184, 185], [3072, 97, 98], [3081, 197, 198], [3082, 674, 675], [3089, 182, 183], [3089, 412, 413], [3089, 442, 443], [3089, 510, 511], [3089, 1184, 1185], [3093, 2493, 2494], [3093, 2819, 2820], [3093, 3014, 3015], [3093, 3206, 3207], [3097, 217, 218], [3104, 330, 331], [3113, 255, 256], [3114, 182, 183], [3114, 479, 480], [3124, 64, 65], [3124, 68, 69], [3127, 146, 147], [3129, 67, 68], [3129, 71, 72], [3129, 118, 119], [3130, 117, 118], [3137, 38, 39], [3137, 122, 123], [3137, 159, 160], [3137, 178, 179], [3137, 182, 183], [3137, 208, 209], [3137, 387, 388], [3137, 458, 457], [3137, 550, 549], [3137, 569, 570], [3137, 992, 993], [3145, 24, 25], [3145, 28, 29], [3145, 65, 66], [3145, 148, 149], [3145, 190, 191], [3145, 226, 225], [3145, 267, 268], [3157, 18, 19], [3157, 22, 23], [3157, 90, 91], [3157, 309, 308], [3164, 44, 43], [3164, 159, 158], [3175, 48, 49], [3175, 52, 53], [3175, 107, 108], [3178, 404, 405], [3178, 408, 409], [3178, 1535, 1536], [3195, 217, 218], [3196, 2270, 2271], [3199, 22, 23], [3199, 77, 78], [3201, 14, 15], [3201, 18, 19], [3201, 61, 62], [3201, 80, 81], [3201, 106, 107], [3204, 393, 394], [3211, 52, 53], [3211, 112, 113], [3218, 157, 156], [3222, 201, 202], [3226, 198, 199], [3226, 230, 231], [3227, 493, 494], [3227, 503, 504], [3228, 31, 32], [3228, 200, 201], [3228, 265, 266], [3228, 284, 285], [3228, 357, 358], [3228, 454, 455], [3228, 873, 874], [3236, 106, 107], [3238, 112, 113], [3243, 32, 33], [3246, 31, 32], [3246, 98, 99], [3246, 171, 172], [3249, 43, 44], [3251, 181, 182], [3251, 260, 261], [3251, 971, 972], [3254, 199, 200], [3256, 255, 256], [3256, 293, 294], [3258, 43, 44], [3258, 277, 278], [3258, 319, 320], [3258, 428, 429], [3258, 567, 568], [3262, 79, 80], [3262, 407, 408], [3270, 460, 461], [3271, 419, 418], [3275, 833, 834], [3275, 1803, 1804], [3283, 67, 68], [3283, 764, 765], [3293, 180, 181], [3298, 74, 75], [3308, 62, 63], [3308, 86, 87], [3308, 133, 134], [3312, 99, 100], [3330, 363, 362], [3330, 444, 445], [3330, 902, 903], [3330, 953, 954], [3330, 978, 977], [3330, 993, 994], [3330, 1058, 1059], [3337, 454, 455], [3341, 120, 121], [3345, 15, 16], [3345, 19, 20], [3345, 112, 113], [3354, 204, 205], [3358, 1437, 1438], [3358, 1444, 1445], [3362, 146, 147], [3362, 384, 385], [3362, 428, 429], [3362, 468, 469], [3362, 882, 883], [3363, 529, 530], [3371, 111, 112], [3371, 209, 210], [3372, 58, 59], [3372, 394, 395], [3380, 14, 15], [3386, 101, 102], [3386, 237, 238], [3386, 276, 277], [3386, 358, 359], [3398, 147, 148], [3398, 366, 367], [3398, 418, 419], [3399, 154, 155], [3399, 249, 250], [3399, 375, 376], [3399, 400, 401], [3400, 190, 191], [3400, 218, 219], [3417, 80, 79], [3417, 190, 189], [3437, 376, 377], [3441, 218, 219], [3441, 272, 273], [3453, 792, 793], [3453, 814, 815], [3455, 123, 122], [3455, 335, 336], [3457, 535, 536], [3458, 34, 35], [3458, 147, 148], [3461, 668, 667], [3669, 343, 344], [3779, 72, 73], [3835, 425, 424], [3856, 33, 34], [3856, 117, 118], [3856, 154, 155], [3856, 231, 232], [4020, 34, 35], [4020, 117, 118], [4020, 158, 159], [4020, 188, 189], [4238, 83, 84], [4238, 87, 88], [4238, 318, 319], [4245, 36, 35], [4306, 158, 157], [4334, 69, 70], [4342, 247, 246], [4348, 66, 67], [4349, 15, 16], [4356, 50, 51], [4389, 25, 26], [4412, 230, 231], [4423, 337, 338], [4435, 53, 54], [4439, 288, 289], [4439, 325, 326], [4439, 380, 381], [4439, 407, 408], [4441, 547, 546], [4442, 237, 238], [4444, 46, 47], [4444, 778, 777], [4445, 75, 76], [4453, 489, 490], [4453, 567, 568], [4466, 577, 576], [4490, 52, 51], [4490, 71, 70], [4490, 353, 354], [4500, 86, 87], [4500, 264, 265], [4506, 13, 12], [4516, 82, 83], [4519, 31, 32], [4519, 311, 312], [4521, 40, 41], [4521, 87, 88], [4533, 517, 518], [4533, 2162, 2161], [4538, 129, 128], [4540, 115, 114], [4540, 2406, 2405], [4540, 2473, 2472], [4548, 443, 444], [4562, 147, 148], [4572, 49, 50], [4591, 121, 120], [4596, 214, 215], [4609, 20, 21], [4613, 11, 12], [4616, 166, 167], [4630, 28, 29], [4651, 658, 659], [4658, 99, 100], [4658, 245, 246], [4668, 255, 256], [4668, 275, 276], [4668, 357, 358], [4669, 37, 38], [4669, 83, 84], [4669, 137, 138], [4669, 143, 144], [4671, 426, 427], [4671, 501, 502], [4671, 534, 535], [4671, 790, 791], [4683, 236, 237], [4694, 31, 32], [4694, 163, 164], [4694, 564, 565], [4697, 157, 158], [4707, 75, 76], [4707, 142, 143], [4719, 186, 187], [4726, 48, 49], [4726, 89, 90], [4726, 249, 250], [4734, 75, 76], [4739, 20, 21], [4739, 25, 26], [4739, 33, 34], [4739, 89, 90], [4739, 111, 112], [4741, 151, 152], [4741, 170, 171], [4741, 181, 182], [4741, 199, 200], [4753, 29, 30], [4781, 39, 40], [4785, 63, 64], [4785, 85, 86], [4785, 126, 127], [4821, 784, 785], [4837, 279, 280], [4837, 305, 306], [4846, 378, 379], [4856, 366, 367], [4866, 230, 231], [4873, 222, 223], [4873, 315, 316], [4873, 390, 391], [4873, 687, 688], [4873, 1002, 1003], [4904, 29, 30], [4924, 57, 58], [4924, 115, 116], [4938, 14, 15], [4963, 86, 87], [4963, 264, 265], [4966, 76, 77], [4979, 82, 83], [5038, 147, 148], [5042, 189, 190], [5064, 164, 165], [5112, 214, 215], [5126, 322, 323], [5171, 658, 659], [5229, 84, 85], [5241, 42, 43], [5241, 157, 158], [5272, 62, 63], [5272, 127, 128], [5272, 137, 138], [5272, 343, 344], [5296, 95, 96], [5296, 209, 210], [5296, 293, 294], [5296, 438, 439], [5305, 29, 30], [5321, 116, 117], [5321, 263, 264], [5321, 304, 305], [5468, 229, 230], [5468, 619, 620], [5468, 713, 714], [5468, 823, 824], [5612, 31, 32], [5612, 311, 312], [5620, 72, 73], [5620, 100, 101], [5620, 836, 837], [5620, 1458, 1459], [5712, 41, 42], [5712, 87, 88], [5718, 41, 42], [5718, 87, 88], [5723, 700, 701], [5730, 700, 701], [5762, 288, 289], [5762, 546, 547], [5845, 230, 231], [5881, 120, 121], [5881, 275, 276], [5949, 426, 427], [5949, 501, 502], [5949, 534, 535], [5949, 790, 791], [5964, 236, 237], [5974, 31, 32], [5974, 163, 164], [5974, 564, 565], [5977, 826, 827], [5981, 31, 32], [5981, 163, 164], [5981, 564, 565], [5988, 36, 37], [6060, 36, 35], [6068, 36, 35], [6144, 125, 126], [6144, 139, 140], [6146, 178, 179], [6190, 56, 55], [6190, 139, 138], [6207, 50, 51], [6223, 50, 51], [6234, 68, 69], [6331, 105, 106], [6331, 203, 202], [6333, 20, 19], [6333, 100, 101], [6333, 139, 138], [6333, 161, 162], [6333, 267, 266], [6362, 475, 476], [6367, 329, 330], [6430, 46, 47], [6430, 778, 777], [6439, 72, 73], [6439, 544, 545], [6468, 580, 581], [6479, 110, 111], [6491, 1450, 1451], [6491, 1541, 1542], [6522, 106, 105], [6543, 158, 157], [6545, 149, 150], [6546, 45, 46], [6546, 540, 541], [6546, 1090, 1091], [6546, 1177, 1178], [6546, 1198, 1199], [6560, 119, 118], [6567, 11, 12], [6610, 606, 607], [6618, 31, 32], [6635, 73, 74], [6635, 128, 129], [6643, 7, 8], [6684, 684, 685], [6707, 39, 40], [6707, 170, 169], [6717, 157, 156], [6780, 334, 333], [6932, 29, 30], [6947, 161, 160], [6963, 115, 116], [6968, 132, 133], [6968, 228, 229], [6970, 121, 120], [6998, 51, 50], [7008, 172, 173], [7033, 72, 73], [7048, 44, 45], [7057, 6, 7], [7057, 84, 85], [7057, 947, 948], [7057, 964, 965], [7062, 166, 167], [7073, 43, 44], [7073, 382, 383], [7129, 362, 363], [7138, 140, 141], [7141, 177, 178], [7168, 12, 13], [7168, 51, 52], [7168, 300, 301], [7175, 132, 133], [7193, 132, 133], [7239, 120, 121], [7267, 232, 233], [7275, 57, 56], [7300, 143, 144], [7335, 12, 13], [7347, 61, 62], [7404, 83, 82], [7405, 182, 183], [7405, 400, 401], [7428, 36, 37], [7445, 20, 21], [7445, 25, 26], [7445, 33, 34], [7445, 89, 90], [7445, 111, 112], [7474, 23, 24], [7479, 436, 437], [7479, 555, 556], [7479, 676, 677], [7479, 735, 736], [7497, 13, 14], [7497, 38, 39], [7500, 104, 103], [7542, 107, 106], [7547, 291, 292], [7553, 103, 102]]]\n",
            "[[80, 189, 314, 417, 417, 510, 510, 617, 617, 617, 617, 624, 624, 844, 887, 1331, 1331, 1526, 1601, 1704, 1704, 1706, 1707, 1707, 1708, 1711, 1719, 1719, 1724, 1727, 1727, 1732, 1732, 1736, 1736, 1743, 1743, 1743, 1745, 1748, 1748, 1749, 1751, 1753, 1753, 1763, 1769, 1769, 1769, 1770, 1770, 1770, 1770, 1776, 1776, 1779, 1782, 1787, 1787, 1787, 1790, 1798, 1798, 1798, 1798, 1798, 1798, 1798, 1800, 1803, 1803, 1804, 1809, 1809, 1809, 1812, 1818, 1820, 1837, 1837, 1837, 1842, 1842, 1842, 1851, 1854, 1862, 1875, 1879, 1883, 1887, 1893, 1893, 1893, 1906, 1909, 1910, 1910, 1913, 1916, 1926, 1926, 1926, 1926, 1926, 1928, 1928, 1931, 1931, 1932, 1934, 1934, 1934, 1935, 1935, 1936, 1937, 1938, 1938, 1938, 1938, 1939, 1939, 1939, 1939, 1939, 1939, 1939, 1940, 1940, 1940, 1940, 1940, 1941, 1943, 1943, 1947, 1948, 1948, 1948, 1948, 1948, 1948, 1948, 1948, 1949, 1949, 1949, 1957, 1957, 1957, 1957, 1967, 1967, 1969, 1969, 1969, 1972, 1974, 1984, 1987, 1989, 1990, 1992, 1992, 2002, 2002, 2005, 2005, 2005, 2005, 2005, 2012, 2012, 2015, 2015, 2015, 2015, 2015, 2022, 2023, 2023, 2023, 2023, 2023, 2023, 2023, 2023, 2023, 2023, 2023, 2023, 2023, 2023, 2023, 2025, 2030, 2030, 2030, 2030, 2030, 2031, 2031, 2031, 2032, 2037, 2037, 2037, 2038, 2038, 2038, 2039, 2043, 2045, 2045, 2047, 2053, 2054, 2058, 2058, 2058, 2058, 2058, 2061, 2071, 2071, 2082, 2082, 2083, 2084, 2084, 2084, 2084, 2084, 2084, 2084, 2084, 2084, 2087, 2087, 2088, 2088, 2088, 2088, 2088, 2089, 2089, 2092, 2093, 2093, 2093, 2099, 2099, 2103, 2105, 2105, 2115, 2116, 2116, 2117, 2125, 2129, 2129, 2131, 2137, 2142, 2149, 2149, 2150, 2150, 2150, 2150, 2151, 2154, 2170, 2170, 2170, 2170, 2170, 2170, 2170, 2170, 2170, 2177, 2178, 2178, 2178, 2178, 2178, 2180, 2180, 2180, 2180, 2180, 2181, 2198, 2198, 2198, 2198, 2201, 2201, 2201, 2202, 2205, 2205, 2209, 2209, 2209, 2210, 2210, 2210, 2212, 2214, 2214, 2217, 2217, 2219, 2221, 2221, 2221, 2221, 2221, 2221, 2221, 2222, 2222, 2224, 2228, 2236, 2243, 2259, 2259, 2260, 2260, 2263, 2263, 2263, 2266, 2266, 2266, 2266, 2280, 2283, 2283, 2293, 2295, 2295, 2295, 2295, 2295, 2296, 2296, 2296, 2298, 2298, 2298, 2300, 2301, 2302, 2302, 2304, 2305, 2305, 2308, 2312, 2313, 2313, 2313, 2313, 2313, 2313, 2313, 2313, 2313, 2313, 2314, 2314, 2314, 2314, 2314, 2315, 2319, 2324, 2332, 2335, 2339, 2339, 2341, 2344, 2344, 2344, 2344, 2344, 2344, 2344, 2345, 2345, 2345, 2346, 2350, 2350, 2352, 2354, 2354, 2354, 2355, 2359, 2359, 2359, 2363, 2365, 2365, 2367, 2367, 2367, 2369, 2370, 2370, 2370, 2370, 2370, 2375, 2375, 2376, 2376, 2376, 2381, 2381, 2385, 2385, 2386, 2386, 2386, 2390, 2390, 2392, 2392, 2392, 2402, 2402, 2402, 2402, 2406, 2406, 2406, 2406, 2413, 2413, 2413, 2413, 2413, 2413, 2414, 2414, 2414, 2414, 2414, 2414, 2416, 2417, 2422, 2426, 2426, 2426, 2426, 2426, 2438, 2438, 2438, 2438, 2438, 2438, 2438, 2443, 2443, 2443, 2443, 2443, 2443, 2445, 2445, 2445, 2445, 2459, 2462, 2466, 2470, 2474, 2479, 2481, 2481, 2482, 2482, 2482, 2482, 2484, 2485, 2486, 2487, 2488, 2489, 2489, 2490, 2492, 2495, 2495, 2495, 2495, 2500, 2507, 2507, 2507, 2511, 2511, 2511, 2511, 2520, 2521, 2521, 2521, 2521, 2521, 2521, 2521, 2521, 2524, 2524, 2524, 2524, 2527, 2527, 2527, 2528, 2530, 2536, 2536, 2536, 2537, 2538, 2539, 2539, 2539, 2539, 2539, 2539, 2539, 2539, 2539, 2539, 2539, 2541, 2541, 2541, 2541, 2541, 2543, 2543, 2543, 2543, 2545, 2545, 2545, 2551, 2559, 2559, 2559, 2559, 2559, 2559, 2559, 2559, 2559, 2559, 2559, 2559, 2559, 2559, 2561, 2564, 2566, 2566, 2567, 2567, 2567, 2567, 2567, 2569, 2569, 2569, 2570, 2570, 2570, 2572, 2572, 2572, 2572, 2577, 2577, 2577, 2577, 2578, 2582, 2582, 2586, 2588, 2588, 2588, 2588, 2588, 2588, 2589, 2589, 2591, 2591, 2591, 2591, 2591, 2593, 2593, 2605, 2610, 2610, 2610, 2610, 2610, 2611, 2611, 2611, 2611, 2615, 2615, 2615, 2615, 2615, 2615, 2615, 2616, 2616, 2616, 2635, 2635, 2635, 2635, 2636, 2639, 2640, 2640, 2640, 2640, 2640, 2643, 2643, 2643, 2643, 2644, 2645, 2645, 2651, 2651, 2651, 2666, 2668, 2675, 2679, 2679, 2679, 2679, 2681, 2681, 2683, 2685, 2685, 2686, 2686, 2686, 2687, 2687, 2687, 2687, 2687, 2687, 2687, 2687, 2687, 2688, 2688, 2688, 2688, 2688, 2689, 2689, 2689, 2689, 2691, 2693, 2693, 2693, 2704, 2709, 2709, 2709, 2709, 2709, 2709, 2709, 2709, 2715, 2715, 2722, 2722, 2722, 2723, 2723, 2723, 2725, 2725, 2725, 2725, 2725, 2725, 2726, 2726, 2727, 2727, 2727, 2727, 2727, 2730, 2736, 2737, 2737, 2741, 2741, 2743, 2743, 2743, 2743, 2743, 2751, 2751, 2759, 2770, 2770, 2770, 2770, 2770, 2781, 2781, 2781, 2781, 2781, 2781, 2781, 2781, 2781, 2781, 2781, 2781, 2784, 2784, 2784, 2785, 2785, 2785, 2785, 2785, 2785, 2788, 2796, 2796, 2796, 2801, 2801, 2801, 2801, 2801, 2805, 2805, 2805, 2805, 2805, 2805, 2805, 2811, 2811, 2811, 2811, 2812, 2813, 2814, 2814, 2814, 2814, 2814, 2815, 2816, 2816, 2824, 2827, 2827, 2837, 2839, 2839, 2839, 2839, 2844, 2844, 2844, 2844, 2846, 2846, 2849, 2849, 2849, 2853, 2857, 2859, 2860, 2860, 2860, 2860, 2860, 2864, 2864, 2864, 2864, 2864, 2864, 2866, 2866, 2866, 2866, 2873, 2875, 2875, 2875, 2876, 2879, 2879, 2879, 2879, 2879, 2879, 2883, 2883, 2886, 2889, 2889, 2890, 2894, 2894, 2895, 2895, 2895, 2895, 2902, 2902, 2904, 2905, 2910, 2911, 2911, 2912, 2917, 2917, 2917, 2917, 2917, 2917, 2917, 2917, 2917, 2917, 2917, 2917, 2917, 2918, 2919, 2919, 2920, 2924, 2924, 2924, 2924, 2924, 2924, 2924, 2924, 2924, 2924, 2924, 2924, 2925, 2926, 2926, 2927, 2927, 2930, 2933, 2934, 2934, 2939, 2940, 2940, 2940, 2940, 2940, 2940, 2940, 2940, 2940, 2940, 2942, 2943, 2944, 2944, 2945, 2945, 2946, 2947, 2950, 2950, 2950, 2952, 2954, 2957, 2957, 2963, 2963, 2963, 2963, 2980, 2980, 2989, 2989, 2989, 3022, 3028, 3035, 3035, 3035, 3035, 3035, 3035, 3035, 3037, 3039, 3046, 3046, 3046, 3046, 3046, 3049, 3051, 3051, 3051, 3051, 3051, 3051, 3051, 3051, 3051, 3051, 3051, 3051, 3051, 3051, 3051, 3051, 3052, 3052, 3052, 3057, 3063, 3064, 3064, 3072, 3072, 3072, 3072, 3074, 3081, 3082, 3082, 3082, 3082, 3082, 3086, 3086, 3086, 3086, 3086, 3086, 3089, 3089, 3089, 3089, 3089, 3089, 3093, 3093, 3093, 3093, 3097, 3097, 3097, 3097, 3097, 3097, 3097, 3097, 3097, 3097, 3097, 3097, 3097, 3097, 3097, 3097, 3097, 3097, 3097, 3097, 3097, 3097, 3097, 3097, 3104, 3106, 3112, 3113, 3114, 3114, 3124, 3124, 3127, 3127, 3127, 3127, 3127, 3129, 3129, 3129, 3130, 3133, 3133, 3133, 3137, 3137, 3137, 3137, 3137, 3137, 3137, 3137, 3137, 3137, 3137, 3137, 3145, 3145, 3145, 3145, 3145, 3145, 3145, 3157, 3157, 3157, 3157, 3159, 3163, 3164, 3172, 3175, 3175, 3175, 3178, 3178, 3178, 3190, 3195, 3196, 3199, 3199, 3200, 3200, 3200, 3200, 3200, 3200, 3201, 3201, 3201, 3201, 3201, 3204, 3210, 3210, 3211, 3211, 3219, 3222, 3226, 3226, 3227, 3227, 3227, 3227, 3228, 3228, 3228, 3228, 3228, 3228, 3228, 3228, 3228, 3228, 3228, 3228, 3230, 3236, 3238, 3243, 3246, 3246, 3246, 3249, 3249, 3251, 3251, 3251, 3254, 3256, 3256, 3258, 3258, 3258, 3258, 3258, 3262, 3262, 3270, 3275, 3275, 3275, 3283, 3283, 3283, 3284, 3293, 3298, 3305, 3307, 3307, 3308, 3308, 3308, 3308, 3308, 3312, 3330, 3330, 3330, 3330, 3330, 3330, 3341, 3345, 3345, 3345, 3352, 3354, 3358, 3358, 3358, 3358, 3358, 3358, 3362, 3362, 3362, 3362, 3362, 3362, 3362, 3362, 3362, 3362, 3362, 3362, 3362, 3362, 3362, 3362, 3363, 3371, 3371, 3372, 3372, 3372, 3372, 3385, 3386, 3386, 3386, 3386, 3386, 3386, 3398, 3398, 3398, 3399, 3399, 3399, 3399, 3400, 3400, 3423, 3423, 3437, 3441, 3441, 3453, 3453, 3455, 3457, 3457, 3457, 3457, 3458, 3458, 3669, 3779, 3779, 3856, 3856, 3856, 3856, 4020, 4020, 4020, 4020, 4238, 4238, 4238, 4334, 4348, 4349, 4356, 4389, 4412, 4423, 4423, 4435, 4439, 4439, 4439, 4439, 4442, 4444, 4445, 4453, 4453, 4453, 4456, 4466, 4466, 4466, 4490, 4500, 4500, 4506, 4506, 4506, 4506, 4506, 4506, 4512, 4516, 4519, 4519, 4521, 4521, 4533, 4548, 4561, 4562, 4572, 4596, 4609, 4613, 4616, 4627, 4627, 4630, 4631, 4651, 4658, 4658, 4667, 4668, 4668, 4668, 4668, 4669, 4669, 4669, 4669, 4671, 4671, 4671, 4671, 4683, 4690, 4694, 4694, 4694, 4697, 4707, 4707, 4707, 4719, 4726, 4726, 4726, 4726, 4734, 4739, 4739, 4739, 4739, 4741, 4741, 4741, 4741, 4747, 4747, 4752, 4753, 4781, 4785, 4785, 4785, 4821, 4837, 4837, 4846, 4856, 4866, 4873, 4873, 4873, 4873, 4873, 4904, 4924, 4924, 4938, 4963, 4963, 4966, 4979, 5038, 5042, 5064, 5112, 5126, 5154, 5171, 5229, 5241, 5241, 5272, 5272, 5272, 5272, 5272, 5285, 5285, 5296, 5296, 5296, 5296, 5305, 5321, 5321, 5321, 5468, 5468, 5468, 5468, 5612, 5612, 5620, 5620, 5620, 5620, 5682, 5686, 5712, 5712, 5718, 5718, 5723, 5730, 5762, 5762, 5845, 5848, 5859, 5881, 5881, 5949, 5949, 5949, 5949, 5964, 5974, 5974, 5974, 5977, 5981, 5981, 5981, 5988, 6144, 6144, 6153, 6160, 6207, 6223, 6234, 6269, 6272, 6331, 6333, 6333, 6367, 6430, 6468, 6479, 6481, 6490, 6491, 6491, 6491, 6491, 6491, 6491, 6491, 6491, 6496, 6516, 6545, 6546, 6546, 6546, 6567, 6567, 6567, 6567, 6567, 6569, 6589, 6593, 6593, 6593, 6605, 6611, 6618, 6634, 6643, 6650, 6664, 6664, 6684, 6751, 6754, 6770, 6780, 6780, 6791, 6888, 6950, 6963, 6968, 6968, 6998, 6998, 7008, 7008, 7008, 7008, 7008, 7048, 7049, 7057, 7057, 7057, 7057, 7057, 7062, 7073, 7073, 7093, 7129, 7134, 7138, 7141, 7147, 7168, 7168, 7175, 7193, 7234, 7239, 7252, 7267, 7300, 7335, 7345, 7345, 7347, 7348, 7350, 7350, 7350, 7392, 7405, 7405, 7405, 7428, 7428, 7445, 7445, 7445, 7445, 7474, 7479, 7479, 7479, 7479, 7479, 7479, 7479, 7479, 7479, 7497, 7497, 7500, 7500, 7522, 7547], [80, 314, 446, 617, 617, 617, 617, 617, 617, 617, 624, 624, 844, 844, 1331, 1331, 1601, 1704, 1706, 1708, 1710, 1711, 1724, 1732, 1732, 1732, 1743, 1743, 1748, 1748, 1749, 1753, 1753, 1753, 1763, 1763, 1763, 1769, 1769, 1769, 1773, 1773, 1776, 1776, 1787, 1787, 1787, 1798, 1798, 1798, 1798, 1798, 1798, 1799, 1803, 1803, 1804, 1809, 1809, 1809, 1812, 1820, 1830, 1837, 1837, 1837, 1839, 1842, 1854, 1906, 1909, 1910, 1910, 1913, 1916, 1926, 1926, 1926, 1926, 1928, 1928, 1931, 1932, 1934, 1934, 1934, 1934, 1935, 1935, 1935, 1936, 1937, 1938, 1938, 1938, 1938, 1939, 1939, 1939, 1939, 1939, 1939, 1940, 1940, 1940, 1940, 1941, 1943, 1943, 1946, 1948, 1948, 1948, 1948, 1948, 1948, 1948, 1949, 1949, 1949, 1957, 1957, 1957, 1957, 1957, 1967, 1967, 1969, 1969, 1969, 1972, 1974, 1984, 1987, 1990, 1992, 1992, 2002, 2002, 2005, 2005, 2005, 2005, 2012, 2012, 2023, 2023, 2023, 2023, 2023, 2025, 2030, 2030, 2030, 2030, 2030, 2030, 2031, 2031, 2031, 2032, 2037, 2037, 2039, 2045, 2045, 2047, 2048, 2049, 2053, 2054, 2058, 2058, 2058, 2058, 2058, 2061, 2071, 2071, 2082, 2082, 2083, 2084, 2084, 2084, 2088, 2088, 2088, 2088, 2088, 2093, 2093, 2093, 2093, 2093, 2094, 2094, 2099, 2099, 2103, 2103, 2103, 2103, 2105, 2105, 2115, 2116, 2116, 2117, 2125, 2131, 2137, 2142, 2149, 2149, 2149, 2150, 2151, 2154, 2163, 2170, 2170, 2170, 2177, 2178, 2178, 2178, 2178, 2178, 2180, 2181, 2198, 2198, 2198, 2198, 2201, 2201, 2201, 2202, 2209, 2209, 2209, 2210, 2210, 2210, 2212, 2214, 2214, 2217, 2219, 2221, 2221, 2224, 2228, 2232, 2236, 2243, 2249, 2255, 2260, 2260, 2263, 2266, 2266, 2266, 2280, 2283, 2283, 2283, 2295, 2295, 2296, 2296, 2296, 2298, 2300, 2301, 2304, 2305, 2305, 2308, 2313, 2313, 2313, 2313, 2313, 2313, 2313, 2313, 2314, 2314, 2314, 2314, 2314, 2315, 2319, 2320, 2322, 2324, 2335, 2344, 2344, 2344, 2345, 2345, 2346, 2350, 2350, 2352, 2354, 2354, 2355, 2359, 2359, 2363, 2365, 2365, 2369, 2370, 2370, 2375, 2376, 2376, 2376, 2381, 2381, 2386, 2386, 2386, 2392, 2392, 2396, 2402, 2402, 2402, 2402, 2404, 2406, 2406, 2406, 2406, 2414, 2414, 2414, 2414, 2417, 2422, 2426, 2426, 2426, 2426, 2427, 2438, 2438, 2438, 2443, 2443, 2443, 2443, 2445, 2445, 2445, 2445, 2462, 2463, 2466, 2470, 2474, 2479, 2481, 2481, 2482, 2482, 2482, 2482, 2484, 2486, 2487, 2488, 2488, 2490, 2491, 2492, 2492, 2492, 2495, 2495, 2495, 2495, 2495, 2495, 2507, 2507, 2507, 2507, 2511, 2511, 2520, 2521, 2521, 2521, 2521, 2521, 2521, 2521, 2521, 2521, 2524, 2524, 2524, 2524, 2527, 2528, 2530, 2536, 2536, 2537, 2538, 2539, 2539, 2539, 2539, 2539, 2539, 2539, 2539, 2539, 2539, 2539, 2541, 2541, 2542, 2543, 2543, 2543, 2547, 2547, 2551, 2552, 2559, 2559, 2559, 2559, 2561, 2564, 2566, 2569, 2569, 2569, 2570, 2570, 2572, 2572, 2572, 2572, 2577, 2577, 2577, 2577, 2582, 2582, 2588, 2588, 2588, 2588, 2588, 2588, 2589, 2589, 2591, 2591, 2593, 2598, 2603, 2603, 2603, 2605, 2610, 2610, 2614, 2615, 2615, 2615, 2615, 2615, 2615, 2615, 2616, 2616, 2616, 2620, 2625, 2635, 2635, 2635, 2635, 2635, 2635, 2636, 2640, 2640, 2640, 2640, 2640, 2643, 2643, 2643, 2645, 2645, 2651, 2651, 2652, 2660, 2667, 2668, 2674, 2679, 2683, 2685, 2685, 2685, 2686, 2686, 2686, 2686, 2687, 2687, 2687, 2687, 2687, 2687, 2687, 2687, 2689, 2689, 2689, 2691, 2694, 2704, 2704, 2709, 2709, 2709, 2709, 2715, 2715, 2715, 2722, 2722, 2723, 2725, 2725, 2726, 2727, 2727, 2727, 2728, 2728, 2728, 2728, 2728, 2732, 2734, 2736, 2737, 2737, 2737, 2737, 2741, 2741, 2743, 2743, 2743, 2743, 2745, 2751, 2751, 2757, 2757, 2767, 2770, 2770, 2770, 2781, 2781, 2781, 2781, 2781, 2781, 2781, 2781, 2781, 2781, 2782, 2782, 2784, 2784, 2784, 2785, 2785, 2785, 2785, 2785, 2785, 2792, 2796, 2796, 2796, 2796, 2801, 2801, 2801, 2801, 2801, 2805, 2805, 2805, 2805, 2805, 2805, 2805, 2805, 2805, 2811, 2811, 2811, 2811, 2812, 2814, 2814, 2814, 2814, 2814, 2814, 2816, 2816, 2816, 2816, 2818, 2820, 2827, 2827, 2837, 2837, 2837, 2837, 2837, 2839, 2844, 2844, 2844, 2844, 2846, 2846, 2849, 2849, 2849, 2853, 2857, 2860, 2864, 2864, 2864, 2864, 2864, 2864, 2864, 2866, 2866, 2866, 2866, 2873, 2875, 2875, 2876, 2879, 2879, 2879, 2879, 2879, 2879, 2883, 2883, 2884, 2886, 2889, 2889, 2894, 2894, 2895, 2895, 2895, 2895, 2902, 2902, 2904, 2905, 2910, 2911, 2911, 2912, 2918, 2919, 2919, 2920, 2924, 2924, 2924, 2924, 2924, 2924, 2924, 2924, 2924, 2924, 2924, 2924, 2924, 2924, 2925, 2926, 2926, 2927, 2927, 2928, 2930, 2933, 2934, 2939, 2940, 2940, 2940, 2940, 2940, 2940, 2940, 2940, 2940, 2940, 2942, 2943, 2944, 2944, 2945, 2950, 2950, 2989, 2989, 2989, 3022, 3028, 3035, 3035, 3035, 3035, 3035, 3035, 3035, 3035, 3035, 3037, 3046, 3046, 3046, 3046, 3046, 3046, 3049, 3049, 3051, 3051, 3051, 3051, 3051, 3051, 3051, 3051, 3051, 3051, 3051, 3051, 3051, 3052, 3057, 3063, 3064, 3064, 3072, 3081, 3082, 3089, 3089, 3089, 3089, 3089, 3093, 3093, 3093, 3093, 3097, 3104, 3113, 3114, 3114, 3124, 3124, 3127, 3129, 3129, 3129, 3130, 3137, 3137, 3137, 3137, 3137, 3137, 3137, 3137, 3137, 3137, 3137, 3145, 3145, 3145, 3145, 3145, 3145, 3145, 3157, 3157, 3157, 3157, 3164, 3164, 3175, 3175, 3175, 3178, 3178, 3178, 3195, 3196, 3199, 3199, 3201, 3201, 3201, 3201, 3201, 3204, 3211, 3211, 3218, 3222, 3226, 3226, 3227, 3227, 3228, 3228, 3228, 3228, 3228, 3228, 3228, 3236, 3238, 3243, 3246, 3246, 3246, 3249, 3251, 3251, 3251, 3254, 3256, 3256, 3258, 3258, 3258, 3258, 3258, 3262, 3262, 3270, 3271, 3275, 3275, 3283, 3283, 3293, 3298, 3308, 3308, 3308, 3312, 3330, 3330, 3330, 3330, 3330, 3330, 3330, 3337, 3341, 3345, 3345, 3345, 3354, 3358, 3358, 3362, 3362, 3362, 3362, 3362, 3363, 3371, 3371, 3372, 3372, 3380, 3386, 3386, 3386, 3386, 3398, 3398, 3398, 3399, 3399, 3399, 3399, 3400, 3400, 3417, 3417, 3437, 3441, 3441, 3453, 3453, 3455, 3455, 3457, 3458, 3458, 3461, 3669, 3779, 3835, 3856, 3856, 3856, 3856, 4020, 4020, 4020, 4020, 4238, 4238, 4238, 4245, 4306, 4334, 4342, 4348, 4349, 4356, 4389, 4412, 4423, 4435, 4439, 4439, 4439, 4439, 4441, 4442, 4444, 4444, 4445, 4453, 4453, 4466, 4490, 4490, 4490, 4500, 4500, 4506, 4516, 4519, 4519, 4521, 4521, 4533, 4533, 4538, 4540, 4540, 4540, 4548, 4562, 4572, 4591, 4596, 4609, 4613, 4616, 4630, 4651, 4658, 4658, 4668, 4668, 4668, 4669, 4669, 4669, 4669, 4671, 4671, 4671, 4671, 4683, 4694, 4694, 4694, 4697, 4707, 4707, 4719, 4726, 4726, 4726, 4734, 4739, 4739, 4739, 4739, 4739, 4741, 4741, 4741, 4741, 4753, 4781, 4785, 4785, 4785, 4821, 4837, 4837, 4846, 4856, 4866, 4873, 4873, 4873, 4873, 4873, 4904, 4924, 4924, 4938, 4963, 4963, 4966, 4979, 5038, 5042, 5064, 5112, 5126, 5171, 5229, 5241, 5241, 5272, 5272, 5272, 5272, 5296, 5296, 5296, 5296, 5305, 5321, 5321, 5321, 5468, 5468, 5468, 5468, 5612, 5612, 5620, 5620, 5620, 5620, 5712, 5712, 5718, 5718, 5723, 5730, 5762, 5762, 5845, 5881, 5881, 5949, 5949, 5949, 5949, 5964, 5974, 5974, 5974, 5977, 5981, 5981, 5981, 5988, 6060, 6068, 6144, 6144, 6146, 6190, 6190, 6207, 6223, 6234, 6331, 6331, 6333, 6333, 6333, 6333, 6333, 6362, 6367, 6430, 6430, 6439, 6439, 6468, 6479, 6491, 6491, 6522, 6543, 6545, 6546, 6546, 6546, 6546, 6546, 6560, 6567, 6610, 6618, 6635, 6635, 6643, 6684, 6707, 6707, 6717, 6780, 6932, 6947, 6963, 6968, 6968, 6970, 6998, 7008, 7033, 7048, 7057, 7057, 7057, 7057, 7062, 7073, 7073, 7129, 7138, 7141, 7168, 7168, 7168, 7175, 7193, 7239, 7267, 7275, 7300, 7335, 7347, 7404, 7405, 7405, 7428, 7445, 7445, 7445, 7445, 7445, 7474, 7479, 7479, 7479, 7479, 7497, 7497, 7500, 7542, 7547, 7553]]\n",
            "1555 results in 29.843999999999998 ms\n"
          ]
        }
      ]
    },
    {
      "cell_type": "code",
      "source": [
        "def zipfs_law():\n",
        "  print(sorted(length_dict_non_posting, key=lambda x: x,reverse=True)[:20])\n"
      ],
      "metadata": {
        "id": "rUCrGDr9q-YE"
      },
      "execution_count": null,
      "outputs": []
    },
    {
      "cell_type": "code",
      "source": [
        "zipfs_law()"
      ],
      "metadata": {
        "id": "zrTkgnlgsTTp",
        "colab": {
          "base_uri": "https://localhost:8080/"
        },
        "outputId": "a0f59392-8855-46af-c56d-a948015dd83f"
      },
      "execution_count": null,
      "outputs": [
        {
          "output_type": "stream",
          "name": "stdout",
          "text": [
            "['💬', 'ﻭ', 'ﻫﻤﭽﻨﯿﻦ', 'ﻫﯿﺄﺕ', 'ﻧﻮﺑﻪ', 'ﻧﻮﭘﺎی', 'ﻧﻤﺎد', 'ﻧﻈﺎم', 'ﻧﺎﺭﻭﺍ', 'ﻧﺎﮐﺎم', 'ﻣﻮﻗﻌﯿﺖ', 'ﻣﻮﺍﺭﺩ', 'ﻣﻬﻤﺘﺮﯾﻦ', 'ﻣﻬﻢ', 'ﻣﻨﻄﻘﻪ\\u200cای', 'ﻣﻨﺪﯼ', 'ﻣﻨﺎﻃﻖ', 'ﻣﻠﺖ', 'ﻣﻘﺮﺭﺍﺕ', 'ﻣﺮﺣﻠﻪ']\n"
          ]
        }
      ]
    },
    {
      "cell_type": "code",
      "source": [
        "def heap_law():\n",
        "  count = 1000\n",
        "  normalizer = Normalizer()\n",
        "  dictionary_heap = collections.defaultdict(list)\n",
        "  for i in range(count):\n",
        "    tokenizes = []\n",
        "    tokenizes = word_tokenize(content[i])\n",
        "    tokenizes = stem_stop(tokenizes)\n",
        "    tokenizes_count = dict(collections.Counter(tokenizes))\n",
        "    for key , value in tokenizes_count.items():\n",
        "        if key not in stopwords:\n",
        "          index = []\n",
        "          pos_index = position_find(key , tokenizes)\n",
        "          index.append(i)\n",
        "          index.append(value)\n",
        "          index.append(pos_index)\n",
        "          dictionary_heap[key].append(index)\n",
        "  sum = 0\n",
        "  for key , value in dictionary_heap.items():\n",
        "    for x in value:\n",
        "      sum += x[1]\n",
        "  \n",
        "  print(\"sum for tokens for \",count,\" document is: \",sum,\" and length of vocabulary(M) is : \", len(list(dictionary_heap.keys())))"
      ],
      "metadata": {
        "id": "M-twjunisTR6"
      },
      "execution_count": null,
      "outputs": []
    },
    {
      "cell_type": "code",
      "source": [
        "heap_law()"
      ],
      "metadata": {
        "id": "nOVJqoDgu5fc",
        "colab": {
          "base_uri": "https://localhost:8080/"
        },
        "outputId": "b5f5663d-a4d4-46bb-bd65-be0934956fe9"
      },
      "execution_count": null,
      "outputs": [
        {
          "output_type": "stream",
          "name": "stdout",
          "text": [
            "sum for tokens for  1000  document is:  142881  and length of vocabulary(M) is :  9195\n"
          ]
        }
      ]
    }
  ]
}